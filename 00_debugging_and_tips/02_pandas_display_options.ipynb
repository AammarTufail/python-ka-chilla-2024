{
 "cells": [
  {
   "cell_type": "markdown",
   "id": "6fea95f0",
   "metadata": {},
   "source": [
    "# Handling Large Financial Data in Pandas"
   ]
  },
  {
   "cell_type": "markdown",
   "id": "8f5e10d6",
   "metadata": {},
   "source": [
    "In this notebook, we'll generate a sample financial dataset with large numbers, and explore solution to display these values in full without scientific notation."
   ]
  },
  {
   "cell_type": "markdown",
   "id": "0a5419b6",
   "metadata": {},
   "source": [
    "- Data is usually having large numbers in financial domain, and it's important to `display these numbers in full without scientific notation`. Pandas by default displays large numbers in scientific notation, which is not very readable.\n",
    "- Also, `thousand separators` are not displayed by default in Pandas."
   ]
  },
  {
   "cell_type": "markdown",
   "id": "53494af4",
   "metadata": {},
   "source": [
    "## Step 1: Generating Sample Data"
   ]
  },
  {
   "cell_type": "markdown",
   "id": "d5daf863",
   "metadata": {},
   "source": [
    "We begin by creating a sample dataset with large financial numbers."
   ]
  },
  {
   "cell_type": "code",
   "execution_count": 2,
   "id": "9a9fc381",
   "metadata": {},
   "outputs": [
    {
     "data": {
      "text/html": [
       "<div>\n",
       "<style scoped>\n",
       "    .dataframe tbody tr th:only-of-type {\n",
       "        vertical-align: middle;\n",
       "    }\n",
       "\n",
       "    .dataframe tbody tr th {\n",
       "        vertical-align: top;\n",
       "    }\n",
       "\n",
       "    .dataframe thead th {\n",
       "        text-align: right;\n",
       "    }\n",
       "</style>\n",
       "<table border=\"1\" class=\"dataframe\">\n",
       "  <thead>\n",
       "    <tr style=\"text-align: right;\">\n",
       "      <th></th>\n",
       "      <th>Company</th>\n",
       "      <th>Revenue</th>\n",
       "      <th>Profit</th>\n",
       "    </tr>\n",
       "  </thead>\n",
       "  <tbody>\n",
       "    <tr>\n",
       "      <th>0</th>\n",
       "      <td>Company A</td>\n",
       "      <td>1.234568e+08</td>\n",
       "      <td>2.345679e+07</td>\n",
       "    </tr>\n",
       "    <tr>\n",
       "      <th>1</th>\n",
       "      <td>Company B</td>\n",
       "      <td>9.876543e+08</td>\n",
       "      <td>8.765432e+14</td>\n",
       "    </tr>\n",
       "    <tr>\n",
       "      <th>2</th>\n",
       "      <td>Company C</td>\n",
       "      <td>5.647383e+16</td>\n",
       "      <td>3.473829e+07</td>\n",
       "    </tr>\n",
       "  </tbody>\n",
       "</table>\n",
       "</div>"
      ],
      "text/plain": [
       "     Company       Revenue        Profit\n",
       "0  Company A  1.234568e+08  2.345679e+07\n",
       "1  Company B  9.876543e+08  8.765432e+14\n",
       "2  Company C  5.647383e+16  3.473829e+07"
      ]
     },
     "execution_count": 2,
     "metadata": {},
     "output_type": "execute_result"
    }
   ],
   "source": [
    "import pandas as pd\n",
    "\n",
    "# Sample data with large financial values\n",
    "data = {\n",
    "    'Company': ['Company A', 'Company B', 'Company C'],\n",
    "    'Revenue': [123456789, 987654321.34, 56473829100000000],\n",
    "    'Profit': [23456789, 876543211500000, 34738291.678]\n",
    "}\n",
    "df = pd.DataFrame(data)\n",
    "df"
   ]
  },
  {
   "cell_type": "code",
   "execution_count": 6,
   "id": "d821ce8a",
   "metadata": {},
   "outputs": [
    {
     "data": {
      "text/html": [
       "<div>\n",
       "<style scoped>\n",
       "    .dataframe tbody tr th:only-of-type {\n",
       "        vertical-align: middle;\n",
       "    }\n",
       "\n",
       "    .dataframe tbody tr th {\n",
       "        vertical-align: top;\n",
       "    }\n",
       "\n",
       "    .dataframe thead th {\n",
       "        text-align: right;\n",
       "    }\n",
       "</style>\n",
       "<table border=\"1\" class=\"dataframe\">\n",
       "  <thead>\n",
       "    <tr style=\"text-align: right;\">\n",
       "      <th></th>\n",
       "      <th>Company</th>\n",
       "      <th>Revenue</th>\n",
       "      <th>Profit</th>\n",
       "    </tr>\n",
       "  </thead>\n",
       "  <tbody>\n",
       "    <tr>\n",
       "      <th>0</th>\n",
       "      <td>Company A</td>\n",
       "      <td>123456789.00</td>\n",
       "      <td>23456789.00</td>\n",
       "    </tr>\n",
       "    <tr>\n",
       "      <th>1</th>\n",
       "      <td>Company B</td>\n",
       "      <td>987654321.34</td>\n",
       "      <td>876543211500000.00</td>\n",
       "    </tr>\n",
       "    <tr>\n",
       "      <th>2</th>\n",
       "      <td>Company C</td>\n",
       "      <td>56473829100000000.00</td>\n",
       "      <td>34738291.68</td>\n",
       "    </tr>\n",
       "  </tbody>\n",
       "</table>\n",
       "</div>"
      ],
      "text/plain": [
       "     Company              Revenue             Profit\n",
       "0  Company A         123456789.00        23456789.00\n",
       "1  Company B         987654321.34 876543211500000.00\n",
       "2  Company C 56473829100000000.00        34738291.68"
      ]
     },
     "execution_count": 6,
     "metadata": {},
     "output_type": "execute_result"
    }
   ],
   "source": [
    "# display the numbers without scientific notation\n",
    "pd.options.display.float_format = '{:.2f}'.format\n",
    "df"
   ]
  },
  {
   "cell_type": "markdown",
   "id": "d2996625",
   "metadata": {},
   "source": [
    "## Step-2: Formatting with Apply and Lambda\n",
    "\n",
    "We can use `apply` with `lambda` to format large numbers with commas for thousands, allowing more control over the displayed format.\n",
    "\n",
    "**Breakdown:**\n",
    "- `lambda x:` Defines an anonymous function with a single argument x, which represents each value in the Profit column.\n",
    "- `f'{x:,.0f}'`: Formats x as a string with commas separating thousands, millions, etc., and 0f to show no decimal places.\n",
    ">For instance, if x is 123456789, the lambda function converts it to \"123,456,789\"."
   ]
  },
  {
   "cell_type": "code",
   "execution_count": 9,
   "id": "7804b551",
   "metadata": {},
   "outputs": [
    {
     "data": {
      "text/html": [
       "<div>\n",
       "<style scoped>\n",
       "    .dataframe tbody tr th:only-of-type {\n",
       "        vertical-align: middle;\n",
       "    }\n",
       "\n",
       "    .dataframe tbody tr th {\n",
       "        vertical-align: top;\n",
       "    }\n",
       "\n",
       "    .dataframe thead th {\n",
       "        text-align: right;\n",
       "    }\n",
       "</style>\n",
       "<table border=\"1\" class=\"dataframe\">\n",
       "  <thead>\n",
       "    <tr style=\"text-align: right;\">\n",
       "      <th></th>\n",
       "      <th>Company</th>\n",
       "      <th>Revenue</th>\n",
       "      <th>Profit</th>\n",
       "    </tr>\n",
       "  </thead>\n",
       "  <tbody>\n",
       "    <tr>\n",
       "      <th>0</th>\n",
       "      <td>Company A</td>\n",
       "      <td>123,456,789</td>\n",
       "      <td>23,456,789</td>\n",
       "    </tr>\n",
       "    <tr>\n",
       "      <th>1</th>\n",
       "      <td>Company B</td>\n",
       "      <td>987,654,321</td>\n",
       "      <td>876,543,211,500,000</td>\n",
       "    </tr>\n",
       "    <tr>\n",
       "      <th>2</th>\n",
       "      <td>Company C</td>\n",
       "      <td>56,473,829,100,000,000</td>\n",
       "      <td>34,738,292</td>\n",
       "    </tr>\n",
       "  </tbody>\n",
       "</table>\n",
       "</div>"
      ],
      "text/plain": [
       "     Company                 Revenue               Profit\n",
       "0  Company A             123,456,789           23,456,789\n",
       "1  Company B             987,654,321  876,543,211,500,000\n",
       "2  Company C  56,473,829,100,000,000           34,738,292"
      ]
     },
     "execution_count": 9,
     "metadata": {},
     "output_type": "execute_result"
    }
   ],
   "source": [
    "# Format columns with commas\n",
    "df_solution = df.copy()\n",
    "df_solution['Revenue'] = df_solution['Revenue'].apply(lambda x: f'{x:,.0f}') # f-string formatting with commas \n",
    "df_solution['Profit'] = df_solution['Profit'].apply(lambda x: f'{x:,.0f}') # f-string formatting with commas\n",
    "\n",
    "df_solution"
   ]
  },
  {
   "cell_type": "markdown",
   "id": "a4d25b19",
   "metadata": {},
   "source": [
    "## to reset the options\n",
    "\n",
    "If you do not need this anymore. You can reset the options to default using `pd.reset_option('display.float_format')`."
   ]
  },
  {
   "cell_type": "code",
   "execution_count": 10,
   "id": "bb3b7f14",
   "metadata": {},
   "outputs": [],
   "source": [
    "pd.reset_option('display.float_format')"
   ]
  }
 ],
 "metadata": {
  "kernelspec": {
   "display_name": "data_analysis",
   "language": "python",
   "name": "python3"
  },
  "language_info": {
   "codemirror_mode": {
    "name": "ipython",
    "version": 3
   },
   "file_extension": ".py",
   "mimetype": "text/x-python",
   "name": "python",
   "nbconvert_exporter": "python",
   "pygments_lexer": "ipython3",
   "version": "3.10.0"
  }
 },
 "nbformat": 4,
 "nbformat_minor": 5
}
