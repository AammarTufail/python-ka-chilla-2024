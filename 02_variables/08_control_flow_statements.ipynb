{
 "cells": [
  {
   "cell_type": "markdown",
   "metadata": {},
   "source": [
    "# Control Flow Statements"
   ]
  },
  {
   "cell_type": "markdown",
   "metadata": {},
   "source": [
    "# If, elif, else"
   ]
  },
  {
   "cell_type": "code",
   "execution_count": 7,
   "metadata": {},
   "outputs": [
    {
     "name": "stdout",
     "output_type": "stream",
     "text": [
      "You should enrol in a school with Form-B.\n"
     ]
    }
   ],
   "source": [
    "age = 6\n",
    "if age >= 18:\n",
    "    print(\"You are eligible to vote.\")\n",
    "elif age <= 5:\n",
    "    print(\"You are still a toddler.\")\n",
    "elif age >=6 and age <= 10:\n",
    "    print(\"You should enrol in a school with Form-B.\")\n",
    "else:\n",
    "    print(\"Abhi chotay ho ap.\")"
   ]
  },
  {
   "cell_type": "markdown",
   "metadata": {},
   "source": [
    "# Examples"
   ]
  },
  {
   "cell_type": "code",
   "execution_count": 11,
   "metadata": {},
   "outputs": [
    {
     "name": "stdout",
     "output_type": "stream",
     "text": [
      "It's a hot day. Thanda pani pee lo\n"
     ]
    }
   ],
   "source": [
    "temp = 32\n",
    "\n",
    "if temp >= 30:\n",
    "    print(\"It's a hot day. Thanda pani pee lo\")\n",
    "elif temp <= 10:\n",
    "    print(\"It's a cold day. Garam chai pee lo.\")\n",
    "else:\n",
    "    print(\"It's neither hot nor cold. Enjoy the weather.\")"
   ]
  },
  {
   "cell_type": "code",
   "execution_count": 14,
   "metadata": {},
   "outputs": [
    {
     "name": "stdout",
     "output_type": "stream",
     "text": [
      "It's a normal day. let's have Aalo Gobhi.\n"
     ]
    }
   ],
   "source": [
    "occassion = \"Eid\"\n",
    "\n",
    "if occassion == \"Eid-ul_Fitr\":\n",
    "    print(\"Let's prepare some Sheer Khurma.\")\n",
    "elif occassion == \"Eid-ul_Adha\":\n",
    "    print(\"Let's prepare some Kebab.\")\n",
    "else:\n",
    "    print(\"It's a normal day. let's have Aalo Gobhi.\")"
   ]
  },
  {
   "cell_type": "markdown",
   "metadata": {},
   "source": [
    "## Nested If statements"
   ]
  },
  {
   "cell_type": "code",
   "execution_count": 16,
   "metadata": {},
   "outputs": [
    {
     "name": "stdout",
     "output_type": "stream",
     "text": [
      "You are eligible to drive.\n"
     ]
    }
   ],
   "source": [
    "age = 18\n",
    "license = True\n",
    "\n",
    "if age >= 18:\n",
    "    if license:\n",
    "        print(\"You are eligible to drive.\")\n",
    "    else:\n",
    "        print(\"You are not eligible to drive, you need a license.\")\n",
    "else:\n",
    "    print(\"You are not eligible to drive.\")"
   ]
  }
 ],
 "metadata": {
  "kernelspec": {
   "display_name": "python_basics",
   "language": "python",
   "name": "python3"
  },
  "language_info": {
   "codemirror_mode": {
    "name": "ipython",
    "version": 3
   },
   "file_extension": ".py",
   "mimetype": "text/x-python",
   "name": "python",
   "nbconvert_exporter": "python",
   "pygments_lexer": "ipython3",
   "version": "3.10.14"
  }
 },
 "nbformat": 4,
 "nbformat_minor": 2
}
