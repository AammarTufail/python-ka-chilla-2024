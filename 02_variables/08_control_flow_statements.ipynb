{
 "cells": [
  {
   "cell_type": "markdown",
   "metadata": {},
   "source": [
    "# Control Flow Statements"
   ]
  },
  {
   "cell_type": "markdown",
   "metadata": {},
   "source": [
    "# If, elif, else"
   ]
  },
  {
   "cell_type": "code",
   "execution_count": 7,
   "metadata": {},
   "outputs": [
    {
     "name": "stdout",
     "output_type": "stream",
     "text": [
      "You should enrol in a school with Form-B.\n"
     ]
    }
   ],
   "source": [
    "age = 6\n",
    "if age >= 18:\n",
    "    print(\"You are eligible to vote.\")\n",
    "elif age <= 5:\n",
    "    print(\"You are still a toddler.\")\n",
    "elif age >=6 and age <= 10:\n",
    "    print(\"You should enrol in a school with Form-B.\")\n",
    "else:\n",
    "    print(\"Abhi chotay ho ap.\")"
   ]
  },
  {
   "cell_type": "markdown",
   "metadata": {},
   "source": [
    "# Examples"
   ]
  },
  {
   "cell_type": "code",
   "execution_count": 11,
   "metadata": {},
   "outputs": [
    {
     "name": "stdout",
     "output_type": "stream",
     "text": [
      "It's a hot day. Thanda pani pee lo\n"
     ]
    }
   ],
   "source": [
    "temp = 32\n",
    "\n",
    "if temp >= 30:\n",
    "    print(\"It's a hot day. Thanda pani pee lo\")\n",
    "elif temp <= 10:\n",
    "    print(\"It's a cold day. Garam chai pee lo.\")\n",
    "else:\n",
    "    print(\"It's neither hot nor cold. Enjoy the weather.\")"
   ]
  },
  {
   "cell_type": "code",
   "execution_count": 14,
   "metadata": {},
   "outputs": [
    {
     "name": "stdout",
     "output_type": "stream",
     "text": [
      "It's a normal day. let's have Aalo Gobhi.\n"
     ]
    }
   ],
   "source": [
    "occassion = \"Eid\"\n",
    "\n",
    "if occassion == \"Eid-ul_Fitr\":\n",
    "    print(\"Let's prepare some Sheer Khurma.\")\n",
    "elif occassion == \"Eid-ul_Adha\":\n",
    "    print(\"Let's prepare some Kebab.\")\n",
    "else:\n",
    "    print(\"It's a normal day. let's have Aalo Gobhi.\")"
   ]
  },
  {
   "cell_type": "markdown",
   "metadata": {},
   "source": [
    "## Nested If statements"
   ]
  },
  {
   "cell_type": "code",
   "execution_count": 16,
   "metadata": {},
   "outputs": [
    {
     "name": "stdout",
     "output_type": "stream",
     "text": [
      "You are eligible to drive.\n"
     ]
    }
   ],
   "source": [
    "age = 18\n",
    "license = True\n",
    "\n",
    "if age >= 18:\n",
    "    if license:\n",
    "        print(\"You are eligible to drive.\")\n",
    "    else:\n",
    "        print(\"You are not eligible to drive, you need a license.\")\n",
    "else:\n",
    "    print(\"You are not eligible to drive.\")"
   ]
  },
  {
   "cell_type": "markdown",
   "metadata": {},
   "source": [
    "# Loops"
   ]
  },
  {
   "cell_type": "markdown",
   "metadata": {},
   "source": [
    "## 1. for loop"
   ]
  },
  {
   "cell_type": "code",
   "execution_count": 18,
   "metadata": {},
   "outputs": [
    {
     "name": "stdout",
     "output_type": "stream",
     "text": [
      "Aammar\n",
      "Bilal\n",
      "Qasim\n",
      "Shahid\n",
      "Tariq\n",
      "Umer\n"
     ]
    }
   ],
   "source": [
    "print(\"Aammar\")\n",
    "print(\"Bilal\")\n",
    "print(\"Qasim\")\n",
    "print(\"Shahid\")\n",
    "print(\"Tariq\")\n",
    "print(\"Umer\")"
   ]
  },
  {
   "cell_type": "code",
   "execution_count": 23,
   "metadata": {},
   "outputs": [
    {
     "name": "stdout",
     "output_type": "stream",
     "text": [
      "Aammar\n",
      "Bilal\n",
      "Qasim\n",
      "Shahid\n",
      "Tariq\n",
      "Umer\n"
     ]
    }
   ],
   "source": [
    "list = [\"Aammar\", \"Bilal\", \"Qasim\", \"Shahid\", \"Tariq\", \"Umer\"]\n",
    "\n",
    "for item in list:\n",
    "    print(item)"
   ]
  },
  {
   "cell_type": "markdown",
   "metadata": {},
   "source": [
    "## While loop"
   ]
  },
  {
   "cell_type": "code",
   "execution_count": 37,
   "metadata": {},
   "outputs": [
    {
     "name": "stdout",
     "output_type": "stream",
     "text": [
      "I want more chai.\n",
      "I want more chai.\n",
      "I have had enough chai.\n"
     ]
    }
   ],
   "source": [
    "cups_of_chai = 0\n",
    "\n",
    "while cups_of_chai < 2:\n",
    "    print(\"I want more chai.\")\n",
    "    cups_of_chai += 1\n",
    "\n",
    "print(\"I have had enough chai.\")"
   ]
  },
  {
   "cell_type": "markdown",
   "metadata": {},
   "source": [
    "## Break and Continue"
   ]
  },
  {
   "cell_type": "code",
   "execution_count": 42,
   "metadata": {},
   "outputs": [
    {
     "name": "stdout",
     "output_type": "stream",
     "text": [
      "I want more chai.\n",
      "I have had 1 cups of chai.\n",
      "I want more chai.\n",
      "I have had 2 cups of chai.\n",
      "I want more chai.\n",
      "Too much chai, stopping now.\n"
     ]
    }
   ],
   "source": [
    "cups_of_chai = 0\n",
    "\n",
    "while cups_of_chai < 200000:\n",
    "    cups_of_chai += 1\n",
    "    print(\"I want more chai.\")\n",
    "    if cups_of_chai == 3:\n",
    "        print(\"Too much chai, stopping now.\")\n",
    "        break\n",
    "    print(\"I have had\", cups_of_chai, \"cups of chai.\")"
   ]
  },
  {
   "cell_type": "markdown",
   "metadata": {},
   "source": [
    "## continue "
   ]
  },
  {
   "cell_type": "code",
   "execution_count": 44,
   "metadata": {},
   "outputs": [
    {
     "name": "stdout",
     "output_type": "stream",
     "text": [
      "I want more chai.\n",
      "I have had 1 cups of chai.\n",
      "I want more chai.\n",
      "I have had 2 cups of chai.\n",
      "I want more chai.\n",
      "Too much chai, stopping now.\n",
      "I want more chai.\n",
      "I have had 4 cups of chai.\n",
      "I want more chai.\n",
      "I have had 5 cups of chai.\n"
     ]
    }
   ],
   "source": [
    "cups_of_chai = 0\n",
    "\n",
    "while cups_of_chai < 5:\n",
    "    cups_of_chai += 1\n",
    "    print(\"I want more chai.\")\n",
    "    if cups_of_chai == 3:\n",
    "        print(\"Too much chai, stopping now.\")\n",
    "        continue\n",
    "    print(\"I have had\", cups_of_chai, \"cups of chai.\")"
   ]
  },
  {
   "cell_type": "markdown",
   "metadata": {},
   "source": [
    "## Range function in loops"
   ]
  },
  {
   "cell_type": "code",
   "execution_count": 47,
   "metadata": {},
   "outputs": [
    {
     "name": "stdout",
     "output_type": "stream",
     "text": [
      "Chai is ready, Chai cup 1 Served.\n",
      "Chai is ready, Chai cup 3 Served.\n",
      "Chai is ready, Chai cup 5 Served.\n",
      "Chai is ready, Chai cup 7 Served.\n",
      "Chai is ready, Chai cup 9 Served.\n"
     ]
    }
   ],
   "source": [
    "for cup in range(1, 10, 2):\n",
    "    print(\"Chai is ready, Chai cup\", cup, \"Served.\")"
   ]
  },
  {
   "cell_type": "markdown",
   "metadata": {},
   "source": [
    "# Infinite loops"
   ]
  },
  {
   "cell_type": "code",
   "execution_count": null,
   "metadata": {},
   "outputs": [],
   "source": [
    "while True:\n",
    "    print(\"This loop will run forever.\")\n",
    "    break # you need to be carefull while runnign this loop."
   ]
  },
  {
   "cell_type": "code",
   "execution_count": 58,
   "metadata": {},
   "outputs": [
    {
     "name": "stdout",
     "output_type": "stream",
     "text": [
      "This loop will run forever.\n",
      "This loop will run forever.\n"
     ]
    }
   ],
   "source": [
    "count = 0\n",
    "\n",
    "while True:\n",
    "    count += 1\n",
    "    print(\"This loop will run forever.\")\n",
    "    if count == 2:\n",
    "        break"
   ]
  },
  {
   "cell_type": "markdown",
   "metadata": {},
   "source": [
    "## Pass statement"
   ]
  },
  {
   "cell_type": "code",
   "execution_count": 64,
   "metadata": {},
   "outputs": [
    {
     "name": "stdout",
     "output_type": "stream",
     "text": [
      "I want more chai.\n",
      "I have had 1 cups of chai.\n",
      "I want more chai.\n",
      "I have had 2 cups of chai.\n",
      "I want more chai.\n",
      "Too much chai, stopping now.\n",
      "I have had 3 cups of chai.\n",
      "I want more chai.\n",
      "I have had 4 cups of chai.\n",
      "I want more chai.\n",
      "I have had 5 cups of chai.\n"
     ]
    }
   ],
   "source": [
    "cups_of_chai = 0\n",
    "\n",
    "while cups_of_chai < 5:\n",
    "    cups_of_chai += 1\n",
    "    print(\"I want more chai.\")\n",
    "    if cups_of_chai == 3:\n",
    "        print(\"Too much chai, stopping now.\")\n",
    "        pass\n",
    "    print(\"I have had\", cups_of_chai, \"cups of chai.\")"
   ]
  },
  {
   "cell_type": "markdown",
   "metadata": {},
   "source": [
    "## try, except and finally"
   ]
  },
  {
   "cell_type": "code",
   "execution_count": 66,
   "metadata": {},
   "outputs": [
    {
     "name": "stdout",
     "output_type": "stream",
     "text": [
      "Hello\n"
     ]
    },
    {
     "ename": "ZeroDivisionError",
     "evalue": "division by zero",
     "output_type": "error",
     "traceback": [
      "\u001b[1;31m---------------------------------------------------------------------------\u001b[0m",
      "\u001b[1;31mZeroDivisionError\u001b[0m                         Traceback (most recent call last)",
      "Cell \u001b[1;32mIn[66], line 2\u001b[0m\n\u001b[0;32m      1\u001b[0m \u001b[38;5;28mprint\u001b[39m(\u001b[38;5;124m\"\u001b[39m\u001b[38;5;124mHello\u001b[39m\u001b[38;5;124m\"\u001b[39m)\n\u001b[1;32m----> 2\u001b[0m \u001b[38;5;28mprint\u001b[39m(\u001b[38;5;241;43m1\u001b[39;49m\u001b[38;5;241;43m/\u001b[39;49m\u001b[38;5;241;43m0\u001b[39;49m)\n",
      "\u001b[1;31mZeroDivisionError\u001b[0m: division by zero"
     ]
    }
   ],
   "source": [
    "print(\"Hello\")\n",
    "print(1/0)"
   ]
  },
  {
   "cell_type": "code",
   "execution_count": 70,
   "metadata": {},
   "outputs": [
    {
     "name": "stdout",
     "output_type": "stream",
     "text": [
      "Hello\n",
      "1.0\n",
      "This will execute no matter what.\n"
     ]
    }
   ],
   "source": [
    "# example of try, except and finally\n",
    "try:\n",
    "    print(\"Hello\")\n",
    "    print(5/5)\n",
    "except ZeroDivisionError:\n",
    "    print(\"There is an error, you are trying to divide by zero which is impossible.\")\n",
    "finally:\n",
    "    print(\"This will execute no matter what.\")"
   ]
  }
 ],
 "metadata": {
  "kernelspec": {
   "display_name": "python_basics",
   "language": "python",
   "name": "python3"
  },
  "language_info": {
   "codemirror_mode": {
    "name": "ipython",
    "version": 3
   },
   "file_extension": ".py",
   "mimetype": "text/x-python",
   "name": "python",
   "nbconvert_exporter": "python",
   "pygments_lexer": "ipython3",
   "version": "3.10.14"
  }
 },
 "nbformat": 4,
 "nbformat_minor": 2
}
