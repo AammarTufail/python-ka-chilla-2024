{
 "cells": [
  {
   "cell_type": "markdown",
   "metadata": {},
   "source": [
    "# User Input"
   ]
  },
  {
   "cell_type": "code",
   "execution_count": 3,
   "metadata": {},
   "outputs": [],
   "source": [
    "age = input(\"My age is: \")\n",
    "age = int(age)"
   ]
  },
  {
   "cell_type": "code",
   "execution_count": 4,
   "metadata": {},
   "outputs": [],
   "source": [
    "age_01 = int(input(\"My age is: \"))"
   ]
  },
  {
   "cell_type": "code",
   "execution_count": 7,
   "metadata": {},
   "outputs": [
    {
     "name": "stdout",
     "output_type": "stream",
     "text": [
      "Hello, Aammar!\n"
     ]
    }
   ],
   "source": [
    "name = input(\"My name is: \")\n",
    "\n",
    "print(\"Hello, \" + name + \"!\")"
   ]
  },
  {
   "cell_type": "code",
   "execution_count": 6,
   "metadata": {},
   "outputs": [],
   "source": [
    "learning = input(\"I am learning from following youtube channel: \")"
   ]
  },
  {
   "cell_type": "code",
   "execution_count": 9,
   "metadata": {},
   "outputs": [],
   "source": [
    "cell_number = input(\"My cell number is: \")\n",
    "cell_number = int(cell_number)"
   ]
  },
  {
   "cell_type": "markdown",
   "metadata": {},
   "source": [
    "# validation of input"
   ]
  },
  {
   "cell_type": "code",
   "execution_count": 16,
   "metadata": {},
   "outputs": [
    {
     "name": "stdout",
     "output_type": "stream",
     "text": [
      "Warning! Invalid input, write age in numeric form.\n"
     ]
    }
   ],
   "source": [
    "age = input(\"Write your age: \")\n",
    "\n",
    "if age.isdigit():\n",
    "    age = int(age)\n",
    "    print(\"Your age is: \", age)\n",
    "else:\n",
    "    print(\"Warning! Invalid input, write age in numeric form.\")"
   ]
  },
  {
   "cell_type": "markdown",
   "metadata": {},
   "source": [
    "## Assignment: If user input is a float number it should give us the same answer as int number. Please correct the code below.\n",
    "\n",
    "```python\n",
    "age = input(\"Write your age: \")\n",
    "\n",
    "if age.isdigit():\n",
    "    age = int(age)\n",
    "    print(\"Your age is: \", age)\n",
    "else:\n",
    "    print(\"Warning! Invalid input, write age in numeric form.\")\n",
    "```"
   ]
  },
  {
   "cell_type": "code",
   "execution_count": 17,
   "metadata": {},
   "outputs": [
    {
     "name": "stdout",
     "output_type": "stream",
     "text": [
      "Hello, Aammar! Your age is: 19\n"
     ]
    }
   ],
   "source": [
    "name = input(\"Write your name: \")\n",
    "age = input(\"Write your age: \")\n",
    "print(\"Hello, \" + name + \"! Your age is: \" + age)"
   ]
  },
  {
   "cell_type": "code",
   "execution_count": 18,
   "metadata": {},
   "outputs": [
    {
     "name": "stdout",
     "output_type": "stream",
     "text": [
      "Hello, Aammar! Your age is: 19\n"
     ]
    }
   ],
   "source": [
    "name, age = input(\"Write your name and age separated by a space: \").split()\n",
    "print(\"Hello, \" + name + \"! Your age is: \" + age)"
   ]
  }
 ],
 "metadata": {
  "kernelspec": {
   "display_name": "python_basics",
   "language": "python",
   "name": "python3"
  },
  "language_info": {
   "codemirror_mode": {
    "name": "ipython",
    "version": 3
   },
   "file_extension": ".py",
   "mimetype": "text/x-python",
   "name": "python",
   "nbconvert_exporter": "python",
   "pygments_lexer": "ipython3",
   "version": "3.10.14"
  }
 },
 "nbformat": 4,
 "nbformat_minor": 2
}
