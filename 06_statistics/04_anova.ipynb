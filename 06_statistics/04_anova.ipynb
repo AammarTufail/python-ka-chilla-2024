{
 "cells": [
  {
   "cell_type": "markdown",
   "metadata": {},
   "source": [
    "# ANOVA\n",
    "ANOVA is a statistical test that stands for analysis of variance.\n",
    "\n",
    "ANOVA was developed by statistician and evolutionary biologist Ronald Fisher. The idea behind ANOVA is to compare different groups of samples to determine whether there is a significant difference between the groups.\n",
    "\n",
    "ANOVA is an extension of the t and the z test and was developed to compare more than two groups.\n",
    "\n",
    "The null hypothesis of ANOVA is that there is no difference between the groups. The alternative hypothesis is that there is a difference between the groups.\n",
    "\n",
    "ANOVA is an omnibus test, meaning it tests the data as a whole. In other words, it does not tell you which specific groups were significantly different from each other; it only tells you that at least two groups were different.\n",
    "\n",
    "## Types of ANOVA\n",
    "\n",
    "There are three main types of ANOVA:\n",
    "1. One-way ANOVA\n",
    "2. Two-way ANOVA\n",
    "3. N-way ANOVA\n",
    "\n",
    "### One-way ANOVA\n",
    "\n",
    "One-way ANOVA is used to compare two or more groups of samples across one continuous independent variable.\n",
    "\n",
    "For example, you could use a one-way ANOVA to compare the height of people living in different cities.\n",
    "\n",
    "### Two-way ANOVA\n",
    "\n",
    "Two-way ANOVA is used to compare two or more groups of samples across two independent variables.\n",
    "\n",
    "For example, you could use a two-way ANOVA to compare the height of people living in different cities and different countries.\n",
    "\n",
    "### N-way ANOVA\n",
    "\n",
    "N-way ANOVA is used to compare two or more groups of samples across N independent variables.\n",
    "\n",
    "\n",
    "## Assumptions of ANOVA\n",
    "\n",
    "ANOVA has three main assumptions:\n",
    "\n",
    "1. The samples are independent.\n",
    "2. The samples are normally distributed.\n",
    "3. The variance of each group is equal.\n",
    "\n",
    "If these assumptions are not met, you may not be able to trust the results of your ANOVA."
   ]
  },
  {
   "cell_type": "markdown",
   "metadata": {},
   "source": [
    "## 1. ONE-WAY ANOVA"
   ]
  },
  {
   "cell_type": "code",
   "execution_count": 1,
   "metadata": {},
   "outputs": [],
   "source": [
    "# !pip install scipy"
   ]
  },
  {
   "cell_type": "code",
   "execution_count": 2,
   "metadata": {},
   "outputs": [
    {
     "name": "stdout",
     "output_type": "stream",
     "text": [
      "F-statistic: 15.662162162162158\n",
      "p-value: 0.0004515404760997282\n",
      "Reject null hypothesis: The means are not equal, as the p-value: {p_val} is less than 0.05\n"
     ]
    }
   ],
   "source": [
    "import scipy.stats as stats\n",
    "\n",
    "# Sample data: Growth of plants with three types of fertilizers\n",
    "fertilizer1 = [20, 22, 19, 24, 25]\n",
    "fertilizer2 = [28, 30, 27, 26, 29]\n",
    "fertilizer3 = [18, 20, 22, 19, 24]\n",
    "\n",
    "# Perform the one-way ANOVA\n",
    "f_stat, p_val = stats.f_oneway(fertilizer1, fertilizer2, fertilizer3)\n",
    "\n",
    "print(\"F-statistic:\", f_stat)\n",
    "print(\"p-value:\", p_val)\n",
    "\n",
    "# print the results based on if the p-value is less than 0.05\n",
    "\n",
    "if p_val < 0.05:\n",
    "    print(\"Reject null hypothesis: The means are not equal, as the p-value: {p_val} is less than 0.05\")\n",
    "else:\n",
    "    print(\"Accept null hypothesis: The means are equal, as the p-value: {p_val} is greater than 0.05\")"
   ]
  },
  {
   "cell_type": "markdown",
   "metadata": {},
   "source": [
    "Using Statsmodels"
   ]
  },
  {
   "cell_type": "code",
   "execution_count": 3,
   "metadata": {},
   "outputs": [],
   "source": [
    "!pip install statsmodels --quiet # install statsmodels if not already installed"
   ]
  },
  {
   "cell_type": "code",
   "execution_count": 4,
   "metadata": {},
   "outputs": [],
   "source": [
    "# One-way ANOVA using statsmodels\n",
    "import pandas as pd\n",
    "import statsmodels.api as sm\n",
    "from statsmodels.formula.api import ols"
   ]
  },
  {
   "cell_type": "code",
   "execution_count": 5,
   "metadata": {},
   "outputs": [
    {
     "data": {
      "text/html": [
       "<div>\n",
       "<style scoped>\n",
       "    .dataframe tbody tr th:only-of-type {\n",
       "        vertical-align: middle;\n",
       "    }\n",
       "\n",
       "    .dataframe tbody tr th {\n",
       "        vertical-align: top;\n",
       "    }\n",
       "\n",
       "    .dataframe thead th {\n",
       "        text-align: right;\n",
       "    }\n",
       "</style>\n",
       "<table border=\"1\" class=\"dataframe\">\n",
       "  <thead>\n",
       "    <tr style=\"text-align: right;\">\n",
       "      <th></th>\n",
       "      <th>fertilizer</th>\n",
       "      <th>growth</th>\n",
       "    </tr>\n",
       "  </thead>\n",
       "  <tbody>\n",
       "    <tr>\n",
       "      <th>0</th>\n",
       "      <td>fertilizer1</td>\n",
       "      <td>20</td>\n",
       "    </tr>\n",
       "    <tr>\n",
       "      <th>1</th>\n",
       "      <td>fertilizer1</td>\n",
       "      <td>22</td>\n",
       "    </tr>\n",
       "    <tr>\n",
       "      <th>2</th>\n",
       "      <td>fertilizer1</td>\n",
       "      <td>19</td>\n",
       "    </tr>\n",
       "    <tr>\n",
       "      <th>3</th>\n",
       "      <td>fertilizer1</td>\n",
       "      <td>24</td>\n",
       "    </tr>\n",
       "    <tr>\n",
       "      <th>4</th>\n",
       "      <td>fertilizer1</td>\n",
       "      <td>25</td>\n",
       "    </tr>\n",
       "  </tbody>\n",
       "</table>\n",
       "</div>"
      ],
      "text/plain": [
       "    fertilizer  growth\n",
       "0  fertilizer1      20\n",
       "1  fertilizer1      22\n",
       "2  fertilizer1      19\n",
       "3  fertilizer1      24\n",
       "4  fertilizer1      25"
      ]
     },
     "execution_count": 5,
     "metadata": {},
     "output_type": "execute_result"
    }
   ],
   "source": [
    "# Create a dataframe\n",
    "df = pd.DataFrame({\"fertilizer\": [\"fertilizer1\"] * 5 + [\"fertilizer2\"] * 5 + [\"fertilizer3\"] * 5,\n",
    "                   \"growth\": fertilizer1 + fertilizer2 + fertilizer3})\n",
    "df.head()"
   ]
  },
  {
   "cell_type": "code",
   "execution_count": 6,
   "metadata": {},
   "outputs": [
    {
     "data": {
      "text/plain": [
       "fertilizer\n",
       "fertilizer1    5\n",
       "fertilizer2    5\n",
       "fertilizer3    5\n",
       "Name: count, dtype: int64"
      ]
     },
     "execution_count": 6,
     "metadata": {},
     "output_type": "execute_result"
    }
   ],
   "source": [
    "df['fertilizer'].value_counts()"
   ]
  },
  {
   "cell_type": "code",
   "execution_count": 7,
   "metadata": {},
   "outputs": [],
   "source": [
    "# Fit the model\n",
    "model = ols(\"growth ~ fertilizer\", data=df).fit()"
   ]
  },
  {
   "cell_type": "code",
   "execution_count": 8,
   "metadata": {},
   "outputs": [
    {
     "name": "stdout",
     "output_type": "stream",
     "text": [
      "                sum_sq    df          F    PR(>F)\n",
      "fertilizer  154.533333   2.0  15.662162  0.000452\n",
      "Residual     59.200000  12.0        NaN       NaN\n"
     ]
    }
   ],
   "source": [
    "# Perform ANOVA and print the summary table\n",
    "anova_table = sm.stats.anova_lm(model, typ=2)\n",
    "print(anova_table)"
   ]
  },
  {
   "cell_type": "code",
   "execution_count": 9,
   "metadata": {},
   "outputs": [
    {
     "name": "stdout",
     "output_type": "stream",
     "text": [
      "Reject null hypothesis: The means are not equal, as the p-value: {p_val} is less than 0.05\n"
     ]
    },
    {
     "name": "stderr",
     "output_type": "stream",
     "text": [
      "C:\\Users\\aammar\\AppData\\Local\\Temp\\ipykernel_18628\\2164794257.py:2: FutureWarning: Series.__getitem__ treating keys as positions is deprecated. In a future version, integer keys will always be treated as labels (consistent with DataFrame behavior). To access a value by position, use `ser.iloc[pos]`\n",
      "  if anova_table[\"PR(>F)\"][0] < 0.05:\n"
     ]
    }
   ],
   "source": [
    "# print the results based on if the p-value is less than 0.05\n",
    "if anova_table[\"PR(>F)\"][0] < 0.05:\n",
    "    print(\"Reject null hypothesis: The means are not equal, as the p-value: {p_val} is less than 0.05\")\n",
    "else:\n",
    "    print(\"Accept null hypothesis: The means are equal, as the p-value: {p_val} is greater than 0.05\")\n"
   ]
  },
  {
   "cell_type": "code",
   "execution_count": 10,
   "metadata": {},
   "outputs": [
    {
     "name": "stdout",
     "output_type": "stream",
     "text": [
      "                sum_sq    df          F    PR(>F)\n",
      "fertilizer  154.533333   2.0  15.662162  0.000452\n",
      "Residual     59.200000  12.0        NaN       NaN\n",
      "Reject null hypothesis: The means are not equal, as the p-value: {p_val} is less than 0.05\n"
     ]
    },
    {
     "name": "stderr",
     "output_type": "stream",
     "text": [
      "C:\\Users\\aammar\\AppData\\Local\\Temp\\ipykernel_18628\\3735742722.py:18: FutureWarning: Series.__getitem__ treating keys as positions is deprecated. In a future version, integer keys will always be treated as labels (consistent with DataFrame behavior). To access a value by position, use `ser.iloc[pos]`\n",
      "  if anova_table[\"PR(>F)\"][0] < 0.05:\n"
     ]
    }
   ],
   "source": [
    "# One-way ANOVA using statsmodels\n",
    "import pandas as pd\n",
    "import statsmodels.api as sm\n",
    "from statsmodels.formula.api import ols\n",
    "\n",
    "# Create a dataframe\n",
    "df = pd.DataFrame({\"fertilizer\": [\"fertilizer1\"] * 5 + [\"fertilizer2\"] * 5 + [\"fertilizer3\"] * 5,\n",
    "                   \"growth\": fertilizer1 + fertilizer2 + fertilizer3})\n",
    "\n",
    "# Fit the model\n",
    "model = ols(\"growth ~ fertilizer\", data=df).fit()\n",
    "\n",
    "# Perform ANOVA and print the summary table\n",
    "anova_table = sm.stats.anova_lm(model, typ=2)\n",
    "print(anova_table)\n",
    "\n",
    "# print the results based on if the p-value is less than 0.05\n",
    "if anova_table[\"PR(>F)\"][0] < 0.05:\n",
    "    print(\"Reject null hypothesis: The means are not equal, as the p-value: {p_val} is less than 0.05\")\n",
    "else:\n",
    "    print(\"Accept null hypothesis: The means are equal, as the p-value: {p_val} is greater than 0.05\")\n"
   ]
  },
  {
   "cell_type": "markdown",
   "metadata": {},
   "source": [
    "## 2. TWO-WAY ANOVA"
   ]
  },
  {
   "cell_type": "code",
   "execution_count": 11,
   "metadata": {},
   "outputs": [
    {
     "data": {
      "text/html": [
       "<div>\n",
       "<style scoped>\n",
       "    .dataframe tbody tr th:only-of-type {\n",
       "        vertical-align: middle;\n",
       "    }\n",
       "\n",
       "    .dataframe tbody tr th {\n",
       "        vertical-align: top;\n",
       "    }\n",
       "\n",
       "    .dataframe thead th {\n",
       "        text-align: right;\n",
       "    }\n",
       "</style>\n",
       "<table border=\"1\" class=\"dataframe\">\n",
       "  <thead>\n",
       "    <tr style=\"text-align: right;\">\n",
       "      <th></th>\n",
       "      <th>Growth</th>\n",
       "      <th>Fertilizer</th>\n",
       "      <th>Sunlight</th>\n",
       "    </tr>\n",
       "  </thead>\n",
       "  <tbody>\n",
       "    <tr>\n",
       "      <th>0</th>\n",
       "      <td>20</td>\n",
       "      <td>F1</td>\n",
       "      <td>High</td>\n",
       "    </tr>\n",
       "    <tr>\n",
       "      <th>1</th>\n",
       "      <td>22</td>\n",
       "      <td>F1</td>\n",
       "      <td>High</td>\n",
       "    </tr>\n",
       "    <tr>\n",
       "      <th>2</th>\n",
       "      <td>19</td>\n",
       "      <td>F1</td>\n",
       "      <td>High</td>\n",
       "    </tr>\n",
       "    <tr>\n",
       "      <th>3</th>\n",
       "      <td>24</td>\n",
       "      <td>F1</td>\n",
       "      <td>High</td>\n",
       "    </tr>\n",
       "    <tr>\n",
       "      <th>4</th>\n",
       "      <td>25</td>\n",
       "      <td>F1</td>\n",
       "      <td>High</td>\n",
       "    </tr>\n",
       "  </tbody>\n",
       "</table>\n",
       "</div>"
      ],
      "text/plain": [
       "   Growth Fertilizer Sunlight\n",
       "0      20         F1     High\n",
       "1      22         F1     High\n",
       "2      19         F1     High\n",
       "3      24         F1     High\n",
       "4      25         F1     High"
      ]
     },
     "execution_count": 11,
     "metadata": {},
     "output_type": "execute_result"
    }
   ],
   "source": [
    "# Sample data\n",
    "data = pd.DataFrame({\n",
    "    \"Growth\": [20, 22, 19, 24, 25, 28, 30, 27, 26, 29, 18, 20, 22, 19, 24,\n",
    "               21, 23, 20, 25, 26, 29, 31, 28, 27, 30, 19, 21, 23, 20, 25],\n",
    "    \"Fertilizer\": [\"F1\", \"F1\", \"F1\", \"F1\", \"F1\", \"F2\", \"F2\", \"F2\", \"F2\", \"F2\", \n",
    "                   \"F3\", \"F3\", \"F3\", \"F3\", \"F3\", \"F1\", \"F1\", \"F1\", \"F1\", \"F1\", \n",
    "                   \"F2\", \"F2\", \"F2\", \"F2\", \"F2\", \"F3\", \"F3\", \"F3\", \"F3\", \"F3\"],\n",
    "    \"Sunlight\": [\"High\", \"High\", \"High\", \"High\", \"High\", \"High\", \"High\", \"High\", \"High\", \"High\", \n",
    "                 \"High\", \"High\", \"High\", \"High\", \"High\", \"Low\", \"Low\", \"Low\", \"Low\", \"Low\", \n",
    "                 \"Low\", \"Low\", \"Low\", \"Low\", \"Low\", \"Low\", \"Low\", \"Low\", \"Low\", \"Low\"]\n",
    "})\n",
    "data.head()"
   ]
  },
  {
   "cell_type": "code",
   "execution_count": 12,
   "metadata": {},
   "outputs": [
    {
     "name": "stdout",
     "output_type": "stream",
     "text": [
      "                                 sum_sq    df             F        PR(>F)\n",
      "C(Fertilizer)              3.090667e+02   2.0  3.132432e+01  2.038888e-07\n",
      "C(Sunlight)                7.500000e+00   1.0  1.520270e+00  2.295198e-01\n",
      "C(Fertilizer):C(Sunlight)  4.472082e-29   2.0  4.532515e-30  1.000000e+00\n",
      "Residual                   1.184000e+02  24.0           NaN           NaN\n",
      "Reject null hypothesis: The means are not equal, as the p-value: {p_val} is less than 0.05\n"
     ]
    },
    {
     "name": "stderr",
     "output_type": "stream",
     "text": [
      "C:\\Users\\aammar\\AppData\\Local\\Temp\\ipykernel_18628\\1127512014.py:25: FutureWarning: Series.__getitem__ treating keys as positions is deprecated. In a future version, integer keys will always be treated as labels (consistent with DataFrame behavior). To access a value by position, use `ser.iloc[pos]`\n",
      "  if anova_table[\"PR(>F)\"][0] < 0.05:\n"
     ]
    }
   ],
   "source": [
    "import pandas as pd\n",
    "import statsmodels.api as sm\n",
    "from statsmodels.formula.api import ols\n",
    "\n",
    "# Sample data\n",
    "data = pd.DataFrame({\n",
    "    \"Growth\": [20, 22, 19, 24, 25, 28, 30, 27, 26, 29, 18, 20, 22, 19, 24,\n",
    "               21, 23, 20, 25, 26, 29, 31, 28, 27, 30, 19, 21, 23, 20, 25],\n",
    "    \"Fertilizer\": [\"F1\", \"F1\", \"F1\", \"F1\", \"F1\", \"F2\", \"F2\", \"F2\", \"F2\", \"F2\", \n",
    "                   \"F3\", \"F3\", \"F3\", \"F3\", \"F3\", \"F1\", \"F1\", \"F1\", \"F1\", \"F1\", \n",
    "                   \"F2\", \"F2\", \"F2\", \"F2\", \"F2\", \"F3\", \"F3\", \"F3\", \"F3\", \"F3\"],\n",
    "    \"Sunlight\": [\"High\", \"High\", \"High\", \"High\", \"High\", \"High\", \"High\", \"High\", \"High\", \"High\", \n",
    "                 \"High\", \"High\", \"High\", \"High\", \"High\", \"Low\", \"Low\", \"Low\", \"Low\", \"Low\", \n",
    "                 \"Low\", \"Low\", \"Low\", \"Low\", \"Low\", \"Low\", \"Low\", \"Low\", \"Low\", \"Low\"]\n",
    "})\n",
    "\n",
    "# Perform two-way ANOVA\n",
    "model = ols('Growth ~ C(Fertilizer) + C(Sunlight) + C(Fertilizer):C(Sunlight)', data=data).fit()\n",
    "anova_table = sm.stats.anova_lm(model, typ=2)\n",
    "\n",
    "print(anova_table)\n",
    "\n",
    "# print the results based on if the p-value is less than 0.05\n",
    "\n",
    "if anova_table[\"PR(>F)\"][0] < 0.05:\n",
    "    print(\"Reject null hypothesis: The means are not equal, as the p-value: {p_val} is less than 0.05\")\n",
    "else:\n",
    "    print(\"Accept null hypothesis: The means are equal, as the p-value: {p_val} is greater than 0.05\")"
   ]
  },
  {
   "cell_type": "markdown",
   "metadata": {},
   "source": [
    "## Interpretation\n",
    "- For `One-Way ANOVA`, if the p-value is less than 0.05, it suggests a significant difference in means among the groups.\n",
    "- For `Two-Way ANOVA`, we look at the p-values for each factor and their interaction. A p-value less than 0.05 indicates a significant effect.\n",
    "\n",
    "These examples should give you a good starting point for conducting ANOVA analyses in Python. Remember, the interpretation of your results should always take into account the context of your data and the specific question you are trying to answer."
   ]
  },
  {
   "cell_type": "markdown",
   "metadata": {},
   "source": [
    "# N-way ANOVA\n",
    "\n",
    "`N-way ANOVA`, also known as `factorial ANOVA`, is used when you have more than two independent variables. It allows you to analyze the effects of each factor on the dependent variable and the interaction effects between factors.\n",
    "\n",
    "## Example: Three-Way ANOVA\n",
    "Suppose we have an experimental data set with three factors:\n",
    "\n",
    "1. Fertilizer Type (3 levels: F1, F2, F3)\n",
    "2. Sunlight Exposure (2 levels: High, Low)\n",
    "3. Watering Frequency (2 levels: Regular, Sparse)\n",
    "\n",
    "We want to study the impact of these factors and their interactions on plant growth."
   ]
  },
  {
   "cell_type": "code",
   "execution_count": 13,
   "metadata": {},
   "outputs": [
    {
     "name": "stdout",
     "output_type": "stream",
     "text": [
      "                                             sum_sq    df             F  \\\n",
      "C(Fertilizer)                          4.680444e+02   2.0  5.802204e+01   \n",
      "C(Sunlight)                           -1.821947e-12   1.0 -4.517223e-13   \n",
      "C(Watering)                            2.710336e-13   1.0  6.719842e-14   \n",
      "C(Fertilizer):C(Sunlight)              1.164809e-13   2.0  1.443979e-14   \n",
      "C(Fertilizer):C(Watering)             -1.728798e-14   2.0 -2.143138e-15   \n",
      "C(Sunlight):C(Watering)                2.054444e+01   1.0  5.093664e+00   \n",
      "C(Fertilizer):C(Sunlight):C(Watering)  1.088889e+00   2.0  1.349862e-01   \n",
      "Residual                               1.573000e+02  39.0           NaN   \n",
      "\n",
      "                                             PR(>F)  \n",
      "C(Fertilizer)                          2.050614e-12  \n",
      "C(Sunlight)                            1.000000e+00  \n",
      "C(Watering)                            9.999998e-01  \n",
      "C(Fertilizer):C(Sunlight)              1.000000e+00  \n",
      "C(Fertilizer):C(Watering)              1.000000e+00  \n",
      "C(Sunlight):C(Watering)                2.969139e-02  \n",
      "C(Fertilizer):C(Sunlight):C(Watering)  8.741344e-01  \n",
      "Residual                                        NaN  \n",
      "Reject null hypothesis: The means are not equal, as the p-value: {p_val} is less than 0.05\n"
     ]
    },
    {
     "name": "stderr",
     "output_type": "stream",
     "text": [
      "C:\\Users\\aammar\\AppData\\Local\\Temp\\ipykernel_18628\\2024720544.py:42: FutureWarning: Series.__getitem__ treating keys as positions is deprecated. In a future version, integer keys will always be treated as labels (consistent with DataFrame behavior). To access a value by position, use `ser.iloc[pos]`\n",
      "  if anova_results[\"PR(>F)\"][0] < 0.05:\n"
     ]
    }
   ],
   "source": [
    "import pandas as pd\n",
    "import statsmodels.api as sm\n",
    "from statsmodels.formula.api import ols\n",
    "\n",
    "# Sample data\n",
    "data = pd.DataFrame({\n",
    "    \"Growth\": [20, 22, 19, 24, 25, 28, 30, 27, 26, 29, 18, 20, 22, 19, 24,\n",
    "               21, 23, 20, 25, 26, 29, 31, 28, 27, 30, 19, 21, 23, 20, 25,\n",
    "               20, 22, 21, 23, 24, 26, 28, 25, 27, 29, 17, 19, 21, 18, 20],\n",
    "    \"Fertilizer\": [\"F1\", \"F1\", \"F1\", \"F1\", \"F1\", \"F2\", \"F2\", \"F2\", \"F2\", \"F2\", \n",
    "                   \"F3\", \"F3\", \"F3\", \"F3\", \"F3\", \"F1\", \"F1\", \"F1\", \"F1\", \"F1\", \n",
    "                   \"F2\", \"F2\", \"F2\", \"F2\", \"F2\", \"F3\", \"F3\", \"F3\", \"F3\", \"F3\",\n",
    "                   \"F1\", \"F1\", \"F1\", \"F1\", \"F1\", \"F2\", \"F2\", \"F2\", \"F2\", \"F2\", \n",
    "                   \"F3\", \"F3\", \"F3\", \"F3\", \"F3\"],\n",
    "    \"Sunlight\": [\"High\", \"High\", \"High\", \"High\", \"High\", \"High\", \"High\", \"High\", \"High\", \"High\", \n",
    "                 \"High\", \"High\", \"High\", \"High\", \"High\", \"Low\", \"Low\", \"Low\", \"Low\", \"Low\", \n",
    "                 \"Low\", \"Low\", \"Low\", \"Low\", \"Low\", \"Low\", \"Low\", \"Low\", \"Low\", \"Low\",\n",
    "                 \"High\", \"High\", \"High\", \"High\", \"High\", \"High\", \"High\", \"High\", \"High\", \"High\", \n",
    "                 \"High\", \"High\", \"High\", \"High\", \"High\"],\n",
    "    \"Watering\": [\"Regular\", \"Regular\", \"Regular\", \"Regular\", \"Regular\", \n",
    "                 \"Regular\", \"Regular\", \"Regular\", \"Regular\", \"Regular\",\n",
    "                 \"Regular\", \"Regular\", \"Regular\", \"Regular\", \"Regular\",\n",
    "                 \"Sparse\", \"Sparse\", \"Sparse\", \"Sparse\", \"Sparse\", \n",
    "                 \"Sparse\", \"Sparse\", \"Sparse\", \"Sparse\", \"Sparse\",\n",
    "                 \"Sparse\", \"Sparse\", \"Sparse\", \"Sparse\", \"Sparse\",\n",
    "                 \"Regular\", \"Regular\", \"Regular\", \"Regular\", \"Regular\", \n",
    "                 \"Regular\", \"Regular\", \"Regular\", \"Regular\", \"Regular\",\n",
    "                 \"Regular\", \"Regular\", \"Regular\", \"Regular\", \"Regular\"]\n",
    "})\n",
    "\n",
    "# Fit the model\n",
    "model = ols('Growth ~ C(Fertilizer) + C(Sunlight) + C(Watering) + C(Fertilizer):C(Sunlight) + C(Fertilizer):C(Watering) + C(Sunlight):C(Watering) + C(Fertilizer):C(Sunlight):C(Watering)', data=data).fit()\n",
    "\n",
    "# Perform three-way ANOVA\n",
    "anova_results = sm.stats.anova_lm(model, typ=2)\n",
    "\n",
    "print(anova_results)\n",
    "\n",
    "\n",
    "# print the results based on if the p-value is less than 0.05\n",
    "\n",
    "if anova_results[\"PR(>F)\"][0] < 0.05:\n",
    "    print(\"Reject null hypothesis: The means are not equal, as the p-value: {p_val} is less than 0.05\")\n",
    "else:\n",
    "    print(\"Fail to reject null hypothesis: The means are equal, as the p-value: {p_val} is greater than 0.05\")\n"
   ]
  },
  {
   "cell_type": "markdown",
   "metadata": {},
   "source": [
    "## Interpretation\n",
    "In the output, you'll see p-values for:\n",
    "\n",
    "- The main effects of each factor (Fertilizer, Sunlight, Watering)\n",
    "- The interaction effects between two factors (e.g., Fertilizer:Sunlight)\n",
    "- The interaction effect among all three factors (Fertilizer:Sunlight:Watering)\n",
    "\n",
    "A p-value less than 0.05 typically suggests a statistically significant effect. However, interpreting ANOVA results can be complex, especially with interactions. You should consider the practical significance and the context of your experiment alongside the statistical results.\n",
    "\n",
    "Remember, ANOVA makes certain assumptions (normality, homogeneity of variance, and independence), which should be tested before running the analysis."
   ]
  },
  {
   "cell_type": "markdown",
   "metadata": {},
   "source": [
    "---\n",
    "# Post-hoc Tests\n",
    "\n",
    "After conducting an ANOVA and finding a significant difference, a post hoc test is needed to determine exactly which groups differ from each other. Here, I'll demonstrate post hoc tests for one-way, two-way, and N-way ANOVA using Python."
   ]
  },
  {
   "cell_type": "markdown",
   "metadata": {},
   "source": [
    "## Post-hoc Tests for One-Way ANOVA"
   ]
  },
  {
   "cell_type": "code",
   "execution_count": 14,
   "metadata": {},
   "outputs": [
    {
     "name": "stdout",
     "output_type": "stream",
     "text": [
      " Multiple Comparison of Means - Tukey HSD, FWER=0.05 \n",
      "=====================================================\n",
      "group1 group2 meandiff p-adj   lower    upper  reject\n",
      "-----------------------------------------------------\n",
      "    F1     F2      6.0 0.0029   2.2523  9.7477   True\n",
      "    F1     F3     -1.4 0.5928  -5.1477  2.3477  False\n",
      "    F2     F3     -7.4 0.0005 -11.1477 -3.6523   True\n",
      "-----------------------------------------------------\n"
     ]
    }
   ],
   "source": [
    "from statsmodels.stats.multicomp import pairwise_tukeyhsd\n",
    "import numpy as np\n",
    "\n",
    "# Sample data\n",
    "data = {\n",
    "    'Growth': np.concatenate([fertilizer1, fertilizer2, fertilizer3]),\n",
    "    'Fertilizer': ['F1']*len(fertilizer1) + ['F2']*len(fertilizer2) + ['F3']*len(fertilizer3)\n",
    "}\n",
    "\n",
    "# Convert to DataFrame\n",
    "df = pd.DataFrame(data)\n",
    "\n",
    "# Tukey's HSD test\n",
    "tukey = pairwise_tukeyhsd(endog=df['Growth'], groups=df['Fertilizer'], alpha=0.05)\n",
    "print(tukey)"
   ]
  },
  {
   "cell_type": "markdown",
   "metadata": {},
   "source": [
    "## Post-hoc Tests for Two-Way ANOVA"
   ]
  },
  {
   "cell_type": "code",
   "execution_count": 15,
   "metadata": {},
   "outputs": [
    {
     "name": "stdout",
     "output_type": "stream",
     "text": [
      " Multiple Comparison of Means - Tukey HSD, FWER=0.05 \n",
      "=====================================================\n",
      "group1 group2 meandiff p-adj   lower    upper  reject\n",
      "-----------------------------------------------------\n",
      "F1High  F1Low      1.0 0.9786  -3.3434  5.3434  False\n",
      "F1High F2High      6.0 0.0032   1.6566 10.3434   True\n",
      "F1High  F2Low      7.0 0.0006   2.6566 11.3434   True\n",
      "F1High F3High     -1.4 0.9145  -5.7434  2.9434  False\n",
      "F1High  F3Low     -0.4 0.9997  -4.7434  3.9434  False\n",
      " F1Low F2High      5.0 0.0176   0.6566  9.3434   True\n",
      " F1Low  F2Low      6.0 0.0032   1.6566 10.3434   True\n",
      " F1Low F3High     -2.4 0.5396  -6.7434  1.9434  False\n",
      " F1Low  F3Low     -1.4 0.9145  -5.7434  2.9434  False\n",
      "F2High  F2Low      1.0 0.9786  -3.3434  5.3434  False\n",
      "F2High F3High     -7.4 0.0003 -11.7434 -3.0566   True\n",
      "F2High  F3Low     -6.4 0.0016 -10.7434 -2.0566   True\n",
      " F2Low F3High     -8.4    0.0 -12.7434 -4.0566   True\n",
      " F2Low  F3Low     -7.4 0.0003 -11.7434 -3.0566   True\n",
      "F3High  F3Low      1.0 0.9786  -3.3434  5.3434  False\n",
      "-----------------------------------------------------\n"
     ]
    }
   ],
   "source": [
    "from statsmodels.stats.multicomp import pairwise_tukeyhsd\n",
    "import pandas as pd\n",
    "import statsmodels.api as sm\n",
    "from statsmodels.formula.api import ols\n",
    "\n",
    "# Sample data\n",
    "data = pd.DataFrame({\n",
    "    \"Growth\": [20, 22, 19, 24, 25, 28, 30, 27, 26, 29, 18, 20, 22, 19, 24,\n",
    "               21, 23, 20, 25, 26, 29, 31, 28, 27, 30, 19, 21, 23, 20, 25],\n",
    "    \"Fertilizer\": [\"F1\", \"F1\", \"F1\", \"F1\", \"F1\", \"F2\", \"F2\", \"F2\", \"F2\", \"F2\", \n",
    "                   \"F3\", \"F3\", \"F3\", \"F3\", \"F3\", \"F1\", \"F1\", \"F1\", \"F1\", \"F1\", \n",
    "                   \"F2\", \"F2\", \"F2\", \"F2\", \"F2\", \"F3\", \"F3\", \"F3\", \"F3\", \"F3\"],\n",
    "    \"Sunlight\": [\"High\", \"High\", \"High\", \"High\", \"High\", \"High\", \"High\", \"High\", \"High\", \"High\", \n",
    "                 \"High\", \"High\", \"High\", \"High\", \"High\", \"Low\", \"Low\", \"Low\", \"Low\", \"Low\", \n",
    "                 \"Low\", \"Low\", \"Low\", \"Low\", \"Low\", \"Low\", \"Low\", \"Low\", \"Low\", \"Low\"]\n",
    "})\n",
    "\n",
    "tukey = pairwise_tukeyhsd(data['Growth'], data['Fertilizer'] + data['Sunlight'], alpha=0.05)\n",
    "print(tukey)"
   ]
  },
  {
   "cell_type": "markdown",
   "metadata": {},
   "source": [
    "## Post-hoc Tests for N-Way ANOVA (Factorial ANOVA)"
   ]
  },
  {
   "cell_type": "code",
   "execution_count": 16,
   "metadata": {},
   "outputs": [
    {
     "name": "stdout",
     "output_type": "stream",
     "text": [
      "        Multiple Comparison of Means - Tukey HSD, FWER=0.05        \n",
      "===================================================================\n",
      "    group1        group2    meandiff p-adj   lower    upper  reject\n",
      "-------------------------------------------------------------------\n",
      "F1HighRegular   F1LowSparse      1.0 0.9419  -2.2956  4.2956  False\n",
      "F1HighRegular F2HighRegular      5.5    0.0   2.8092  8.1908   True\n",
      "F1HighRegular   F2LowSparse      7.0    0.0   3.7044 10.2956   True\n",
      "F1HighRegular F3HighRegular     -2.2 0.1647  -4.8908  0.4908  False\n",
      "F1HighRegular   F3LowSparse     -0.4 0.9991  -3.6956  2.8956  False\n",
      "  F1LowSparse F2HighRegular      4.5 0.0027   1.2044  7.7956   True\n",
      "  F1LowSparse   F2LowSparse      6.0 0.0004   2.1946  9.8054   True\n",
      "  F1LowSparse F3HighRegular     -3.2 0.0613  -6.4956  0.0956  False\n",
      "  F1LowSparse   F3LowSparse     -1.4 0.8775  -5.2054  2.4054  False\n",
      "F2HighRegular   F2LowSparse      1.5 0.7478  -1.7956  4.7956  False\n",
      "F2HighRegular F3HighRegular     -7.7    0.0 -10.3908 -5.0092   True\n",
      "F2HighRegular   F3LowSparse     -5.9 0.0001  -9.1956 -2.6044   True\n",
      "  F2LowSparse F3HighRegular     -9.2    0.0 -12.4956 -5.9044   True\n",
      "  F2LowSparse   F3LowSparse     -7.4    0.0 -11.2054 -3.5946   True\n",
      "F3HighRegular   F3LowSparse      1.8 0.5804  -1.4956  5.0956  False\n",
      "-------------------------------------------------------------------\n"
     ]
    }
   ],
   "source": [
    "from statsmodels.stats.multicomp import pairwise_tukeyhsd\n",
    "# Sample data\n",
    "data = pd.DataFrame({\n",
    "    \"Growth\": [20, 22, 19, 24, 25, 28, 30, 27, 26, 29, 18, 20, 22, 19, 24,\n",
    "               21, 23, 20, 25, 26, 29, 31, 28, 27, 30, 19, 21, 23, 20, 25,\n",
    "               20, 22, 21, 23, 24, 26, 28, 25, 27, 29, 17, 19, 21, 18, 20],\n",
    "    \"Fertilizer\": [\"F1\", \"F1\", \"F1\", \"F1\", \"F1\", \"F2\", \"F2\", \"F2\", \"F2\", \"F2\", \n",
    "                   \"F3\", \"F3\", \"F3\", \"F3\", \"F3\", \"F1\", \"F1\", \"F1\", \"F1\", \"F1\", \n",
    "                   \"F2\", \"F2\", \"F2\", \"F2\", \"F2\", \"F3\", \"F3\", \"F3\", \"F3\", \"F3\",\n",
    "                   \"F1\", \"F1\", \"F1\", \"F1\", \"F1\", \"F2\", \"F2\", \"F2\", \"F2\", \"F2\", \n",
    "                   \"F3\", \"F3\", \"F3\", \"F3\", \"F3\"],\n",
    "    \"Sunlight\": [\"High\", \"High\", \"High\", \"High\", \"High\", \"High\", \"High\", \"High\", \"High\", \"High\", \n",
    "                 \"High\", \"High\", \"High\", \"High\", \"High\", \"Low\", \"Low\", \"Low\", \"Low\", \"Low\", \n",
    "                 \"Low\", \"Low\", \"Low\", \"Low\", \"Low\", \"Low\", \"Low\", \"Low\", \"Low\", \"Low\",\n",
    "                 \"High\", \"High\", \"High\", \"High\", \"High\", \"High\", \"High\", \"High\", \"High\", \"High\", \n",
    "                 \"High\", \"High\", \"High\", \"High\", \"High\"],\n",
    "    \"Watering\": [\"Regular\", \"Regular\", \"Regular\", \"Regular\", \"Regular\", \n",
    "                 \"Regular\", \"Regular\", \"Regular\", \"Regular\", \"Regular\",\n",
    "                 \"Regular\", \"Regular\", \"Regular\", \"Regular\", \"Regular\",\n",
    "                 \"Sparse\", \"Sparse\", \"Sparse\", \"Sparse\", \"Sparse\", \n",
    "                 \"Sparse\", \"Sparse\", \"Sparse\", \"Sparse\", \"Sparse\",\n",
    "                 \"Sparse\", \"Sparse\", \"Sparse\", \"Sparse\", \"Sparse\",\n",
    "                 \"Regular\", \"Regular\", \"Regular\", \"Regular\", \"Regular\", \n",
    "                 \"Regular\", \"Regular\", \"Regular\", \"Regular\", \"Regular\",\n",
    "                 \"Regular\", \"Regular\", \"Regular\", \"Regular\", \"Regular\"]\n",
    "})\n",
    "\n",
    "tukey = pairwise_tukeyhsd(data['Growth'], data['Fertilizer'] + data['Sunlight'] + data['Watering'], alpha=0.05)\n",
    "print(tukey)\n"
   ]
  },
  {
   "cell_type": "markdown",
   "metadata": {},
   "source": [
    "## Important Considerations:\n",
    "### Interpreting Results: \n",
    "\n",
    "Tukey's test results will show pairwise comparisons between groups and indicate which differences are statistically significant.\n",
    "\n",
    "### Alpha Level: \n",
    "The alpha parameter is typically set at 0.05, which is the threshold for significance.\n",
    "\n",
    "### Assumptions: \n",
    "Like ANOVA, Tukey's HSD assumes homogeneity of variances and normally distributed data within each group.\n",
    "\n",
    "These examples provide a basic framework for conducting post hoc analyses in Python. The specific methods and interpretations will depend on your data and the context of your research."
   ]
  },
  {
   "cell_type": "markdown",
   "metadata": {},
   "source": [
    "---\n",
    "# Bonferri Correction"
   ]
  },
  {
   "cell_type": "markdown",
   "metadata": {},
   "source": [
    "The `Bonferroni test` is a type of post hoc analysis used after conducting ANOVA when multiple pairwise comparisons are needed. It's a conservative method that adjusts the significance level to account for the increased risk of Type I errors (false positives) due to multiple testing. The Bonferroni correction simply divides the alpha level by the number of comparisons."
   ]
  },
  {
   "cell_type": "code",
   "execution_count": 17,
   "metadata": {},
   "outputs": [
    {
     "name": "stdout",
     "output_type": "stream",
     "text": [
      "F1 vs F2: t-statistic = -4.472, p-value (adjusted) = 0.006\n",
      "F1 vs F3: t-statistic = 0.893, p-value (adjusted) = 1.194\n",
      "F2 vs F3: t-statistic = 5.744, p-value (adjusted) = 0.001\n"
     ]
    }
   ],
   "source": [
    "import scipy.stats as stats\n",
    "import pandas as pd\n",
    "\n",
    "# Sample data\n",
    "fertilizer1 = [20, 22, 19, 24, 25]\n",
    "fertilizer2 = [28, 30, 27, 26, 29]\n",
    "fertilizer3 = [18, 20, 22, 19, 24]\n",
    "\n",
    "# Create DataFrame\n",
    "data = {\n",
    "    'Growth': fertilizer1 + fertilizer2 + fertilizer3,\n",
    "    'Fertilizer': ['F1']*len(fertilizer1) + ['F2']*len(fertilizer2) + ['F3']*len(fertilizer3)\n",
    "}\n",
    "df = pd.DataFrame(data)\n",
    "\n",
    "# Number of comparisons\n",
    "num_comparisons = 3 # For 3 groups, we have 3 pairwise comparisons (F1 vs F2, F1 vs F3, F2 vs F3)\n",
    "\n",
    "# Adjusted alpha level (for significance)\n",
    "alpha = 0.05 / num_comparisons\n",
    "\n",
    "# Conduct pairwise t-tests with Bonferroni correction\n",
    "pairwise_results = []\n",
    "for group1 in df['Fertilizer'].unique():\n",
    "    for group2 in df['Fertilizer'].unique():\n",
    "        if group1 < group2: # To avoid duplicate comparisons\n",
    "            group1_data = df[df['Fertilizer'] == group1]['Growth']\n",
    "            group2_data = df[df['Fertilizer'] == group2]['Growth']\n",
    "            t_stat, p_val = stats.ttest_ind(group1_data, group2_data)\n",
    "            p_val_adjusted = p_val * num_comparisons\n",
    "            pairwise_results.append((f'{group1} vs {group2}', t_stat, p_val_adjusted))\n",
    "\n",
    "# Print results\n",
    "for result in pairwise_results:\n",
    "    group_comparison, t_stat, p_val_adjusted = result\n",
    "    print(f\"{group_comparison}: t-statistic = {t_stat:.3f}, p-value (adjusted) = {p_val_adjusted:.3f}\")"
   ]
  },
  {
   "cell_type": "markdown",
   "metadata": {},
   "source": [
    "### Interpretation\n",
    "\n",
    "- Each pairwise comparison is adjusted for multiple testing.\n",
    "- A significant result (adjusted p-value < 0.05) indicates a significant difference between those groups.\n",
    "- This method is conservative and reduces the chance of Type I errors but increases the chance of Type II errors (false negatives).\n",
    "\n",
    "### Notes\n",
    "\n",
    "- The Bonferroni test is appropriate when you have a small number of comparisons. With a large number of comparisons, it becomes overly conservative.\n",
    "- The method assumes independent tests and may not be suitable for all types of data or comparisons."
   ]
  },
  {
   "cell_type": "markdown",
   "metadata": {},
   "source": [
    "# **Types of PostHoc Tests with their pros and cons.**\n"
   ]
  },
  {
   "cell_type": "markdown",
   "metadata": {},
   "source": [
    "There are several post hoc tests used in statistics, each with its own strengths and weaknesses. Here's a table summarizing some of the most common tests:\n",
    "\n",
    "| Post Hoc Test        | Pros                                                    | Cons                                                    | Ideal Usage                                           |\n",
    "|----------------------|---------------------------------------------------------|---------------------------------------------------------|-------------------------------------------------------|\n",
    "| **Tukey's HSD**      | - Controls Type I error well<br>- Comparatively robust  | - Can be conservative<br>- Less powerful for unequal sample sizes | When equal sample sizes and normally distributed data are assumed. |\n",
    "| **Bonferroni**       | - Simple to compute<br>- Very conservative              | - Increases Type II errors<br>- Can be too stringent for many comparisons | When few comparisons are made; useful in controlling Type I error in multiple testing. |\n",
    "| **Scheffé's Test**   | - Flexible for any number of comparisons                | - More conservative than others<br>- Can be less powerful | When flexibility in hypothesis testing after ANOVA is needed; good for complex designs. |\n",
    "| **Dunn's Test**      | - Suitable for non-parametric data                      | - Less powerful than parametric tests<br>- Multiple comparison adjustments can be complex | When data do not meet parametric assumptions, particularly with Kruskal-Wallis test. |\n",
    "| **Holm's Method**    | - Less conservative than Bonferroni<br>- Controls Type I error well | - More complex calculation<br>- Can still be conservative | When a balance between Type I error control and power is needed, especially with multiple comparisons. |\n",
    "| **Fisher's LSD**     | - More powerful (higher chance to detect real differences) | - Higher risk of Type I error<br>- Not recommended when there are many comparisons | When comparisons are planned and limited, often used in exploratory data analysis. |\n",
    "| **Ryan-Einot-Gabriel-Welsch Q (REGWQ)** | - Controls the error rate well<br>- Good for unequal sample sizes | - Complex calculation<br>- Can be conservative | When there are unequal sample sizes, and control over Type I error is important. |\n",
    "| **Newman-Keuls**     | - More powerful for detecting differences                | - Higher risk of Type I errors than other methods<br>- Not recommended for many comparisons | When sample sizes are equal and the data are normally distributed; less used due to higher error risks. |\n",
    "\n",
    "### Notes:\n",
    "1. **Choice of Test**: The choice of post hoc test largely depends on the nature of your data, the number of comparisons, and the balance you want to strike between the risks of Type I and Type II errors.\n",
    "2. **Data Assumptions**: Some tests assume normally distributed data and equal variances, while others are non-parametric and do not make these assumptions.\n",
    "3. **Type I and II Errors**: There's often a trade-off between the risk of Type I errors (false positives) and Type II errors (false negatives). More conservative tests (like Bonferroni) reduce the risk of Type I errors but increase the risk of Type II errors.\n",
    "\n",
    "When conducting post hoc tests, it's essential to understand these pros and cons to choose the most appropriate test for your specific statistical analysis."
   ]
  },
  {
   "cell_type": "markdown",
   "metadata": {},
   "source": [
    "---"
   ]
  }
 ],
 "metadata": {
  "kernelspec": {
   "display_name": "data_analysis",
   "language": "python",
   "name": "python3"
  },
  "language_info": {
   "codemirror_mode": {
    "name": "ipython",
    "version": 3
   },
   "file_extension": ".py",
   "mimetype": "text/x-python",
   "name": "python",
   "nbconvert_exporter": "python",
   "pygments_lexer": "ipython3",
   "version": "3.10.0"
  }
 },
 "nbformat": 4,
 "nbformat_minor": 2
}
