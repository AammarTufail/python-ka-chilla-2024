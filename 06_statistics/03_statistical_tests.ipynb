{
 "cells": [
  {
   "cell_type": "markdown",
   "metadata": {},
   "source": [
    "# Statistical Analyses\n",
    "\n",
    "There are two types of statistical analyses that can be performed on the data. The first is a univariate analysis, which is an analysis of a single variable. The second is a bivariate analysis, which is an analysis of two variables. \n",
    "\n",
    "## Univariate Analysis\n",
    "\n",
    "The univariate analysis is an analysis of a single variable. The purpose of this analysis is to describe the data and find patterns in the data. The univariate analysis can be performed using the following statistical measures:\n",
    "\n",
    "1. Mean\n",
    "2. Median\n",
    "3. Mode\n",
    "4. Range\n",
    "5. Variance\n",
    "6. Standard Deviation\n",
    "7. Skewness\n",
    "8. Kurtosis\n",
    "\n",
    "> The mean is the average of the data. The median is the middle value of the data. The mode is the most common value in the data. The range is the difference between the maximum and minimum values of the data. The variance is the average of the squared differences between the data and the mean. The standard deviation is the square root of the variance. The skewness is a measure of the asymmetry of the data. The kurtosis is a measure of the peakedness of the data.\n",
    "\n",
    "## Bivariate Analysis\n",
    "\n",
    "The bivariate analysis is an analysis of two variables. The purpose of this analysis is to find relationships between the two variables. The bivariate analysis can be performed using the following statistical measures:\n",
    "\n",
    "1. Correlation\n",
    "2. Covariance\n",
    "3. Regression\n",
    "4. ANOVA\n",
    "5. Chi-Square\n",
    "6. T-Test\n",
    "7. Mann-Whitney U Test\n",
    "8. Wilcoxon Signed-Rank Test\n",
    "9. Kruskal-Wallis Test\n",
    "10. Friedman Test\n",
    "11. Spearman's Rank Correlation\n",
    "12. Kendall's Tau\n",
    "13. Pearson's Chi-Square Test\n",
    "\n",
    "> The correlation is a measure of the strength and direction of the relationship between the two variables. The covariance is a measure of the strength of the relationship between the two variables. The regression is a model that predicts the value of one variable based on the value of the other variable. The ANOVA is a test that compares the means of two or more groups. The Chi-Square is a test that compares the observed and expected frequencies of two or more groups. The T-Test is a test that compares the means of two groups. The Mann-Whitney U Test is a test that compares the medians of two groups. The Wilcoxon Signed-Rank Test is a test that compares the medians of two related groups. The Kruskal-Wallis Test is a test that compares the medians of two or more groups. The Friedman Test is a test that compares the medians of two or more related groups. Spearman's Rank Correlation is a measure of the strength and direction of the relationship between two variables. Kendall's Tau is a measure of the strength and direction of the relationship between two variables. Pearson's Chi-Square Test is a test that compares the observed and expected frequencies of two or more groups.\n",
    "\n",
    "## Conclusion\n",
    "\n",
    "In conclusion, the univariate analysis is an analysis of a single variable, and the bivariate analysis is an analysis of two variables. The univariate analysis can be performed using the mean, median, mode, range, variance, standard deviation, skewness, and kurtosis. The bivariate analysis can be performed using the correlation, covariance, regression, ANOVA, Chi-Square, T-Test, Mann-Whitney U Test, Wilcoxon Signed-Rank Test, Kruskal-Wallis Test, Friedman Test, Spearman's Rank Correlation, Kendall's Tau, and Pearson's Chi-Square Test.\n",
    "\n",
    "The univariate analysis is used to describe the data and find patterns in the data, while the bivariate analysis is used to find relationships between two variables. Both analyses are important in understanding the data and making informed decisions based on the data.\n",
    "\n",
    "The statistical analyses can be performed using statistical software such as R, Python, or SPSS. The results of the analyses can be presented in tables, graphs, or charts to help visualize the data and communicate the findings to others.\n",
    "\n",
    "In this notebook, we will perform a several tests to understand the data and make informed decisions based on the data.\n",
    "\n",
    "So let's start with the analysis."
   ]
  },
  {
   "cell_type": "markdown",
   "metadata": {},
   "source": [
    "## 1. Chi-square Test"
   ]
  },
  {
   "cell_type": "code",
   "execution_count": 16,
   "metadata": {},
   "outputs": [],
   "source": [
    "# improt libraries\n",
    "import pandas as pd\n",
    "import numpy as np\n",
    "import seaborn as sns\n",
    "from scipy import stats"
   ]
  },
  {
   "cell_type": "code",
   "execution_count": 17,
   "metadata": {},
   "outputs": [
    {
     "data": {
      "text/html": [
       "<div>\n",
       "<style scoped>\n",
       "    .dataframe tbody tr th:only-of-type {\n",
       "        vertical-align: middle;\n",
       "    }\n",
       "\n",
       "    .dataframe tbody tr th {\n",
       "        vertical-align: top;\n",
       "    }\n",
       "\n",
       "    .dataframe thead th {\n",
       "        text-align: right;\n",
       "    }\n",
       "</style>\n",
       "<table border=\"1\" class=\"dataframe\">\n",
       "  <thead>\n",
       "    <tr style=\"text-align: right;\">\n",
       "      <th></th>\n",
       "      <th>survived</th>\n",
       "      <th>pclass</th>\n",
       "      <th>sex</th>\n",
       "      <th>age</th>\n",
       "      <th>sibsp</th>\n",
       "      <th>parch</th>\n",
       "      <th>fare</th>\n",
       "      <th>embarked</th>\n",
       "      <th>class</th>\n",
       "      <th>who</th>\n",
       "      <th>adult_male</th>\n",
       "      <th>deck</th>\n",
       "      <th>embark_town</th>\n",
       "      <th>alive</th>\n",
       "      <th>alone</th>\n",
       "    </tr>\n",
       "  </thead>\n",
       "  <tbody>\n",
       "    <tr>\n",
       "      <th>0</th>\n",
       "      <td>0</td>\n",
       "      <td>3</td>\n",
       "      <td>male</td>\n",
       "      <td>22.0</td>\n",
       "      <td>1</td>\n",
       "      <td>0</td>\n",
       "      <td>7.2500</td>\n",
       "      <td>S</td>\n",
       "      <td>Third</td>\n",
       "      <td>man</td>\n",
       "      <td>True</td>\n",
       "      <td>NaN</td>\n",
       "      <td>Southampton</td>\n",
       "      <td>no</td>\n",
       "      <td>False</td>\n",
       "    </tr>\n",
       "    <tr>\n",
       "      <th>1</th>\n",
       "      <td>1</td>\n",
       "      <td>1</td>\n",
       "      <td>female</td>\n",
       "      <td>38.0</td>\n",
       "      <td>1</td>\n",
       "      <td>0</td>\n",
       "      <td>71.2833</td>\n",
       "      <td>C</td>\n",
       "      <td>First</td>\n",
       "      <td>woman</td>\n",
       "      <td>False</td>\n",
       "      <td>C</td>\n",
       "      <td>Cherbourg</td>\n",
       "      <td>yes</td>\n",
       "      <td>False</td>\n",
       "    </tr>\n",
       "    <tr>\n",
       "      <th>2</th>\n",
       "      <td>1</td>\n",
       "      <td>3</td>\n",
       "      <td>female</td>\n",
       "      <td>26.0</td>\n",
       "      <td>0</td>\n",
       "      <td>0</td>\n",
       "      <td>7.9250</td>\n",
       "      <td>S</td>\n",
       "      <td>Third</td>\n",
       "      <td>woman</td>\n",
       "      <td>False</td>\n",
       "      <td>NaN</td>\n",
       "      <td>Southampton</td>\n",
       "      <td>yes</td>\n",
       "      <td>True</td>\n",
       "    </tr>\n",
       "    <tr>\n",
       "      <th>3</th>\n",
       "      <td>1</td>\n",
       "      <td>1</td>\n",
       "      <td>female</td>\n",
       "      <td>35.0</td>\n",
       "      <td>1</td>\n",
       "      <td>0</td>\n",
       "      <td>53.1000</td>\n",
       "      <td>S</td>\n",
       "      <td>First</td>\n",
       "      <td>woman</td>\n",
       "      <td>False</td>\n",
       "      <td>C</td>\n",
       "      <td>Southampton</td>\n",
       "      <td>yes</td>\n",
       "      <td>False</td>\n",
       "    </tr>\n",
       "    <tr>\n",
       "      <th>4</th>\n",
       "      <td>0</td>\n",
       "      <td>3</td>\n",
       "      <td>male</td>\n",
       "      <td>35.0</td>\n",
       "      <td>0</td>\n",
       "      <td>0</td>\n",
       "      <td>8.0500</td>\n",
       "      <td>S</td>\n",
       "      <td>Third</td>\n",
       "      <td>man</td>\n",
       "      <td>True</td>\n",
       "      <td>NaN</td>\n",
       "      <td>Southampton</td>\n",
       "      <td>no</td>\n",
       "      <td>True</td>\n",
       "    </tr>\n",
       "  </tbody>\n",
       "</table>\n",
       "</div>"
      ],
      "text/plain": [
       "   survived  pclass     sex   age  sibsp  parch     fare embarked  class  \\\n",
       "0         0       3    male  22.0      1      0   7.2500        S  Third   \n",
       "1         1       1  female  38.0      1      0  71.2833        C  First   \n",
       "2         1       3  female  26.0      0      0   7.9250        S  Third   \n",
       "3         1       1  female  35.0      1      0  53.1000        S  First   \n",
       "4         0       3    male  35.0      0      0   8.0500        S  Third   \n",
       "\n",
       "     who  adult_male deck  embark_town alive  alone  \n",
       "0    man        True  NaN  Southampton    no  False  \n",
       "1  woman       False    C    Cherbourg   yes  False  \n",
       "2  woman       False  NaN  Southampton   yes   True  \n",
       "3  woman       False    C  Southampton   yes  False  \n",
       "4    man        True  NaN  Southampton    no   True  "
      ]
     },
     "execution_count": 17,
     "metadata": {},
     "output_type": "execute_result"
    }
   ],
   "source": [
    "# load the data\n",
    "df = sns.load_dataset('titanic')\n",
    "df.head()"
   ]
  },
  {
   "cell_type": "markdown",
   "metadata": {},
   "source": [
    "`Null Hypothesis:` There is no significant association between gender ('sex') and survival ('survived') on the Titanic. This means any observed differences in survival rates between genders in the dataset are due to chance and not due to an underlying relationship."
   ]
  },
  {
   "cell_type": "markdown",
   "metadata": {},
   "source": [
    "`Alternative Hypothesis:` There is a significant association between gender ('sex') and survival ('survived') on the Titanic. This implies that the differences in survival rates are not just due to chance but are influenced by the passengers' gender."
   ]
  },
  {
   "cell_type": "code",
   "execution_count": 18,
   "metadata": {},
   "outputs": [
    {
     "data": {
      "text/html": [
       "<div>\n",
       "<style scoped>\n",
       "    .dataframe tbody tr th:only-of-type {\n",
       "        vertical-align: middle;\n",
       "    }\n",
       "\n",
       "    .dataframe tbody tr th {\n",
       "        vertical-align: top;\n",
       "    }\n",
       "\n",
       "    .dataframe thead th {\n",
       "        text-align: right;\n",
       "    }\n",
       "</style>\n",
       "<table border=\"1\" class=\"dataframe\">\n",
       "  <thead>\n",
       "    <tr style=\"text-align: right;\">\n",
       "      <th>survived</th>\n",
       "      <th>0</th>\n",
       "      <th>1</th>\n",
       "    </tr>\n",
       "    <tr>\n",
       "      <th>sex</th>\n",
       "      <th></th>\n",
       "      <th></th>\n",
       "    </tr>\n",
       "  </thead>\n",
       "  <tbody>\n",
       "    <tr>\n",
       "      <th>female</th>\n",
       "      <td>81</td>\n",
       "      <td>233</td>\n",
       "    </tr>\n",
       "    <tr>\n",
       "      <th>male</th>\n",
       "      <td>468</td>\n",
       "      <td>109</td>\n",
       "    </tr>\n",
       "  </tbody>\n",
       "</table>\n",
       "</div>"
      ],
      "text/plain": [
       "survived    0    1\n",
       "sex               \n",
       "female     81  233\n",
       "male      468  109"
      ]
     },
     "execution_count": 18,
     "metadata": {},
     "output_type": "execute_result"
    }
   ],
   "source": [
    "# Create a contigency table\n",
    "contigency_table = pd.crosstab(df['sex'], df['survived'])\n",
    "contigency_table"
   ]
  },
  {
   "cell_type": "code",
   "execution_count": 19,
   "metadata": {},
   "outputs": [
    {
     "name": "stdout",
     "output_type": "stream",
     "text": [
      "Chi-square statistic: 260.71702016732104\n",
      "p-value: 1.1973570627755643e-58\n",
      "Degrees of freedom: 1\n",
      "Expected:\n",
      " [[193.47474747 120.52525253]\n",
      " [355.52525253 221.47474747]]\n"
     ]
    }
   ],
   "source": [
    "# perform chi-square test\n",
    "chi2, p, dof, expected = stats.chi2_contingency(contigency_table)\n",
    "\n",
    "# print the results\n",
    "print('Chi-square statistic:', chi2)\n",
    "print('p-value:', p)\n",
    "print('Degrees of freedom:', dof)\n",
    "print(f\"Expected:\\n {expected}\")"
   ]
  },
  {
   "cell_type": "markdown",
   "metadata": {},
   "source": [
    "As the p_value in this test is `P-value: 1.1973570627755645e-58` which is far less than `0.05`, we reject the null hypothesis."
   ]
  },
  {
   "cell_type": "markdown",
   "metadata": {},
   "source": [
    "---\n",
    "## 2. Normal Distribution Test"
   ]
  },
  {
   "cell_type": "code",
   "execution_count": 20,
   "metadata": {},
   "outputs": [
    {
     "data": {
      "text/html": [
       "<div>\n",
       "<style scoped>\n",
       "    .dataframe tbody tr th:only-of-type {\n",
       "        vertical-align: middle;\n",
       "    }\n",
       "\n",
       "    .dataframe tbody tr th {\n",
       "        vertical-align: top;\n",
       "    }\n",
       "\n",
       "    .dataframe thead th {\n",
       "        text-align: right;\n",
       "    }\n",
       "</style>\n",
       "<table border=\"1\" class=\"dataframe\">\n",
       "  <thead>\n",
       "    <tr style=\"text-align: right;\">\n",
       "      <th></th>\n",
       "      <th>survived</th>\n",
       "      <th>pclass</th>\n",
       "      <th>sex</th>\n",
       "      <th>age</th>\n",
       "      <th>sibsp</th>\n",
       "      <th>parch</th>\n",
       "      <th>fare</th>\n",
       "      <th>embarked</th>\n",
       "      <th>class</th>\n",
       "      <th>who</th>\n",
       "      <th>adult_male</th>\n",
       "      <th>deck</th>\n",
       "      <th>embark_town</th>\n",
       "      <th>alive</th>\n",
       "      <th>alone</th>\n",
       "    </tr>\n",
       "  </thead>\n",
       "  <tbody>\n",
       "    <tr>\n",
       "      <th>0</th>\n",
       "      <td>0</td>\n",
       "      <td>3</td>\n",
       "      <td>male</td>\n",
       "      <td>22.0</td>\n",
       "      <td>1</td>\n",
       "      <td>0</td>\n",
       "      <td>7.2500</td>\n",
       "      <td>S</td>\n",
       "      <td>Third</td>\n",
       "      <td>man</td>\n",
       "      <td>True</td>\n",
       "      <td>NaN</td>\n",
       "      <td>Southampton</td>\n",
       "      <td>no</td>\n",
       "      <td>False</td>\n",
       "    </tr>\n",
       "    <tr>\n",
       "      <th>1</th>\n",
       "      <td>1</td>\n",
       "      <td>1</td>\n",
       "      <td>female</td>\n",
       "      <td>38.0</td>\n",
       "      <td>1</td>\n",
       "      <td>0</td>\n",
       "      <td>71.2833</td>\n",
       "      <td>C</td>\n",
       "      <td>First</td>\n",
       "      <td>woman</td>\n",
       "      <td>False</td>\n",
       "      <td>C</td>\n",
       "      <td>Cherbourg</td>\n",
       "      <td>yes</td>\n",
       "      <td>False</td>\n",
       "    </tr>\n",
       "    <tr>\n",
       "      <th>2</th>\n",
       "      <td>1</td>\n",
       "      <td>3</td>\n",
       "      <td>female</td>\n",
       "      <td>26.0</td>\n",
       "      <td>0</td>\n",
       "      <td>0</td>\n",
       "      <td>7.9250</td>\n",
       "      <td>S</td>\n",
       "      <td>Third</td>\n",
       "      <td>woman</td>\n",
       "      <td>False</td>\n",
       "      <td>NaN</td>\n",
       "      <td>Southampton</td>\n",
       "      <td>yes</td>\n",
       "      <td>True</td>\n",
       "    </tr>\n",
       "    <tr>\n",
       "      <th>3</th>\n",
       "      <td>1</td>\n",
       "      <td>1</td>\n",
       "      <td>female</td>\n",
       "      <td>35.0</td>\n",
       "      <td>1</td>\n",
       "      <td>0</td>\n",
       "      <td>53.1000</td>\n",
       "      <td>S</td>\n",
       "      <td>First</td>\n",
       "      <td>woman</td>\n",
       "      <td>False</td>\n",
       "      <td>C</td>\n",
       "      <td>Southampton</td>\n",
       "      <td>yes</td>\n",
       "      <td>False</td>\n",
       "    </tr>\n",
       "    <tr>\n",
       "      <th>4</th>\n",
       "      <td>0</td>\n",
       "      <td>3</td>\n",
       "      <td>male</td>\n",
       "      <td>35.0</td>\n",
       "      <td>0</td>\n",
       "      <td>0</td>\n",
       "      <td>8.0500</td>\n",
       "      <td>S</td>\n",
       "      <td>Third</td>\n",
       "      <td>man</td>\n",
       "      <td>True</td>\n",
       "      <td>NaN</td>\n",
       "      <td>Southampton</td>\n",
       "      <td>no</td>\n",
       "      <td>True</td>\n",
       "    </tr>\n",
       "  </tbody>\n",
       "</table>\n",
       "</div>"
      ],
      "text/plain": [
       "   survived  pclass     sex   age  sibsp  parch     fare embarked  class  \\\n",
       "0         0       3    male  22.0      1      0   7.2500        S  Third   \n",
       "1         1       1  female  38.0      1      0  71.2833        C  First   \n",
       "2         1       3  female  26.0      0      0   7.9250        S  Third   \n",
       "3         1       1  female  35.0      1      0  53.1000        S  First   \n",
       "4         0       3    male  35.0      0      0   8.0500        S  Third   \n",
       "\n",
       "     who  adult_male deck  embark_town alive  alone  \n",
       "0    man        True  NaN  Southampton    no  False  \n",
       "1  woman       False    C    Cherbourg   yes  False  \n",
       "2  woman       False  NaN  Southampton   yes   True  \n",
       "3  woman       False    C  Southampton   yes  False  \n",
       "4    man        True  NaN  Southampton    no   True  "
      ]
     },
     "execution_count": 20,
     "metadata": {},
     "output_type": "execute_result"
    }
   ],
   "source": [
    "df.head()"
   ]
  },
  {
   "cell_type": "code",
   "execution_count": 21,
   "metadata": {},
   "outputs": [
    {
     "data": {
      "text/plain": [
       "<Axes: xlabel='age', ylabel='Count'>"
      ]
     },
     "execution_count": 21,
     "metadata": {},
     "output_type": "execute_result"
    },
    {
     "data": {
      "image/png": "[encoded data removed]",
      "text/plain": [
       "<Figure size 640x480 with 1 Axes>"
      ]
     },
     "metadata": {},
     "output_type": "display_data"
    }
   ],
   "source": [
    "# graphical Method\n",
    "sns.histplot(data=df, x='age', kde=True)"
   ]
  },
  {
   "cell_type": "markdown",
   "metadata": {},
   "source": [
    "# shapiro wilk Test on Normal Distribution Gaussian Distribution\n",
    "# Null Hypothesis: The data is normally distributed.\n",
    "# Alternative Hypothesis: Data is not normally distributed."
   ]
  },
  {
   "cell_type": "code",
   "execution_count": 22,
   "metadata": {},
   "outputs": [
    {
     "name": "stdout",
     "output_type": "stream",
     "text": [
      "p-value: nan, Sample does not look Gaussian/Normally Distributed (reject H0)\n"
     ]
    }
   ],
   "source": [
    "# shapiro Wilk Test \n",
    "statistic, p = stats.shapiro(df['age'])\n",
    "\n",
    "# print the results using if else\n",
    "if p > 0.05:\n",
    "    print(f'p-value: {p}, Sample looks Gaussian/Normally Distributed (fail to reject H0)')\n",
    "else:\n",
    "    print(f'p-value: {p}, Sample does not look Gaussian/Normally Distributed (reject H0)')"
   ]
  },
  {
   "cell_type": "code",
   "execution_count": 23,
   "metadata": {},
   "outputs": [
    {
     "data": {
      "text/plain": [
       "<Axes: xlabel='fare', ylabel='Count'>"
      ]
     },
     "execution_count": 23,
     "metadata": {},
     "output_type": "execute_result"
    },
    {
     "data": {
      "image/png": "[encoded data removed]",
      "text/plain": [
       "<Figure size 640x480 with 1 Axes>"
      ]
     },
     "metadata": {},
     "output_type": "display_data"
    }
   ],
   "source": [
    "sns.histplot(data=df, x='fare', kde=True)"
   ]
  },
  {
   "cell_type": "code",
   "execution_count": 24,
   "metadata": {},
   "outputs": [
    {
     "name": "stdout",
     "output_type": "stream",
     "text": [
      "p-value: 1.0840444395829658e-43, Sample does not look Gaussian/Normally Distributed (reject H0)\n"
     ]
    }
   ],
   "source": [
    "statistic, p = stats.shapiro(df['fare'])\n",
    "# print the results using if else\n",
    "if p > 0.05:\n",
    "    print(f'p-value: {p}, Sample looks Gaussian/Normally Distributed (fail to reject H0)')\n",
    "else:\n",
    "    print(f'p-value: {p}, Sample does not look Gaussian/Normally Distributed (reject H0)')"
   ]
  },
  {
   "cell_type": "markdown",
   "metadata": {},
   "source": [
    "---"
   ]
  },
  {
   "cell_type": "markdown",
   "metadata": {},
   "source": [
    "# t-Test"
   ]
  },
  {
   "cell_type": "markdown",
   "metadata": {},
   "source": [
    "Choosing between a Z-test and a T-test for hypothesis testing depends primarily on two factors: the sample size and whether the population standard deviation is known. \n",
    "\n",
    "### Z-test:\n",
    "1. **When to Use**:\n",
    "   - The population standard deviation is known.\n",
    "   - The sample size is large (commonly, n ≥ 30). With large samples, the sample standard deviation approximates the population standard deviation.\n",
    "   - For proportions (e.g., testing the proportion of success in a sample against a known population proportion).\n",
    "\n",
    "2. **Characteristics**:\n",
    "   - Based on the Z-distribution, which is a normal distribution as n becomes large.\n",
    "   - More commonly used in quality control and standardization processes.\n",
    "\n",
    "### T-test:\n",
    "1. **When to Use**:\n",
    "   - The population standard deviation is unknown.\n",
    "   - The sample size is small (typically, n < 30).\n",
    "   - Suitable for cases where the data is approximately normally distributed, especially in small samples.\n",
    "\n",
    "2. **Characteristics**:\n",
    "   - Based on the T-distribution, which accounts for the additional uncertainty due to the estimation of the population standard deviation from the sample.\n",
    "   - T-distribution becomes closer to the normal distribution as the sample size increases.\n",
    "\n",
    "### General Guidelines:\n",
    "- **Large Samples**: With large sample sizes, the T-test and Z-test will give similar results. This is because the T-distribution approaches the normal distribution as the sample size increases.\n",
    "- **Small Samples**: When the sample size is small and the population standard deviation is unknown, the T-test is generally the appropriate choice due to its ability to account for the uncertainty in the standard deviation estimate.\n",
    "- **Unknown Population Standard Deviation**: Even with large samples, if the population standard deviation is unknown and cannot be reliably estimated, a T-test is usually preferred.\n",
    "\n",
    "### Conclusion:\n",
    "- Use the **Z-test** for large sample sizes or when the population standard deviation is known.\n",
    "- Use the **T-test** for small sample sizes or when the population standard deviation is unknown.\n",
    "\n",
    "In practice, the T-test is more commonly used in many research scenarios due to the rarity of knowing the population standard deviation and often dealing with smaller sample sizes."
   ]
  },
  {
   "cell_type": "markdown",
   "metadata": {},
   "source": [
    "Ham is notebook main t-test dekhen gay."
   ]
  },
  {
   "cell_type": "markdown",
   "metadata": {},
   "source": [
    "1. One-sample T-test"
   ]
  },
  {
   "cell_type": "code",
   "execution_count": 25,
   "metadata": {},
   "outputs": [
    {
     "name": "stdout",
     "output_type": "stream",
     "text": [
      "t-statistic: -1.414213562373095\n",
      "p-value: 0.23019964108049873\n",
      "p-value: 0.23019964108049873, Sample mean is equal to population mean (fail to reject H0)\n"
     ]
    }
   ],
   "source": [
    "import scipy.stats as stats\n",
    "\n",
    "# sample data\n",
    "x = [1, 2, 3, 4, 5]\n",
    "\n",
    "# known population mean\n",
    "mu = 4\n",
    "\n",
    "# perform one sample t-test\n",
    "t_statistic, p = stats.ttest_1samp(x, mu)\n",
    "\n",
    "# print results\n",
    "print('t-statistic:', t_statistic)\n",
    "print('p-value:', p)\n",
    "\n",
    "# print the results using if else\n",
    "if p > 0.05:\n",
    "    print(f'p-value: {p}, Sample mean is equal to population mean (fail to reject H0)')\n",
    "else:\n",
    "    print(f'p-value: {p}, Sample mean is not equal to population mean (reject H0)')"
   ]
  },
  {
   "cell_type": "markdown",
   "metadata": {},
   "source": [
    "2.  Two Sample T-test (independent)"
   ]
  },
  {
   "cell_type": "code",
   "execution_count": 26,
   "metadata": {},
   "outputs": [
    {
     "name": "stdout",
     "output_type": "stream",
     "text": [
      "t-statistic: 1.8482055087756457\n",
      "p-value: 0.10175647371829193\n",
      "p-value: 0.10175647371829193, group1 mean is equal to group2 mean (fail to reject H0)\n"
     ]
    }
   ],
   "source": [
    "import scipy.stats as stats\n",
    "\n",
    "# sample data\n",
    "group1 = [2.3, 3.4, 4.5, 2.3, 3.4]\n",
    "group2 = [1.2, 2.2, 3.2, 2.2, 2.3]\n",
    "\n",
    "# perform independent two-sample t-test\n",
    "t_stat, p = stats.ttest_ind(group1, group2, equal_var=True)\n",
    "\n",
    "print(\"t-statistic:\", t_stat)\n",
    "print(\"p-value:\", p)\n",
    "\n",
    "if p > 0.05:\n",
    "    print(f'p-value: {p}, group1 mean is equal to group2 mean (fail to reject H0)')\n",
    "else:\n",
    "    print(f'p-value: {p}, group1 mean is not equal to group2 mean (reject H0)')\n"
   ]
  },
  {
   "cell_type": "markdown",
   "metadata": {},
   "source": [
    "3. Paired Sample t-test"
   ]
  },
  {
   "cell_type": "code",
   "execution_count": 27,
   "metadata": {},
   "outputs": [
    {
     "name": "stdout",
     "output_type": "stream",
     "text": [
      "t-statistic: -inf\n",
      "p-value: 0.0\n",
      "p-value: 0.0, before mean is not equal to after mean (reject H0)\n"
     ]
    },
    {
     "name": "stderr",
     "output_type": "stream",
     "text": [
      "c:\\Users\\aammar\\miniconda3\\envs\\data_analysis\\lib\\site-packages\\scipy\\stats\\_axis_nan_policy.py:573: RuntimeWarning: Precision loss occurred in moment calculation due to catastrophic cancellation. This occurs when the data are nearly identical. Results may be unreliable.\n",
      "  res = hypotest_fun_out(*samples, **kwds)\n"
     ]
    }
   ],
   "source": [
    "import scipy.stats as stats\n",
    "\n",
    "# sample data\n",
    "before = [2, 3, 4, 5, 6]\n",
    "after = [3, 4, 5, 6, 7]\n",
    "\n",
    "# perform paired sample t-test\n",
    "t_stat, p_val = stats.ttest_rel(before, after)\n",
    "\n",
    "print(\"t-statistic:\", t_stat)\n",
    "print(\"p-value:\", p_val)\n",
    "\n",
    "# print the results using if else conditions\n",
    "if p_val > 0.05:\n",
    "    print(f'p-value: {p_val}, before mean is equal to after mean (fail to reject H0)')\n",
    "else:\n",
    "    print(f'p-value: {p_val}, before mean is not equal to after mean (reject H0)')\n"
   ]
  },
  {
   "cell_type": "markdown",
   "metadata": {},
   "source": [
    "# Test for Homogeniety"
   ]
  },
  {
   "cell_type": "markdown",
   "metadata": {},
   "source": [
    "## 1.  Levene's Test"
   ]
  },
  {
   "cell_type": "code",
   "execution_count": 28,
   "metadata": {},
   "outputs": [
    {
     "name": "stdout",
     "output_type": "stream",
     "text": [
      "w-statistic: 0.44651162790697696\n",
      "p-value: 0.5228039334796065\n",
      "p-value: 0.5228039334796065, Variances are equal (fail to reject H0)\n"
     ]
    }
   ],
   "source": [
    "import scipy.stats as stats\n",
    "\n",
    "# Sample data\n",
    "group1 = [2.3, 3.4, 4.5, 2.3, 3.4]\n",
    "group2 = [1.2, 2.2, 3.2, 2.2, 2.3]\n",
    "\n",
    "# Perform Levene's Test\n",
    "w_stat, p_val = stats.levene(group1, group2)\n",
    "\n",
    "print(\"w-statistic:\", w_stat)\n",
    "print(\"p-value:\", p_val)\n",
    "\n",
    "# print the results based on if else conditions\n",
    "if p_val > 0.05:\n",
    "    print(f'p-value: {p_val}, Variances are equal (fail to reject H0)')\n",
    "else:\n",
    "    print(f'p-value: {p_val}, Variances are not equal (reject H0)')\n"
   ]
  },
  {
   "cell_type": "markdown",
   "metadata": {},
   "source": [
    "## 2. Bartlett's Test"
   ]
  },
  {
   "cell_type": "code",
   "execution_count": 29,
   "metadata": {},
   "outputs": [
    {
     "name": "stdout",
     "output_type": "stream",
     "text": [
      "t-statistic: 0.24050679805097827\n",
      "p-value: 0.6238403179343277\n",
      "p-value: 0.6238403179343277, Variances are equal (fail to reject H0)\n"
     ]
    }
   ],
   "source": [
    "import scipy.stats as stats\n",
    "\n",
    "# Sample data\n",
    "group1 = [2.3, 3.4, 4.5, 2.3, 3.4]\n",
    "group2 = [1.2, 2.2, 3.2, 2.2, 2.3]\n",
    "\n",
    "# Perform Bartlett's Test\n",
    "t_stat, p_val = stats.bartlett(group1, group2)\n",
    "\n",
    "print(\"t-statistic:\", t_stat)\n",
    "print(\"p-value:\", p_val)\n",
    "\n",
    "# print the results using if else conditions\n",
    "if p_val > 0.05:\n",
    "    print(f'p-value: {p_val}, Variances are equal (fail to reject H0)')\n",
    "else:\n",
    "    print(f'p-value: {p_val}, Variances are not equal (reject H0)')\n"
   ]
  },
  {
   "cell_type": "markdown",
   "metadata": {},
   "source": [
    "# ANOVA\n",
    "Analysis of Variance"
   ]
  },
  {
   "cell_type": "markdown",
   "metadata": {},
   "source": [
    "## 1. ONe-way ANOVA"
   ]
  },
  {
   "cell_type": "code",
   "execution_count": 30,
   "metadata": {},
   "outputs": [
    {
     "name": "stdout",
     "output_type": "stream",
     "text": [
      "p-value: 4.279979561060642e-13, Means are not equal (reject H0)\n"
     ]
    }
   ],
   "source": [
    "import scipy.stats as stats\n",
    "\n",
    "# Sample data\n",
    "\n",
    "a = [2.3, 3.4, 4.5, 2.3, 3.4]\n",
    "b = [11.2, 12.2, 13.2, 12.2, 12.3]\n",
    "c = [22.3, 23.4, 24.5, 22.3, 23.4]\n",
    "\n",
    "# perform one-way ANOVA\n",
    "f_stat, p_val = stats.f_oneway(a, b, c)\n",
    "\n",
    "# print the results base on if else conditions\n",
    "if p_val > 0.05:\n",
    "    print(f'p-value: {p_val}, Means are equal (fail to reject H0)')\n",
    "else:\n",
    "    print(f'p-value: {p_val}, Means are not equal (reject H0)')"
   ]
  }
 ],
 "metadata": {
  "kernelspec": {
   "display_name": "data_analysis",
   "language": "python",
   "name": "python3"
  },
  "language_info": {
   "codemirror_mode": {
    "name": "ipython",
    "version": 3
   },
   "file_extension": ".py",
   "mimetype": "text/x-python",
   "name": "python",
   "nbconvert_exporter": "python",
   "pygments_lexer": "ipython3",
   "version": "3.10.0"
  }
 },
 "nbformat": 4,
 "nbformat_minor": 2
}
