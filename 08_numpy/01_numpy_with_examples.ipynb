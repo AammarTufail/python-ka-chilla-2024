{
 "cells": [
  {
   "cell_type": "markdown",
   "id": "dbf8f930",
   "metadata": {},
   "source": [
    "# **Introduction to Numpy**\n",
    "\n",
    "\n",
    "<h2 style=\"font-family: 'poppins'; font-weight: bold; color: Green;\">👨‍💻Author: Dr. Muhammad Aamamr Tufail</h2>\n",
    "\n",
    "[![GitHub](https://img.shields.io/badge/GitHub-Profile-blue?style=for-the-badge&logo=github)](https://github.com/AammarTufail) \n",
    "[![Kaggle](https://img.shields.io/badge/Kaggle-Profile-blue?style=for-the-badge&logo=kaggle)](https://www.kaggle.com/muhammadaammartufail) \n",
    "[![LinkedIn](https://img.shields.io/badge/LinkedIn-Profile-blue?style=for-the-badge&logo=linkedin)](https://www.linkedin.com/in/dr-muhammad-aammar-tufail-02471213b/)  \n",
    "\n",
    "[![YouTube](https://img.shields.io/badge/YouTube-Profile-red?style=for-the-badge&logo=youtube)](https://www.youtube.com/@codanics) \n",
    "[![Facebook](https://img.shields.io/badge/Facebook-Profile-blue?style=for-the-badge&logo=facebook)](https://www.facebook.com/aammar.tufail) \n",
    "[![TikTok](https://img.shields.io/badge/TikTok-Profile-black?style=for-the-badge&logo=tiktok)](https://www.tiktok.com/@draammar)  \n",
    "\n",
    "[![Twitter/X](https://img.shields.io/badge/Twitter-Profile-blue?style=for-the-badge&logo=twitter)](https://twitter.com/aammar_tufail) \n",
    "[![Instagram](https://img.shields.io/badge/Instagram-Profile-blue?style=for-the-badge&logo=instagram)](https://www.instagram.com/aammartufail/) \n",
    "[![Email](https://img.shields.io/badge/Email-Contact%20Me-red?style=for-the-badge&logo=email)](mailto:aammar@codanics.com)\n",
    "\n",
    "## Complete Crash Course on Mathematics for Data Science\n",
    "\n",
    "Here you can find the complete crash course on Mathematics for Data Science. This course is designed for beginners who want to learn the basics of mathematics for data science. This course is designed in such a way that you can learn the basics of mathematics in a very short time. This course is designed in Urdu language.\n",
    "\n",
    "Here is youtube video link for this course: [Mathematics for Data Science Complete Crash course for beginners in urdu](https://youtu.be/yDzJ4tgaN7A?si=7tnHPL7yK3ehWzRB)\n"
   ]
  },
  {
   "cell_type": "markdown",
   "id": "105d7f03",
   "metadata": {},
   "source": [
    "\n",
    "NumPy, short for \"Numerical Python,\" is a fundamental package for scientific computing in Python. \n",
    "It provides support for large, multi-dimensional arrays and matrices, along with a variety of high-level mathematical functions to operate on these arrays. \n",
    "NumPy is widely used in data science, machine learning, and scientific computing due to its efficiency and ease of use.\n",
    "\n",
    "In this guide, we'll cover the basics of NumPy, along with the top commands essential for data science.\n",
    "\n",
    "---\n",
    "### **This notebook is created by Codanics**.\n",
    "        "
   ]
  },
  {
   "cell_type": "markdown",
   "id": "f8c5a34b",
   "metadata": {},
   "source": [
    "## Data Structures in NumPy\n",
    "\n",
    "The primary data structure in NumPy is the `ndarray` (n-dimensional array), which is a table of elements (usually numbers), all of the same type, indexed by a tuple of positive integers.\n",
    "\n",
    "Examples of NumPy data structures include:\n",
    "\n",
    ">- **Scalars:** Single numbers (e.g., `5`)\n",
    ">- **Vectors:** 1D arrays (e.g., `[1, 2, 3]`)\n",
    ">- **Matrices:** 2D arrays (e.g., `[[1, 2, 3], [4, 5, 6]]`)\n",
    ">- **Tensors:** n-dimensional arrays (e.g., RGB images)\n",
    "\n",
    "- NumPy arrays can have any number of dimensions, but most commonly, you'll use 1D, 2D, or 3D arrays.\n",
    "- NumPy arrays are homogeneous, meaning all elements must be of the same data type (e.g., integers, floats, strings).\n",
    "- NumPy arrays are mutable, meaning you can change the values of the elements in the array.\n",
    "- NumPy arrays are faster and more memory-efficient than Python lists.\n",
    "- NumPy arrays support vectorized operations, which allows you to perform operations on entire arrays at once.\n",
    "- NumPy arrays can be created from Python lists or tuples, or by using built-in NumPy functions.\n",
    "\n",
    "\n",
    "## Basic array operations\n",
    "\n",
    "- **Creating arrays:** You can create NumPy arrays using the `np.array()` function, passing a Python list or tuple as an argument.\n",
    "- **Array attributes:** You can access the shape, size, data type, and dimensions of a NumPy array using the `shape`, `size`, `dtype`, and `ndim` attributes, respectively.\n",
    "- **Indexing and slicing:** You can access elements, rows, columns, or subarrays of a NumPy array using indexing and slicing.\n",
    "- **Reshaping arrays:** You can change the shape of a NumPy array using the `reshape()` function.\n",
    "- **Combining arrays:** You can concatenate or stack multiple arrays together using functions like `np.concatenate()` and `np.vstack()`.\n",
    "- **Mathematical operations:** You can perform element-wise mathematical operations on NumPy arrays using arithmetic operators or built-in NumPy functions.\n",
    "- **Aggregation functions:** You can compute statistics like mean, median, sum, min, and max of a NumPy array using aggregation functions like `np.mean()`, `np.median()`, `np.sum()`, `np.min()`, and `np.max()`.\n",
    "- **Broadcasting:** You can perform operations on arrays of different shapes using NumPy's broadcasting rules.\n",
    "- **Random number generation:** You can generate random numbers using NumPy's random module, which provides functions like `np.random.rand()`, `np.random.randint()`, and `np.random.normal()`.\n",
    "- **Saving and loading arrays:** You can save NumPy arrays to disk and load them back using functions like `np.save()` and `np.load()`.\n",
    "- **Vectorized operations:** You can perform vectorized operations on NumPy arrays using functions like `np.sin()`, `np.cos()`, `np.exp()`, and `np.log()`.\n",
    "- **Linear algebra operations:** You can perform linear algebra operations like matrix multiplication, matrix inversion, and eigenvalue decomposition using functions in the `numpy.linalg` module.\n",
    "- **Sorting arrays:** You can sort NumPy arrays using functions like `np.sort()` and `np.argsort()`.\n",
    "- **Set operations:** You can perform set operations like union, intersection, and difference on NumPy arrays using functions like `np.union1d()`, `np.intersect1d()`, and `np.setdiff1d()`.\n",
    "- **Missing values:** You can handle missing values in NumPy arrays using functions like `np.isnan()`, `np.isinf()`, and `np.nan_to_num()`."
   ]
  },
  {
   "cell_type": "markdown",
   "id": "5f3bb180",
   "metadata": {},
   "source": [
    "# Installation and Importing Numpy\n",
    "\n",
    "## Installation\n",
    "```python\n",
    "!pip install numpy\n",
    "```\n",
    "\n",
    "## Importing NumPy\n",
    "```python\n",
    "import numpy as np\n",
    "```"
   ]
  },
  {
   "cell_type": "markdown",
   "id": "9630bbaa",
   "metadata": {},
   "source": [
    "\n",
    "To start using NumPy, you first need to import it. It's a common convention to import numpy with the alias `np`:\n",
    "\n",
    "\n",
    "\n",
    "        "
   ]
  },
  {
   "cell_type": "code",
   "execution_count": 1,
   "id": "e1af66e3",
   "metadata": {},
   "outputs": [],
   "source": [
    "import numpy as np"
   ]
  },
  {
   "cell_type": "markdown",
   "id": "e919e0b8",
   "metadata": {},
   "source": [
    "## 50 essential NumPy commands that are widely used in data science and data analytics:\n",
    "\n",
    "### Array Creation and Basic Manipulation\n",
    "\n",
    "1. `np.array` – Create an array.\n",
    "2. `np.zeros` – Create an array filled with zeros.\n",
    "3. `np.ones` – Create an array filled with ones.\n",
    "4. `np.empty` – Create an empty array.\n",
    "5. `np.arange` – Create an array with a range of values.\n",
    "6. `np.linspace` – Create an array with evenly spaced values over a specified interval.\n",
    "7. `np.reshape` – Reshape an array without changing its data.\n",
    "8. `np.transpose` – Transpose the dimensions of an array.\n",
    "9. `np.flatten` – Flatten a multi-dimensional array into a 1D array.\n",
    "10. `np.repeat` – Repeat elements of an array.\n",
    "\n",
    "### Joining, Splitting, and Modifying Arrays\n",
    "\n",
    "11. `np.concatenate` – Join arrays along an existing axis.\n",
    "12. `np.vstack` – Stack arrays vertically.\n",
    "13. `np.hstack` – Stack arrays horizontally.\n",
    "14. `np.split` – Split an array into multiple sub-arrays.\n",
    "15. `np.tile` – Construct an array by repeating it.\n",
    "16. `np.delete` – Delete elements from an array.\n",
    "17. `np.insert` – Insert elements into an array.\n",
    "18. `np.append` – Append values to an array.\n",
    "\n",
    "### Mathematical Operations\n",
    "\n",
    "19. `np.add` – Element-wise addition.\n",
    "20. `np.subtract` – Element-wise subtraction.\n",
    "21. `np.multiply` – Element-wise multiplication.\n",
    "22. `np.divide` – Element-wise division.\n",
    "23. `np.power` – Raise elements to a power.\n",
    "24. `np.sqrt` – Compute square roots of elements.\n",
    "25. `np.exp` – Exponential of all elements.\n",
    "26. `np.log` – Natural logarithm of all elements.\n",
    "27. `np.sin`, `np.cos`, `np.tan` – Trigonometric functions.\n",
    "\n",
    "### Statistical Operations\n",
    "\n",
    "28. `np.sum` – Sum of all elements.\n",
    "29. `np.mean` – Mean of elements.\n",
    "30. `np.median` – Median of elements.\n",
    "31. `np.std` – Standard deviation of elements.\n",
    "32. `np.var` – Variance of elements.\n",
    "33. `np.min` – Minimum element.\n",
    "34. `np.max` – Maximum element.\n",
    "35. `np.percentile` – Compute the percentile of elements.\n",
    "36. `np.cumsum` – Cumulative sum of elements.\n",
    "37. `np.cumprod` – Cumulative product of elements.\n",
    "\n",
    "### Logical Operations\n",
    "\n",
    "38. `np.where` – Return elements based on a condition.\n",
    "39. `np.any` – Check if any element is True.\n",
    "40. `np.all` – Check if all elements are True.\n",
    "41. `np.isin` – Check if elements are in another array.\n",
    "42. `np.unique` – Find unique elements.\n",
    "\n",
    "### Linear Algebra\n",
    "\n",
    "43. `np.dot` – Dot product of two arrays.\n",
    "44. `np.matmul` – Matrix multiplication.\n",
    "45. `np.linalg.inv` – Inverse of a matrix.\n",
    "46. `np.linalg.det` – Determinant of a matrix.\n",
    "47. `np.linalg.eig` – Eigenvalues and eigenvectors.\n",
    "\n",
    "### Utility Functions\n",
    "\n",
    "48. `np.sort` – Sort elements.\n",
    "49. `np.argsort` – Returns indices that would sort an array.\n",
    "50. `np.clip` – Limit values within a given range.\n",
    "\n",
    "These commands provide a solid foundation for data manipulation, transformation, statistical analysis, and linear algebra computations, which are essential in data science and analytics workflows."
   ]
  },
  {
   "cell_type": "markdown",
   "id": "8443c842",
   "metadata": {},
   "source": [
    "## **1. Array Creation and Basic Manipulation**"
   ]
  },
  {
   "cell_type": "code",
   "execution_count": 2,
   "id": "ad22ad7d",
   "metadata": {},
   "outputs": [
    {
     "name": "stdout",
     "output_type": "stream",
     "text": [
      "[1 2 3 4 5]\n"
     ]
    }
   ],
   "source": [
    "# creata an array\n",
    "a = np.array([1, 2, 3, 4, 5])\n",
    "print(a)"
   ]
  },
  {
   "cell_type": "code",
   "execution_count": 3,
   "id": "aa13e01a",
   "metadata": {},
   "outputs": [
    {
     "name": "stdout",
     "output_type": "stream",
     "text": [
      "[[1 2 3]\n",
      " [4 5 6]]\n"
     ]
    }
   ],
   "source": [
    "# create a 2D array\n",
    "b = np.array([[1, 2, 3], [4, 5, 6]])\n",
    "print(b)"
   ]
  },
  {
   "cell_type": "code",
   "execution_count": 4,
   "id": "1258e67d",
   "metadata": {},
   "outputs": [
    {
     "name": "stdout",
     "output_type": "stream",
     "text": [
      "[[1 2 3]\n",
      " [4 5 6]\n",
      " [7 8 9]]\n"
     ]
    }
   ],
   "source": [
    "b1 = np.array([[1, 2, 3], [4, 5, 6], [7, 8, 9]])\n",
    "print(b1)"
   ]
  },
  {
   "cell_type": "code",
   "execution_count": 5,
   "id": "b76090ff",
   "metadata": {},
   "outputs": [
    {
     "name": "stdout",
     "output_type": "stream",
     "text": [
      "[[0. 0. 0.]\n",
      " [0. 0. 0.]]\n"
     ]
    }
   ],
   "source": [
    "# create an array with zeros\n",
    "c = np.zeros((2, 3))\n",
    "print(c)"
   ]
  },
  {
   "cell_type": "code",
   "execution_count": 6,
   "id": "83dcf733",
   "metadata": {},
   "outputs": [
    {
     "name": "stdout",
     "output_type": "stream",
     "text": [
      "[[1. 1. 1.]\n",
      " [1. 1. 1.]]\n"
     ]
    }
   ],
   "source": [
    "# with ones\n",
    "d = np.ones((2, 3))\n",
    "print(d)"
   ]
  },
  {
   "cell_type": "code",
   "execution_count": 8,
   "id": "101300a9",
   "metadata": {},
   "outputs": [
    {
     "name": "stdout",
     "output_type": "stream",
     "text": [
      "[[6.93584551e-312 2.81617418e-322 0.00000000e+000 0.00000000e+000\n",
      "  0.00000000e+000 1.33664410e+160]\n",
      " [6.87250139e-091 8.37963619e+169 2.38267005e+179 1.27818904e+165\n",
      "  6.48224659e+170 4.93432906e+257]]\n"
     ]
    }
   ],
   "source": [
    "# empty array\n",
    "e = np.empty((2, 6))\n",
    "print(e)"
   ]
  },
  {
   "cell_type": "code",
   "execution_count": 9,
   "id": "c71c5ebe",
   "metadata": {},
   "outputs": [
    {
     "name": "stdout",
     "output_type": "stream",
     "text": [
      "[0 1 2 3 4 5 6 7 8 9]\n"
     ]
    }
   ],
   "source": [
    "# with a range\n",
    "f = np.arange(10)\n",
    "print(f)"
   ]
  },
  {
   "cell_type": "code",
   "execution_count": 12,
   "id": "2d32c48e",
   "metadata": {},
   "outputs": [
    {
     "name": "stdout",
     "output_type": "stream",
     "text": [
      "[1 2 3 4 5 6 7 8 9]\n"
     ]
    }
   ],
   "source": [
    "# with a range\n",
    "f1 = np.arange(1, 10)\n",
    "print(f1)"
   ]
  },
  {
   "cell_type": "code",
   "execution_count": 21,
   "id": "9dbf6c4a",
   "metadata": {},
   "outputs": [
    {
     "name": "stdout",
     "output_type": "stream",
     "text": [
      "[2 4 6 8]\n",
      "int64\n"
     ]
    }
   ],
   "source": [
    "# with a range and a step\n",
    "g = np.arange(2, 10, 2)\n",
    "print(g)\n",
    "print(g.dtype)"
   ]
  },
  {
   "cell_type": "code",
   "execution_count": 20,
   "id": "05b66cf1",
   "metadata": {},
   "outputs": [
    {
     "name": "stdout",
     "output_type": "stream",
     "text": [
      "[2. 4. 6. 8.]\n",
      "float64\n"
     ]
    }
   ],
   "source": [
    "# with a range and a step\n",
    "g1 = np.arange(2, 10, 2, dtype=float)\n",
    "print(g1)\n",
    "print(g1.dtype)"
   ]
  },
  {
   "cell_type": "code",
   "execution_count": 16,
   "id": "6d013d51",
   "metadata": {},
   "outputs": [
    {
     "name": "stdout",
     "output_type": "stream",
     "text": [
      "[1.  1.5 2.  2.5 3.  3.5 4.  4.5 5.  5.5 6.  6.5 7.  7.5 8.  8.5 9.  9.5]\n"
     ]
    }
   ],
   "source": [
    "# with a range and a step as float\n",
    "h = np.arange(1, 10, 0.5)\n",
    "print(h)"
   ]
  },
  {
   "cell_type": "code",
   "execution_count": 17,
   "id": "51ed59ff",
   "metadata": {},
   "outputs": [
    {
     "name": "stdout",
     "output_type": "stream",
     "text": [
      "float64\n"
     ]
    }
   ],
   "source": [
    "# datatype of the array h\n",
    "print(h.dtype)"
   ]
  },
  {
   "cell_type": "code",
   "execution_count": 24,
   "id": "0e662035",
   "metadata": {},
   "outputs": [
    {
     "name": "stdout",
     "output_type": "stream",
     "text": [
      "[ 0.  3.  6.  9. 12.]\n"
     ]
    }
   ],
   "source": [
    "# with a range and a number of elements evenly spaced\n",
    "i = np.linspace(0, 12, 5) # 5 elements between 0 and 10\n",
    "print(i)"
   ]
  },
  {
   "cell_type": "code",
   "execution_count": 32,
   "id": "b0b42214",
   "metadata": {},
   "outputs": [
    {
     "name": "stdout",
     "output_type": "stream",
     "text": [
      "array before: [1 2 3 4 5 6 7 8]\n"
     ]
    }
   ],
   "source": [
    "# reshape an array\n",
    "arr = np.array([1, 2, 3, 4, 5, 6, 7, 8])\n",
    "print(f\"array before: {arr}\")"
   ]
  },
  {
   "cell_type": "code",
   "execution_count": 34,
   "id": "dd212e9a",
   "metadata": {},
   "outputs": [
    {
     "name": "stdout",
     "output_type": "stream",
     "text": [
      "array after reshaping:\n",
      "[[1 2 3 4]\n",
      " [5 6 7 8]]\n"
     ]
    }
   ],
   "source": [
    "reshaped_arr = arr.reshape((2, 4))\n",
    "print(f\"array after reshaping:\\n{reshaped_arr}\")"
   ]
  },
  {
   "cell_type": "code",
   "execution_count": 35,
   "id": "27102962",
   "metadata": {},
   "outputs": [
    {
     "name": "stdout",
     "output_type": "stream",
     "text": [
      "array before: [1 2 3 4 5 6]\n",
      "------------------------\n",
      "array after reshaping:\n",
      "[[1 2 3]\n",
      " [4 5 6]]\n"
     ]
    }
   ],
   "source": [
    "# reshape an array\n",
    "arr = np.array([1, 2, 3, 4, 5, 6])\n",
    "print(f\"array before: {arr}\")\n",
    "print(\"------------------------\")\n",
    "reshaped_arr = arr.reshape((2, 3))\n",
    "print(f\"array after reshaping:\\n{reshaped_arr}\")"
   ]
  },
  {
   "cell_type": "code",
   "execution_count": 36,
   "id": "9a71f7d9",
   "metadata": {},
   "outputs": [
    {
     "name": "stdout",
     "output_type": "stream",
     "text": [
      "array before:\n",
      "[[1 2 3]\n",
      " [4 5 6]]\n",
      "------------------------\n",
      "array after transposing:\n",
      "[[1 4]\n",
      " [2 5]\n",
      " [3 6]]\n"
     ]
    }
   ],
   "source": [
    "# transpose an array\n",
    "arr = np.array([[1, 2, 3], [4, 5, 6]])\n",
    "print(f\"array before:\\n{arr}\")\n",
    "print(\"------------------------\")\n",
    "transposed_arr = arr.transpose()\n",
    "print(f\"array after transposing:\\n{transposed_arr}\")"
   ]
  },
  {
   "cell_type": "code",
   "execution_count": 38,
   "id": "1d554aca",
   "metadata": {},
   "outputs": [
    {
     "name": "stdout",
     "output_type": "stream",
     "text": [
      "array before:\n",
      "[[1 2 3]\n",
      " [4 5 6]]\n",
      "------------------------\n",
      "array after flattening:\n",
      "[1 2 3 4 5 6]\n"
     ]
    }
   ],
   "source": [
    "# flatten a multi-dimensional array\n",
    "arr = np.array([[1, 2, 3], [4, 5, 6]])\n",
    "print(f\"array before:\\n{arr}\")\n",
    "print(\"------------------------\")\n",
    "flattened_arr = arr.flatten()\n",
    "print(f\"array after flattening:\\n{flattened_arr}\")"
   ]
  },
  {
   "cell_type": "markdown",
   "id": "4f64198b",
   "metadata": {},
   "source": [
    "- Flatten a multi-dimensional array into a 1D array means converting a multi-dimensional array into a 1D array."
   ]
  },
  {
   "cell_type": "code",
   "execution_count": 39,
   "id": "97d3d392",
   "metadata": {},
   "outputs": [
    {
     "name": "stdout",
     "output_type": "stream",
     "text": [
      "array before: [1 2 3]\n",
      "------------------------\n",
      "array after repeating:\n",
      "[1 1 1 2 2 2 3 3 3]\n"
     ]
    }
   ],
   "source": [
    "# repeat elements of an array\n",
    "arr = np.array([1, 2, 3])\n",
    "print(f\"array before: {arr}\")\n",
    "print(\"------------------------\")\n",
    "repeated_arr = np.repeat(arr, 3) # repeat each element 3 times\n",
    "print(f\"array after repeating:\\n{repeated_arr}\")"
   ]
  },
  {
   "cell_type": "code",
   "execution_count": 40,
   "id": "6cd773e0",
   "metadata": {},
   "outputs": [
    {
     "name": "stdout",
     "output_type": "stream",
     "text": [
      "array before: [1 2 3]\n",
      "---------------------------------------------------------\n",
      "tiled array:\n",
      "[1 2 3 1 2 3 1 2 3]\n"
     ]
    }
   ],
   "source": [
    "# construct an array by repeating it\n",
    "arr = np.array([1, 2, 3])\n",
    "print(f\"array before: {arr}\")\n",
    "print(\"---------------------------------------------------------\")\n",
    "tiled_arr = np.tile(arr, 3) # repeat the array 3 times\n",
    "print(f\"tiled array:\\n{tiled_arr}\")"
   ]
  },
  {
   "cell_type": "markdown",
   "id": "30d3fc7e",
   "metadata": {},
   "source": [
    "---"
   ]
  },
  {
   "cell_type": "markdown",
   "id": "9b44c671",
   "metadata": {},
   "source": [
    "## **2. Joining, splitting and modifying Arrays** "
   ]
  },
  {
   "cell_type": "code",
   "execution_count": 142,
   "id": "e48fbc39",
   "metadata": {},
   "outputs": [
    {
     "name": "stdout",
     "output_type": "stream",
     "text": [
      "array1: [1 2 3]\n",
      "array2: [4 5 6]\n",
      "------------------------\n",
      "concatenated array:\n",
      "[1 2 3 4 5 6]\n"
     ]
    }
   ],
   "source": [
    "# concatenate arrays\n",
    "arr1 = np.array([1, 2, 3])\n",
    "arr2 = np.array([4, 5, 6])\n",
    "print(f\"array1: {arr1}\")\n",
    "print(f\"array2: {arr2}\")\n",
    "print(\"------------------------\")\n",
    "concatenated_arr = np.concatenate((arr1, arr2)) # concatenate arrays arr1 and arr2\n",
    "print(f\"concatenated array:\\n{concatenated_arr}\")"
   ]
  },
  {
   "cell_type": "markdown",
   "id": "280a9e5d",
   "metadata": {},
   "source": [
    "- concatenate() function is used to join arrays along an existing axis which means joining arrays along the existing axis."
   ]
  },
  {
   "cell_type": "markdown",
   "id": "861faaa3",
   "metadata": {},
   "source": [
    "### Stacking vs. Concatenation\n",
    "\n",
    "- Stacking is a general concept that refers to joining two or more arrays along a new axis.\n",
    "- Concatenation is a specific case of stacking that refers to joining arrays along an existing axis.\n",
    "- Stacking can be done along different axes, while concatenation is limited to joining arrays along the existing axes."
   ]
  },
  {
   "cell_type": "code",
   "execution_count": 143,
   "id": "b2c38836",
   "metadata": {},
   "outputs": [
    {
     "name": "stdout",
     "output_type": "stream",
     "text": [
      "array1: [1 2 3]\n",
      "array2: [4 5 6]\n",
      "------------------------\n",
      "stacked array:\n",
      "[[1 2 3]\n",
      " [4 5 6]]\n"
     ]
    }
   ],
   "source": [
    "# stack arrays\n",
    "arr1 = np.array([1, 2, 3])\n",
    "arr2 = np.array([4, 5, 6])\n",
    "print(f\"array1: {arr1}\")\n",
    "print(f\"array2: {arr2}\")\n",
    "print(\"------------------------\")\n",
    "stacked_arr = np.stack((arr1, arr2)) # stack arrays arr1 and arr2\n",
    "print(f\"stacked array:\\n{stacked_arr}\")"
   ]
  },
  {
   "cell_type": "code",
   "execution_count": 144,
   "id": "b98d78d7",
   "metadata": {},
   "outputs": [
    {
     "name": "stdout",
     "output_type": "stream",
     "text": [
      "array1: [1 2 3]\n",
      "array2: [4 5 6]\n",
      "------------------------\n",
      "vertically stacked array:\n",
      "[[1 2 3]\n",
      " [4 5 6]]\n"
     ]
    }
   ],
   "source": [
    "# vertical stack arrays\n",
    "arr1 = np.array([1, 2, 3])\n",
    "arr2 = np.array([4, 5, 6])\n",
    "print(f\"array1: {arr1}\")\n",
    "print(f\"array2: {arr2}\")\n",
    "print(\"------------------------\")\n",
    "vstacked_arr = np.vstack((arr1, arr2)) # stack arrays arr1 and arr2 vertically\n",
    "print(f\"vertically stacked array:\\n{vstacked_arr}\")"
   ]
  },
  {
   "cell_type": "code",
   "execution_count": 145,
   "id": "f58daefb",
   "metadata": {},
   "outputs": [
    {
     "name": "stdout",
     "output_type": "stream",
     "text": [
      "array1: [1 2 3]\n",
      "array2: [4 5 6]\n",
      "------------------------\n",
      "horizontally stacked array:\n",
      "[1 2 3 4 5 6]\n"
     ]
    }
   ],
   "source": [
    "# horizontal stack arrays\n",
    "arr1 = np.array([1, 2, 3])\n",
    "arr2 = np.array([4, 5, 6])\n",
    "print(f\"array1: {arr1}\")\n",
    "print(f\"array2: {arr2}\")\n",
    "print(\"------------------------\")\n",
    "hstacked_arr = np.hstack((arr1, arr2)) # stack arrays arr1 and arr2 horizontally\n",
    "print(f\"horizontally stacked array:\\n{hstacked_arr}\")"
   ]
  },
  {
   "cell_type": "code",
   "execution_count": 146,
   "id": "d6cfade0",
   "metadata": {},
   "outputs": [
    {
     "name": "stdout",
     "output_type": "stream",
     "text": [
      "array before: [1 2 3 4 5 6]\n",
      "---------------------------------------------------------\n",
      "split array:\n",
      "[array([1, 2]), array([3, 4]), array([5, 6])]\n"
     ]
    }
   ],
   "source": [
    "# split an array into sub-arrays\n",
    "arr = np.array([1, 2, 3, 4, 5, 6])\n",
    "print(f\"array before: {arr}\")\n",
    "print(\"---------------------------------------------------------\")\n",
    "split_arr = np.split(arr, 3) # split the array into 3 sub-arrays\n",
    "print(f\"split array:\\n{split_arr}\")"
   ]
  },
  {
   "cell_type": "code",
   "execution_count": 148,
   "id": "4902cc18",
   "metadata": {},
   "outputs": [
    {
     "name": "stdout",
     "output_type": "stream",
     "text": [
      "array before: [1 2 3 4 5 6]\n",
      "---------------------------------------------------------\n",
      "array after deleting element at index 3: [1 2 3 5 6]\n"
     ]
    }
   ],
   "source": [
    "# delete elements from an array\n",
    "arr = np.array([1, 2, 3, 4, 5, 6])\n",
    "print(f\"array before: {arr}\")\n",
    "print(\"---------------------------------------------------------\")\n",
    "deleted_arr = np.delete(arr, 3) # delete the element at index 3\n",
    "print(f\"array after deleting element at index 3: {deleted_arr}\")"
   ]
  },
  {
   "cell_type": "code",
   "execution_count": 41,
   "id": "cfa2bc7b",
   "metadata": {},
   "outputs": [
    {
     "name": "stdout",
     "output_type": "stream",
     "text": [
      "array: [1 2 3 4 5 6]\n",
      "---------------------------------------------------------\n",
      "element at index 0: 1\n",
      "element at index 1: 2\n",
      "element at index -1: 6\n",
      "element at index -2: 5\n"
     ]
    }
   ],
   "source": [
    "# indexing of arrays\n",
    "arr = np.array([1, 2, 3, 4, 5, 6])\n",
    "print(f\"array: {arr}\")\n",
    "print(\"---------------------------------------------------------\")\n",
    "print(f\"element at index 0: {arr[0]}\")\n",
    "print(f\"element at index 1: {arr[1]}\")\n",
    "print(f\"element at index -1: {arr[-1]}\")\n",
    "print(f\"element at index -2: {arr[-2]}\")"
   ]
  },
  {
   "cell_type": "code",
   "execution_count": 46,
   "id": "dd40a26a",
   "metadata": {},
   "outputs": [
    {
     "name": "stdout",
     "output_type": "stream",
     "text": [
      "array:\n",
      "[[1 2 3]\n",
      " [4 5 6]]\n",
      "---------------------------------------------------------\n",
      "element at row 1, column 2: 6\n",
      "element at row 0, column 2: 3\n"
     ]
    }
   ],
   "source": [
    "# indexing of 2D arrays\n",
    "arr = np.array([[1, 2, 3], [4, 5, 6]])\n",
    "print(f\"array:\\n{arr}\")\n",
    "print(\"---------------------------------------------------------\")\n",
    "print(f\"element at row 1, column 2: {arr[1, 2]}\")\n",
    "print(f\"element at row 0, column 2: {arr[0, 2]}\")"
   ]
  },
  {
   "cell_type": "code",
   "execution_count": 48,
   "id": "e64c107f",
   "metadata": {},
   "outputs": [
    {
     "name": "stdout",
     "output_type": "stream",
     "text": [
      "array: [1 2 3 4 5 6]\n",
      "---------------------------------------------------------\n",
      "elements from index 0 to 2: [1 2 3]\n",
      "elements from index 2 to 4: [3 4 5]\n",
      "elements from index 0 to 4 with step 2: [1 3 5]\n"
     ]
    }
   ],
   "source": [
    "# slicing of arrays\n",
    "arr = np.array([1, 2, 3, 4, 5, 6])\n",
    "print(f\"array: {arr}\")\n",
    "print(\"---------------------------------------------------------\")\n",
    "print(f\"elements from index 0 to 2: {arr[0:3]}\")\n",
    "print(f\"elements from index 2 to 4: {arr[2:5]}\")\n",
    "print(f\"elements from index 0 to 4 with step 2: {arr[0:5:2]}\") # step 2 means every 2nd element"
   ]
  },
  {
   "cell_type": "code",
   "execution_count": 50,
   "id": "7d87c268",
   "metadata": {},
   "outputs": [
    {
     "name": "stdout",
     "output_type": "stream",
     "text": [
      "array:\n",
      "[[1 2 3]\n",
      " [4 5 6]]\n",
      "---------------------------------------------------------\n",
      "elements from row 0, column 0 to row 1, column 2:\n",
      "[[1 2 3]\n",
      " [4 5 6]]\n"
     ]
    }
   ],
   "source": [
    "# slicing in 2D arrays\n",
    "arr = np.array([[1, 2, 3], [4, 5, 6]])\n",
    "print(f\"array:\\n{arr}\")\n",
    "print(\"---------------------------------------------------------\")\n",
    "print(f\"elements from row 0, column 0 to row 1, column 2:\\n{arr[0:2, 0:3]}\")"
   ]
  },
  {
   "cell_type": "code",
   "execution_count": 51,
   "id": "f5edf6b8",
   "metadata": {},
   "outputs": [
    {
     "name": "stdout",
     "output_type": "stream",
     "text": [
      "array before: [1 2 3 4 5 6]\n",
      "---------------------------------------------------------\n",
      "array after inserting 10 at index 3: [ 1  2  3 10  4  5  6]\n"
     ]
    }
   ],
   "source": [
    "# insert elements into an array\n",
    "arr = np.array([1, 2, 3, 4, 5, 6])\n",
    "print(f\"array before: {arr}\")\n",
    "print(\"---------------------------------------------------------\")\n",
    "inserted_arr = np.insert(arr, 3, 10) # insert 10 at index 3\n",
    "print(f\"array after inserting 10 at index 3: {inserted_arr}\")"
   ]
  },
  {
   "cell_type": "code",
   "execution_count": 152,
   "id": "ee7c6bf8",
   "metadata": {},
   "outputs": [
    {
     "name": "stdout",
     "output_type": "stream",
     "text": [
      "array before: [1 2 3 4 5 6]\n",
      "---------------------------------------------------------\n",
      "array after appending 10 at the end: [ 1  2  3  4  5  6 10]\n"
     ]
    }
   ],
   "source": [
    "# append elements to an array\n",
    "arr = np.array([1, 2, 3, 4, 5, 6])\n",
    "print(f\"array before: {arr}\")\n",
    "print(\"---------------------------------------------------------\")\n",
    "appended_arr = np.append(arr, 10) # append 10 at the end of the array\n",
    "print(f\"array after appending 10 at the end: {appended_arr}\")"
   ]
  },
  {
   "cell_type": "code",
   "execution_count": 153,
   "id": "cdecbb61",
   "metadata": {},
   "outputs": [
    {
     "name": "stdout",
     "output_type": "stream",
     "text": [
      "array before: [1 2 3 4 5 6]\n",
      "---------------------------------------------------------\n",
      "array after updating element at index 3: [ 1  2  3 10  5  6]\n"
     ]
    }
   ],
   "source": [
    "# update elements in an array\n",
    "arr = np.array([1, 2, 3, 4, 5, 6])\n",
    "print(f\"array before: {arr}\")\n",
    "print(\"---------------------------------------------------------\")\n",
    "arr[3] = 10 # update the element at index 3\n",
    "print(f\"array after updating element at index 3: {arr}\")"
   ]
  },
  {
   "cell_type": "markdown",
   "id": "afa626c2",
   "metadata": {},
   "source": [
    "## **3. Mathematical Operations**"
   ]
  },
  {
   "cell_type": "code",
   "execution_count": 52,
   "id": "97cce7ef",
   "metadata": {},
   "outputs": [
    {
     "name": "stdout",
     "output_type": "stream",
     "text": [
      "array1: [1 2 3]\n",
      "array2: [4 5 6]\n",
      "---------------------------------------------------------\n"
     ]
    }
   ],
   "source": [
    "# element-wise operations\n",
    "arr1 = np.array([1, 2, 3])\n",
    "arr2 = np.array([4, 5, 6])\n",
    "print(f\"array1: {arr1}\")\n",
    "print(f\"array2: {arr2}\")\n",
    "print(\"---------------------------------------------------------\")"
   ]
  },
  {
   "cell_type": "code",
   "execution_count": 61,
   "id": "1c9c6299",
   "metadata": {},
   "outputs": [
    {
     "name": "stdout",
     "output_type": "stream",
     "text": [
      "array2 squared: [16 25 36]\n"
     ]
    }
   ],
   "source": [
    "arr2_squared = arr2 ** 2\n",
    "print(f\"array2 squared: {arr2_squared}\")"
   ]
  },
  {
   "cell_type": "code",
   "execution_count": 63,
   "id": "ec623f91",
   "metadata": {},
   "outputs": [
    {
     "name": "stdout",
     "output_type": "stream",
     "text": [
      "array1: [1 2 3]\n",
      "array2: [4 5 6]\n",
      "---------------------------------------------------------\n",
      "sum of arrays: [5 7 9]\n",
      "---------------------------------------------------------\n",
      "difference of arrays: [-3 -3 -3]\n",
      "---------------------------------------------------------\n",
      "product of arrays: [ 4 10 18]\n",
      "---------------------------------------------------------\n",
      "quotient of arrays: [0.25 0.4  0.5 ]\n",
      "---------------------------------------------------------\n",
      "Raise the power: [1 4 9]\n"
     ]
    }
   ],
   "source": [
    "# element-wise operations\n",
    "arr1 = np.array([1, 2, 3])\n",
    "arr2 = np.array([4, 5, 6])\n",
    "print(f\"array1: {arr1}\")\n",
    "print(f\"array2: {arr2}\")\n",
    "print(\"---------------------------------------------------------\")\n",
    "sum_arr = arr1 + arr2\n",
    "print(f\"sum of arrays: {sum_arr}\")\n",
    "print(\"---------------------------------------------------------\")\n",
    "diff_arr = arr1 - arr2\n",
    "print(f\"difference of arrays: {diff_arr}\")\n",
    "print(\"---------------------------------------------------------\")\n",
    "prod_arr = arr1 * arr2\n",
    "print(f\"product of arrays: {prod_arr}\")\n",
    "print(\"---------------------------------------------------------\")\n",
    "quot_arr = arr1 / arr2\n",
    "print(f\"quotient of arrays: {quot_arr}\")\n",
    "print(\"---------------------------------------------------------\")\n",
    "pow_arr = arr1 ** 2\n",
    "print(f\"Raise the power: {pow_arr}\")"
   ]
  },
  {
   "cell_type": "code",
   "execution_count": 64,
   "id": "52c6db45",
   "metadata": {},
   "outputs": [
    {
     "name": "stdout",
     "output_type": "stream",
     "text": [
      "array: [ 1  4  9 16 25]\n",
      "---------------------------------------------------------\n",
      "square root of the array: [1. 2. 3. 4. 5.]\n"
     ]
    }
   ],
   "source": [
    "# squareroot of an array\n",
    "arr = np.array([1, 4, 9, 16, 25])\n",
    "print(f\"array: {arr}\")\n",
    "print(\"---------------------------------------------------------\")\n",
    "sqrt_arr = np.sqrt(arr)\n",
    "print(f\"square root of the array: {sqrt_arr}\")"
   ]
  },
  {
   "cell_type": "markdown",
   "id": "77ebd86e",
   "metadata": {},
   "source": [
    "> Exponential of an array which will calculate the equation `e^x` for each element in the array where e is `Euler's number` (approximately equal to `2.7182`8) and `x` is the element in the array."
   ]
  },
  {
   "cell_type": "code",
   "execution_count": 66,
   "id": "6caae873",
   "metadata": {},
   "outputs": [
    {
     "name": "stdout",
     "output_type": "stream",
     "text": [
      "array1: [1 2 3]\n",
      "---------------------------------------------------------\n",
      "exponential of the array2: [ 2.71828183  7.3890561  20.08553692]\n"
     ]
    }
   ],
   "source": [
    "# exponential of an array \n",
    "arr1 = np.array([1, 2, 3])\n",
    "print(f\"array1: {arr1}\")\n",
    "print(\"---------------------------------------------------------\")\n",
    "exp_arr = np.exp(arr1)\n",
    "print(f\"exponential of the array2: {exp_arr}\")"
   ]
  },
  {
   "cell_type": "code",
   "execution_count": 67,
   "id": "15b0684a",
   "metadata": {},
   "outputs": [
    {
     "name": "stdout",
     "output_type": "stream",
     "text": [
      "array: [    250     500 1000000]\n",
      "---------------------------------------------------------\n",
      "log of the array: [ 5.52146092  6.2146081  13.81551056]\n",
      "log10 of the array: [2.39794001 2.69897    6.        ]\n"
     ]
    }
   ],
   "source": [
    "# log of an array\n",
    "arr1 = np.array([250, 500, 1000000])\n",
    "print(f\"array: {arr1}\")\n",
    "print(\"---------------------------------------------------------\")\n",
    "log_arr = np.log(arr1)\n",
    "print(f\"log of the array: {log_arr}\")\n",
    "# take log10\n",
    "log10_arr = np.log10(arr1)\n",
    "print(f\"log10 of the array: {log10_arr}\")"
   ]
  },
  {
   "cell_type": "code",
   "execution_count": 68,
   "id": "a4aeccbb",
   "metadata": {},
   "outputs": [
    {
     "name": "stdout",
     "output_type": "stream",
     "text": [
      "pi: 3.141592653589793\n",
      "e: 2.718281828459045\n"
     ]
    }
   ],
   "source": [
    "# mathematical constants\n",
    "print(f\"pi: {np.pi}\")\n",
    "print(f\"e: {np.e}\")"
   ]
  },
  {
   "cell_type": "code",
   "execution_count": 69,
   "id": "cc814333",
   "metadata": {},
   "outputs": [
    {
     "name": "stdout",
     "output_type": "stream",
     "text": [
      "pi value: 3.141592653589793\n"
     ]
    }
   ],
   "source": [
    "# pi value\n",
    "pi = np.pi\n",
    "print(f\"pi value: {pi}\")"
   ]
  },
  {
   "cell_type": "code",
   "execution_count": 104,
   "id": "d652e63a",
   "metadata": {},
   "outputs": [
    {
     "name": "stdout",
     "output_type": "stream",
     "text": [
      "random number: 0.7097456146837022\n"
     ]
    }
   ],
   "source": [
    "# random numbers\n",
    "rand_num = np.random.rand()\n",
    "print(f\"random number: {rand_num}\")"
   ]
  },
  {
   "cell_type": "code",
   "execution_count": 105,
   "id": "938bd150",
   "metadata": {},
   "outputs": [
    {
     "name": "stdout",
     "output_type": "stream",
     "text": [
      "array: [0.         1.57079633 3.14159265]\n",
      "---------------------------------------------------------\n",
      "sin of the array: [0.0000000e+00 1.0000000e+00 1.2246468e-16]\n",
      "---------------------------------------------------------\n",
      "cos of the array: [ 1.000000e+00  6.123234e-17 -1.000000e+00]\n",
      "---------------------------------------------------------\n",
      "tan of the array: [ 0.00000000e+00  1.63312394e+16 -1.22464680e-16]\n"
     ]
    }
   ],
   "source": [
    "# trignometric functions\n",
    "arr = np.array([0, np.pi/2, np.pi])\n",
    "print(f\"array: {arr}\")\n",
    "print(\"---------------------------------------------------------\")\n",
    "sin_arr = np.sin(arr)\n",
    "print(f\"sin of the array: {sin_arr}\")\n",
    "print(\"---------------------------------------------------------\")\n",
    "cos_arr = np.cos(arr)\n",
    "print(f\"cos of the array: {cos_arr}\")\n",
    "print(\"---------------------------------------------------------\")\n",
    "tan_arr = np.tan(arr)\n",
    "print(f\"tan of the array: {tan_arr}\")"
   ]
  },
  {
   "cell_type": "markdown",
   "id": "8a27fb3c",
   "metadata": {},
   "source": [
    "## **4. Statistical Operations**"
   ]
  },
  {
   "cell_type": "code",
   "execution_count": 106,
   "id": "87d0a5bb",
   "metadata": {},
   "outputs": [
    {
     "name": "stdout",
     "output_type": "stream",
     "text": [
      "array: [1 2 3 4 5]\n",
      "---------------------------------------------------------\n",
      "sum of the array: 15\n"
     ]
    }
   ],
   "source": [
    "# sum of an array\n",
    "arr = np.array([1, 2, 3, 4, 5])\n",
    "print(f\"array: {arr}\")\n",
    "print(\"---------------------------------------------------------\")\n",
    "sum_arr = np.sum(arr)\n",
    "print(f\"sum of the array: {sum_arr}\")"
   ]
  },
  {
   "cell_type": "code",
   "execution_count": 109,
   "id": "ae98dcac",
   "metadata": {},
   "outputs": [
    {
     "name": "stdout",
     "output_type": "stream",
     "text": [
      "array:\n",
      "[[1 2 3]\n",
      " [4 5 6]]\n",
      "---------------------------------------------------------\n",
      "sum of the array: 21\n"
     ]
    }
   ],
   "source": [
    "# sum of 2d array\n",
    "arr = np.array([[1, 2, 3], [4, 5, 6]])\n",
    "print(f\"array:\\n{arr}\")\n",
    "print(\"---------------------------------------------------------\")\n",
    "sum_arr = np.sum(arr)\n",
    "print(f\"sum of the array: {sum_arr}\")"
   ]
  },
  {
   "cell_type": "code",
   "execution_count": 110,
   "id": "fa171ad5",
   "metadata": {},
   "outputs": [
    {
     "name": "stdout",
     "output_type": "stream",
     "text": [
      "array: [  0   3   6   9  12  15  18  21  24  27  30  33  36  39  42  45  48  51\n",
      "  54  57  60  63  66  69  72  75  78  81  84  87  90  93  96  99 102 105\n",
      " 108 111 114 117 120 123 126 129 132 135 138 141 144 147 150 153 156 159\n",
      " 162 165 168 171 174 177 180 183 186 189 192 195 198 201 204 207 210 213\n",
      " 216 219 222 225 228 231 234 237 240 243 246 249 252 255 258 261 264 267\n",
      " 270 273 276 279 282 285 288 291 294 297 300 303 306 309 312 315 318 321\n",
      " 324 327 330 333 336 339 342 345 348 351 354 357 360 363 366 369 372 375\n",
      " 378 381 384 387 390 393 396 399 402 405 408 411 414 417 420 423 426 429\n",
      " 432 435 438 441 444 447 450 453 456 459 462 465 468 471 474 477 480 483\n",
      " 486 489 492 495 498]\n",
      "---------------------------------------------------------\n",
      "mean of the array: 249.0\n"
     ]
    }
   ],
   "source": [
    "# mean of an array\n",
    "arr = np.arange(0, 500, 3)\n",
    "print(f\"array: {arr}\")\n",
    "print(\"---------------------------------------------------------\")\n",
    "mean_arr = np.mean(arr)\n",
    "print(f\"mean of the array: {mean_arr}\")"
   ]
  },
  {
   "cell_type": "code",
   "execution_count": 164,
   "id": "52dcb234",
   "metadata": {},
   "outputs": [
    {
     "name": "stdout",
     "output_type": "stream",
     "text": [
      "array: [  0   3   6   9  12  15  18  21  24  27  30  33  36  39  42  45  48  51\n",
      "  54  57  60  63  66  69  72  75  78  81  84  87  90  93  96  99 102 105\n",
      " 108 111 114 117 120 123 126 129 132 135 138 141 144 147 150 153 156 159\n",
      " 162 165 168 171 174 177 180 183 186 189 192 195 198 201 204 207 210 213\n",
      " 216 219 222 225 228 231 234 237 240 243 246 249 252 255 258 261 264 267\n",
      " 270 273 276 279 282 285 288 291 294 297 300 303 306 309 312 315 318 321\n",
      " 324 327 330 333 336 339 342 345 348 351 354 357 360 363 366 369 372 375\n",
      " 378 381 384 387 390 393 396 399 402 405 408 411 414 417 420 423 426 429\n",
      " 432 435 438 441 444 447 450 453 456 459 462 465 468 471 474 477 480 483\n",
      " 486 489 492 495 498]\n",
      "---------------------------------------------------------\n",
      "median of the array: 249.0\n"
     ]
    }
   ],
   "source": [
    "# median of an array\n",
    "arr = np.arange(0, 500, 3)\n",
    "print(f\"array: {arr}\")\n",
    "print(\"---------------------------------------------------------\")\n",
    "median_arr = np.median(arr)\n",
    "print(f\"median of the array: {median_arr}\")"
   ]
  },
  {
   "cell_type": "markdown",
   "id": "6bf9ccc4",
   "metadata": {},
   "source": [
    "# How to find a mode using numpy? is it doable or we need to use another library?"
   ]
  },
  {
   "cell_type": "code",
   "execution_count": 112,
   "id": "a0eff73f",
   "metadata": {},
   "outputs": [],
   "source": [
    "# # find mode of an array\n",
    "# arr = np.array([1, 2, 3, 4, 5, 6, 2, 3, 4, 3, 4])\n",
    "# print(f\"array: {arr}\")\n",
    "# print(\"---------------------------------------------------------\")\n",
    "# mode_arr = np.mode(arr)\n",
    "# print(f\"mode of the array: {mode_arr}\")"
   ]
  },
  {
   "cell_type": "code",
   "execution_count": 113,
   "id": "aa2f5d0f",
   "metadata": {},
   "outputs": [
    {
     "name": "stdout",
     "output_type": "stream",
     "text": [
      "array: [  0   3   6   9  12  15  18  21  24  27  30  33  36  39  42  45  48  51\n",
      "  54  57  60  63  66  69  72  75  78  81  84  87  90  93  96  99 102 105\n",
      " 108 111 114 117 120 123 126 129 132 135 138 141 144 147 150 153 156 159\n",
      " 162 165 168 171 174 177 180 183 186 189 192 195 198 201 204 207 210 213\n",
      " 216 219 222 225 228 231 234 237 240 243 246 249 252 255 258 261 264 267\n",
      " 270 273 276 279 282 285 288 291 294 297 300 303 306 309 312 315 318 321\n",
      " 324 327 330 333 336 339 342 345 348 351 354 357 360 363 366 369 372 375\n",
      " 378 381 384 387 390 393 396 399 402 405 408 411 414 417 420 423 426 429\n",
      " 432 435 438 441 444 447 450 453 456 459 462 465 468 471 474 477 480 483\n",
      " 486 489 492 495 498]\n",
      "---------------------------------------------------------\n",
      "standard deviation of the array: 144.6236495183274\n"
     ]
    }
   ],
   "source": [
    "# standard deviation of an array\n",
    "arr = np.arange(0, 500, 3)\n",
    "print(f\"array: {arr}\")\n",
    "print(\"---------------------------------------------------------\")\n",
    "std_arr = np.std(arr)\n",
    "print(f\"standard deviation of the array: {std_arr}\")"
   ]
  },
  {
   "cell_type": "markdown",
   "id": "388826dd",
   "metadata": {},
   "source": [
    "- Standard deviation is a measure of the amount of variation or dispersion of a set of values. A low standard deviation indicates that the values tend to be close to the mean, while a high standard deviation indicates that the values are spread out over a wider range.\n",
    "- Here is the formula to calculate the standard deviation of a set of values:\n",
    "\n",
    "$$\n",
    "\\text{std} = \\sqrt{\\frac{\\sum{(x - \\text{mean})^2}}{n}}\n",
    "$$"
   ]
  },
  {
   "cell_type": "code",
   "execution_count": 114,
   "id": "ab151368",
   "metadata": {},
   "outputs": [
    {
     "name": "stdout",
     "output_type": "stream",
     "text": [
      "array: [  0   3   6   9  12  15  18  21  24  27  30  33  36  39  42  45  48  51\n",
      "  54  57  60  63  66  69  72  75  78  81  84  87  90  93  96  99 102 105\n",
      " 108 111 114 117 120 123 126 129 132 135 138 141 144 147 150 153 156 159\n",
      " 162 165 168 171 174 177 180 183 186 189 192 195 198 201 204 207 210 213\n",
      " 216 219 222 225 228 231 234 237 240 243 246 249 252 255 258 261 264 267\n",
      " 270 273 276 279 282 285 288 291 294 297 300 303 306 309 312 315 318 321\n",
      " 324 327 330 333 336 339 342 345 348 351 354 357 360 363 366 369 372 375\n",
      " 378 381 384 387 390 393 396 399 402 405 408 411 414 417 420 423 426 429\n",
      " 432 435 438 441 444 447 450 453 456 459 462 465 468 471 474 477 480 483\n",
      " 486 489 492 495 498]\n",
      "---------------------------------------------------------\n",
      "variance of the array: 20916.0\n"
     ]
    }
   ],
   "source": [
    "# variance of an array\n",
    "arr = np.arange(0, 500, 3)\n",
    "print(f\"array: {arr}\")\n",
    "print(\"---------------------------------------------------------\")\n",
    "var_arr = np.var(arr)\n",
    "print(f\"variance of the array: {var_arr}\")"
   ]
  },
  {
   "cell_type": "markdown",
   "id": "5f1e59f7",
   "metadata": {},
   "source": [
    "- Variance is a measure of the spread of a set of values around the mean. It is calculated as the average of the squared differences between each value and the mean.\n",
    "- Here, we are calculating the variance of the elements in the array using the `np.var()` function."
   ]
  },
  {
   "cell_type": "code",
   "execution_count": 115,
   "id": "c5442a21",
   "metadata": {},
   "outputs": [
    {
     "name": "stdout",
     "output_type": "stream",
     "text": [
      "array: [  0   3   6   9  12  15  18  21  24  27  30  33  36  39  42  45  48  51\n",
      "  54  57  60  63  66  69  72  75  78  81  84  87  90  93  96  99 102 105\n",
      " 108 111 114 117 120 123 126 129 132 135 138 141 144 147 150 153 156 159\n",
      " 162 165 168 171 174 177 180 183 186 189 192 195 198 201 204 207 210 213\n",
      " 216 219 222 225 228 231 234 237 240 243 246 249 252 255 258 261 264 267\n",
      " 270 273 276 279 282 285 288 291 294 297 300 303 306 309 312 315 318 321\n",
      " 324 327 330 333 336 339 342 345 348 351 354 357 360 363 366 369 372 375\n",
      " 378 381 384 387 390 393 396 399 402 405 408 411 414 417 420 423 426 429\n",
      " 432 435 438 441 444 447 450 453 456 459 462 465 468 471 474 477 480 483\n",
      " 486 489 492 495 498]\n",
      "---------------------------------------------------------\n",
      "standard error of the array: 11.191313997115618\n"
     ]
    }
   ],
   "source": [
    "# standard error of an array\n",
    "arr = np.arange(0, 500, 3)\n",
    "print(f\"array: {arr}\")\n",
    "print(\"---------------------------------------------------------\")\n",
    "std_err_arr = np.std(arr) / np.sqrt(len(arr))\n",
    "print(f\"standard error of the array: {std_err_arr}\")"
   ]
  },
  {
   "cell_type": "markdown",
   "id": "9a6a756a",
   "metadata": {},
   "source": [
    "- Standard error is a measure of the variability of sample means around the population mean. It is calculated as the standard deviation of the sample divided by the square root of the sample size.\n",
    "- Here is the formula for standard error:\n",
    "\n",
    "$$\n",
    "\\text{Standard Error} = \\frac{\\text{Standard Deviation}}{\\sqrt{n}}\n",
    "$$"
   ]
  },
  {
   "cell_type": "code",
   "execution_count": 116,
   "id": "9195f15f",
   "metadata": {},
   "outputs": [
    {
     "data": {
      "text/plain": [
       "np.int64(1)"
      ]
     },
     "execution_count": 116,
     "metadata": {},
     "output_type": "execute_result"
    }
   ],
   "source": [
    "# minimum value of an array\n",
    "arr = np.array([1, 2, 3, 4, 5])\n",
    "np.min(arr)"
   ]
  },
  {
   "cell_type": "code",
   "execution_count": 117,
   "id": "a780c038",
   "metadata": {},
   "outputs": [
    {
     "data": {
      "text/plain": [
       "np.int64(5)"
      ]
     },
     "execution_count": 117,
     "metadata": {},
     "output_type": "execute_result"
    }
   ],
   "source": [
    "# maximum value of an array\n",
    "arr = np.array([1, 2, 3, 4, 5])\n",
    "np.max(arr)"
   ]
  },
  {
   "cell_type": "code",
   "execution_count": 118,
   "id": "6058c9ec",
   "metadata": {},
   "outputs": [
    {
     "name": "stdout",
     "output_type": "stream",
     "text": [
      "array: [  0   3   6   9  12  15  18  21  24  27  30  33  36  39  42  45  48  51\n",
      "  54  57  60  63  66  69  72  75  78  81  84  87  90  93  96  99 102 105\n",
      " 108 111 114 117 120 123 126 129 132 135 138 141 144 147 150 153 156 159\n",
      " 162 165 168 171 174 177 180 183 186 189 192 195 198 201 204 207 210 213\n",
      " 216 219 222 225 228 231 234 237 240 243 246 249 252 255 258 261 264 267\n",
      " 270 273 276 279 282 285 288 291 294 297 300 303 306 309 312 315 318 321\n",
      " 324 327 330 333 336 339 342 345 348 351 354 357 360 363 366 369 372 375\n",
      " 378 381 384 387 390 393 396 399 402 405 408 411 414 417 420 423 426 429\n",
      " 432 435 438 441 444 447 450 453 456 459 462 465 468 471 474 477 480 483\n",
      " 486 489 492 495 498]\n",
      "---------------------------------------------------------\n",
      "50th percentile of the array: 249.0\n",
      "---------------------------------------------------------\n",
      "75th percentile of the array: 373.5\n",
      "---------------------------------------------------------\n",
      "90th percentile of the array: 448.20000000000005\n"
     ]
    }
   ],
   "source": [
    "# percentile\n",
    "arr = np.arange(0, 500, 3)\n",
    "print(f\"array: {arr}\")\n",
    "print(\"---------------------------------------------------------\")\n",
    "percentile_arr = np.percentile(arr, 50)\n",
    "print(f\"50th percentile of the array: {percentile_arr}\")\n",
    "print(\"---------------------------------------------------------\")\n",
    "percentile_arr = np.percentile(arr, 75)\n",
    "print(f\"75th percentile of the array: {percentile_arr}\")\n",
    "print(\"---------------------------------------------------------\")\n",
    "percentile_arr = np.percentile(arr, 90)\n",
    "print(f\"90th percentile of the array: {percentile_arr}\")"
   ]
  },
  {
   "cell_type": "code",
   "execution_count": 119,
   "id": "48c32245",
   "metadata": {},
   "outputs": [
    {
     "name": "stdout",
     "output_type": "stream",
     "text": [
      "array: [1 2 3 4 5]\n",
      "---------------------------------------------------------\n",
      "cumulative sum of the array: [ 1  3  6 10 15]\n"
     ]
    }
   ],
   "source": [
    "# commulative sum\n",
    "arr = np.array([1, 2, 3, 4, 5])\n",
    "print(f\"array: {arr}\")\n",
    "print(\"---------------------------------------------------------\")\n",
    "cumsum_arr = np.cumsum(arr)\n",
    "print(f\"cumulative sum of the array: {cumsum_arr}\")"
   ]
  },
  {
   "cell_type": "code",
   "execution_count": 120,
   "id": "22c06b69",
   "metadata": {},
   "outputs": [
    {
     "name": "stdout",
     "output_type": "stream",
     "text": [
      "array: [1 2 3 4 5]\n",
      "---------------------------------------------------------\n",
      "cumulative product of the array: [  1   2   6  24 120]\n"
     ]
    }
   ],
   "source": [
    "# commulative product\n",
    "arr = np.array([1, 2, 3, 4, 5])\n",
    "print(f\"array: {arr}\")\n",
    "print(\"---------------------------------------------------------\")\n",
    "cumprod_arr = np.cumprod(arr)\n",
    "print(f\"cumulative product of the array: {cumprod_arr}\")"
   ]
  },
  {
   "cell_type": "code",
   "execution_count": 121,
   "id": "d30b9191",
   "metadata": {},
   "outputs": [
    {
     "name": "stdout",
     "output_type": "stream",
     "text": [
      "mean: -0.016774978733065098\n",
      "standard deviation: 1.0217307400584716\n",
      "variance: 1.0439337051804323\n",
      "standard error: 0.0323099629399421\n",
      "statistic: 0.998626549507728, p-value: 0.6389492962442752\n",
      "Data is normally distributed\n"
     ]
    },
    {
     "data": {
      "text/plain": [
       "(array([0.00976378, 0.01464567, 0.02929133, 0.03905511, 0.043937  ,\n",
       "        0.07811022, 0.08299211, 0.14645667, 0.18062989, 0.28314956,\n",
       "        0.24897633, 0.27826767, 0.32708656, 0.40519678, 0.40519678,\n",
       "        0.39055111, 0.34173222, 0.34173222, 0.20992122, 0.28314956,\n",
       "        0.20503933, 0.20503933, 0.11716533, 0.07811022, 0.05370078,\n",
       "        0.02440944, 0.03905511, 0.01464567, 0.        , 0.00488189]),\n",
       " array([-3.02423367, -2.81939492, -2.61455618, -2.40971743, -2.20487869,\n",
       "        -2.00003994, -1.7952012 , -1.59036245, -1.3855237 , -1.18068496,\n",
       "        -0.97584621, -0.77100747, -0.56616872, -0.36132998, -0.15649123,\n",
       "         0.04834751,  0.25318626,  0.458025  ,  0.66286375,  0.86770249,\n",
       "         1.07254124,  1.27737998,  1.48221873,  1.68705747,  1.89189622,\n",
       "         2.09673496,  2.30157371,  2.50641245,  2.7112512 ,  2.91608994,\n",
       "         3.12092869]),\n",
       " <BarContainer object of 30 artists>)"
      ]
     },
     "execution_count": 121,
     "metadata": {},
     "output_type": "execute_result"
    },
    {
     "data": {
      "image/png": "[encoded data removed]",
      "text/plain": [
       "<Figure size 640x480 with 1 Axes>"
      ]
     },
     "metadata": {},
     "output_type": "display_data"
    }
   ],
   "source": [
    "# create a data having normal distribution\n",
    "data = np.random.randn(1000)\n",
    "print(f\"mean: {np.mean(data)}\")\n",
    "print(f\"standard deviation: {np.std(data)}\")\n",
    "print(f\"variance: {np.var(data)}\")\n",
    "print(f\"standard error: {np.std(data) / np.sqrt(len(data))}\")\n",
    "# test the normality of the data\n",
    "from scipy.stats import shapiro\n",
    "stat, p = shapiro(data)\n",
    "print(f\"statistic: {stat}, p-value: {p}\")\n",
    "if p > 0.05:\n",
    "    print(\"Data is normally distributed\")\n",
    "else:\n",
    "    print(\"Data is not normally distributed\")\n",
    "\n",
    "# plot the data using density plot\n",
    "import matplotlib.pyplot as plt\n",
    "plt.hist(data, bins=30, density=True)"
   ]
  },
  {
   "cell_type": "code",
   "execution_count": 175,
   "id": "29831b28",
   "metadata": {},
   "outputs": [
    {
     "name": "stdout",
     "output_type": "stream",
     "text": [
      "Data is not normally distributed\n"
     ]
    },
    {
     "data": {
      "text/plain": [
       "(array([41., 34., 37., 33., 27., 33., 27., 21., 34., 33., 30., 31., 35.,\n",
       "        33., 38., 29., 35., 38., 30., 20., 36., 38., 35., 30., 37., 40.,\n",
       "        31., 37., 40., 37.]),\n",
       " array([5.29232772e-06, 3.33257304e-02, 6.66461685e-02, 9.99666066e-02,\n",
       "        1.33287045e-01, 1.66607483e-01, 1.99927921e-01, 2.33248359e-01,\n",
       "        2.66568797e-01, 2.99889235e-01, 3.33209673e-01, 3.66530111e-01,\n",
       "        3.99850549e-01, 4.33170988e-01, 4.66491426e-01, 4.99811864e-01,\n",
       "        5.33132302e-01, 5.66452740e-01, 5.99773178e-01, 6.33093616e-01,\n",
       "        6.66414054e-01, 6.99734492e-01, 7.33054930e-01, 7.66375368e-01,\n",
       "        7.99695807e-01, 8.33016245e-01, 8.66336683e-01, 8.99657121e-01,\n",
       "        9.32977559e-01, 9.66297997e-01, 9.99618435e-01]),\n",
       " <BarContainer object of 30 artists>)"
      ]
     },
     "execution_count": 175,
     "metadata": {},
     "output_type": "execute_result"
    },
    {
     "data": {
      "image/png": "[encoded data removed]",
      "text/plain": [
       "<Figure size 640x480 with 1 Axes>"
      ]
     },
     "metadata": {},
     "output_type": "display_data"
    }
   ],
   "source": [
    "# create a data having uniform distribution\n",
    "data = np.random.rand(1000)\n",
    "from scipy.stats import shapiro\n",
    "stat, p = shapiro(data)\n",
    "if p > 0.05:\n",
    "    print(\"Data is normally distributed\")\n",
    "else:\n",
    "    print(\"Data is not normally distributed\")\n",
    "\n",
    "# plot a histogram\n",
    "import matplotlib.pyplot as plt\n",
    "plt.hist(data, bins=30)"
   ]
  },
  {
   "cell_type": "code",
   "execution_count": 122,
   "id": "04a542fb",
   "metadata": {},
   "outputs": [
    {
     "data": {
      "text/plain": [
       "(array([252., 183., 140.,  96.,  78.,  64.,  44.,  26.,  31.,  15.,  16.,\n",
       "         13.,  10.,   6.,   5.,   3.,   6.,   2.,   2.,   2.,   0.,   1.,\n",
       "          1.,   0.,   0.,   2.,   0.,   0.,   1.,   1.]),\n",
       " array([5.87807121e-04, 2.75122661e-01, 5.49657514e-01, 8.24192367e-01,\n",
       "        1.09872722e+00, 1.37326207e+00, 1.64779693e+00, 1.92233178e+00,\n",
       "        2.19686663e+00, 2.47140149e+00, 2.74593634e+00, 3.02047119e+00,\n",
       "        3.29500605e+00, 3.56954090e+00, 3.84407576e+00, 4.11861061e+00,\n",
       "        4.39314546e+00, 4.66768032e+00, 4.94221517e+00, 5.21675002e+00,\n",
       "        5.49128488e+00, 5.76581973e+00, 6.04035458e+00, 6.31488944e+00,\n",
       "        6.58942429e+00, 6.86395914e+00, 7.13849400e+00, 7.41302885e+00,\n",
       "        7.68756370e+00, 7.96209856e+00, 8.23663341e+00]),\n",
       " <BarContainer object of 30 artists>)"
      ]
     },
     "execution_count": 122,
     "metadata": {},
     "output_type": "execute_result"
    },
    {
     "data": {
      "image/png": "[encoded data removed]",
      "text/plain": [
       "<Figure size 640x480 with 1 Axes>"
      ]
     },
     "metadata": {},
     "output_type": "display_data"
    }
   ],
   "source": [
    "# create a data having exponential distribution\n",
    "data = np.random.exponential(1, 1000)\n",
    "# plot\n",
    "import matplotlib.pyplot as plt\n",
    "plt.hist(data, bins=30)"
   ]
  },
  {
   "cell_type": "code",
   "execution_count": 123,
   "id": "b758e3fc",
   "metadata": {},
   "outputs": [
    {
     "data": {
      "text/plain": [
       "(array([380.,   0.,   0.,   0.,   0.,   0., 359.,   0.,   0.,   0.,   0.,\n",
       "          0., 184.,   0.,   0.,   0.,   0.,   0.,  56.,   0.,   0.,   0.,\n",
       "          0.,   0.,  16.,   0.,   0.,   0.,   0.,   5.]),\n",
       " array([0.        , 0.16666667, 0.33333333, 0.5       , 0.66666667,\n",
       "        0.83333333, 1.        , 1.16666667, 1.33333333, 1.5       ,\n",
       "        1.66666667, 1.83333333, 2.        , 2.16666667, 2.33333333,\n",
       "        2.5       , 2.66666667, 2.83333333, 3.        , 3.16666667,\n",
       "        3.33333333, 3.5       , 3.66666667, 3.83333333, 4.        ,\n",
       "        4.16666667, 4.33333333, 4.5       , 4.66666667, 4.83333333,\n",
       "        5.        ]),\n",
       " <BarContainer object of 30 artists>)"
      ]
     },
     "execution_count": 123,
     "metadata": {},
     "output_type": "execute_result"
    },
    {
     "data": {
      "image/png": "[encoded data removed]",
      "text/plain": [
       "<Figure size 640x480 with 1 Axes>"
      ]
     },
     "metadata": {},
     "output_type": "display_data"
    }
   ],
   "source": [
    "# create a data having poisson distribution\n",
    "data = np.random.poisson(1, 1000)\n",
    "# plot\n",
    "import matplotlib.pyplot as plt\n",
    "plt.hist(data, bins=30)"
   ]
  },
  {
   "cell_type": "code",
   "execution_count": 124,
   "id": "7880f9b4",
   "metadata": {},
   "outputs": [
    {
     "data": {
      "text/plain": [
       "(array([  1.,   0.,   0.,  11.,   0.,   0.,  44.,   0.,   0.,   0., 109.,\n",
       "          0.,   0., 201.,   0.,   0., 231.,   0.,   0.,   0., 220.,   0.,\n",
       "          0., 125.,   0.,   0.,  48.,   0.,   0.,  10.]),\n",
       " array([0. , 0.3, 0.6, 0.9, 1.2, 1.5, 1.8, 2.1, 2.4, 2.7, 3. , 3.3, 3.6,\n",
       "        3.9, 4.2, 4.5, 4.8, 5.1, 5.4, 5.7, 6. , 6.3, 6.6, 6.9, 7.2, 7.5,\n",
       "        7.8, 8.1, 8.4, 8.7, 9. ]),\n",
       " <BarContainer object of 30 artists>)"
      ]
     },
     "execution_count": 124,
     "metadata": {},
     "output_type": "execute_result"
    },
    {
     "data": {
      "image/png": "[encoded data removed]",
      "text/plain": [
       "<Figure size 640x480 with 1 Axes>"
      ]
     },
     "metadata": {},
     "output_type": "display_data"
    }
   ],
   "source": [
    "# create a data having binomial distribution\n",
    "data = np.random.binomial(10, 0.5, 1000)\n",
    "# plot\n",
    "import matplotlib.pyplot as plt\n",
    "plt.hist(data, bins=30)"
   ]
  },
  {
   "cell_type": "markdown",
   "id": "7bad2725",
   "metadata": {},
   "source": [
    "- Binomial distribution is a discrete probability distribution that describes the number of successes in a fixed number of independent Bernoulli trials, each with the same probability of success. The binomial distribution is characterized by two parameters: the number of trials `n` and the probability of success `p`."
   ]
  },
  {
   "cell_type": "code",
   "execution_count": 125,
   "id": "72dfb096",
   "metadata": {},
   "outputs": [
    {
     "data": {
      "text/plain": [
       "(array([  1.,   2.,   6.,   5.,  24.,  36.,  92., 112., 100., 161., 147.,\n",
       "        139.,  82.,  53.,  25.,  13.,  20.,  21.,  56.,  76., 133., 149.,\n",
       "        135., 131., 129.,  76.,  37.,  21.,  14.,   4.]),\n",
       " array([-3.6975995 , -3.30849772, -2.91939595, -2.53029417, -2.14119239,\n",
       "        -1.75209061, -1.36298884, -0.97388706, -0.58478528, -0.1956835 ,\n",
       "         0.19341827,  0.58252005,  0.97162183,  1.36072361,  1.74982538,\n",
       "         2.13892716,  2.52802894,  2.91713071,  3.30623249,  3.69533427,\n",
       "         4.08443605,  4.47353782,  4.8626396 ,  5.25174138,  5.64084316,\n",
       "         6.02994493,  6.41904671,  6.80814849,  7.19725027,  7.58635204,\n",
       "         7.97545382]),\n",
       " <BarContainer object of 30 artists>)"
      ]
     },
     "execution_count": 125,
     "metadata": {},
     "output_type": "execute_result"
    },
    {
     "data": {
      "image/png": "[encoded data removed]",
      "text/plain": [
       "<Figure size 640x480 with 1 Axes>"
      ]
     },
     "metadata": {},
     "output_type": "display_data"
    }
   ],
   "source": [
    "# create a bimodal data\n",
    "data1 = np.random.normal(0, 1, 1000)\n",
    "data2 = np.random.normal(5, 1, 1000)\n",
    "data = np.concatenate((data1, data2))\n",
    "# plot\n",
    "import matplotlib.pyplot as plt\n",
    "plt.hist(data, bins=30)"
   ]
  },
  {
   "cell_type": "markdown",
   "id": "852d41a8",
   "metadata": {},
   "source": [
    "## **5. Logical Operations**"
   ]
  },
  {
   "cell_type": "code",
   "execution_count": null,
   "id": "0f4555ad",
   "metadata": {},
   "outputs": [
    {
     "name": "stdout",
     "output_type": "stream",
     "text": [
      "array: [1 2 3 4 5]\n",
      "---------------------------------------------------------\n",
      "elements greater than 3: [4 5]\n"
     ]
    }
   ],
   "source": [
    "# where function\n",
    "arr = np.array([1, 2, 3, 4, 5])\n",
    "print(f\"array: {arr}\")\n",
    "print(\"---------------------------------------------------------\")\n",
    "where_arr = np.where(arr > 3)\n",
    "print(f\"elements greater than 3: {arr[where_arr]}\")"
   ]
  },
  {
   "cell_type": "code",
   "execution_count": null,
   "id": "c8fcb5aa",
   "metadata": {},
   "outputs": [
    {
     "name": "stdout",
     "output_type": "stream",
     "text": [
      "array: [1 2 3 4 5]\n",
      "---------------------------------------------------------\n",
      "any element greater than 3: True\n"
     ]
    }
   ],
   "source": [
    "# any function checks if any element in an array is True\n",
    "arr = np.array([1, 2, 3, 4, 5])\n",
    "print(f\"array: {arr}\")\n",
    "print(\"---------------------------------------------------------\")\n",
    "any_arr = np.any(arr > 3)\n",
    "print(f\"any element greater than 3: {any_arr}\")"
   ]
  },
  {
   "cell_type": "code",
   "execution_count": 128,
   "id": "2803ef8a",
   "metadata": {},
   "outputs": [
    {
     "name": "stdout",
     "output_type": "stream",
     "text": [
      "array: [1 2 3 4 5]\n",
      "---------------------------------------------------------\n",
      "all elements greater than 3: False\n"
     ]
    }
   ],
   "source": [
    "# np.all Checks if all numbers in an array are greater than 3\n",
    "arr = np.array([1, 2, 3, 4, 5])\n",
    "print(f\"array: {arr}\")\n",
    "print(\"---------------------------------------------------------\")\n",
    "all_arr = np.all(arr > 3)\n",
    "print(f\"all elements greater than 3: {all_arr}\")"
   ]
  },
  {
   "cell_type": "code",
   "execution_count": null,
   "id": "a9bbc7bb",
   "metadata": {},
   "outputs": [
    {
     "name": "stdout",
     "output_type": "stream",
     "text": [
      "array1: [1 2 3 4 5]\n",
      "array2: [4 5 6 7 8]\n",
      "---------------------------------------------------------\n",
      "elements in array1 that are also in array2: [4 5]\n"
     ]
    }
   ],
   "source": [
    "# check if elemenets are in another array\n",
    "arr1 = np.array([1, 2, 3, 4, 5])\n",
    "arr2 = np.array([4, 5, 6, 7, 8])\n",
    "print(f\"array1: {arr1}\")\n",
    "print(f\"array2: {arr2}\")\n",
    "print(\"---------------------------------------------------------\")\n",
    "isin_arr = np.isin(arr1, arr2)\n",
    "print(f\"elements in array1 that are also in array2: {arr1[isin_arr]}\")"
   ]
  },
  {
   "cell_type": "code",
   "execution_count": null,
   "id": "b95a8d87",
   "metadata": {},
   "outputs": [
    {
     "name": "stdout",
     "output_type": "stream",
     "text": [
      "array: [1 2 3 4 5 1 2 3 4 5]\n",
      "---------------------------------------------------------\n",
      "unique elements in the array: [1 2 3 4 5]\n"
     ]
    }
   ],
   "source": [
    "# unique\n",
    "arr = np.array([1, 2, 3, 4, 5, 1, 2, 3, 4, 5])\n",
    "print(f\"array: {arr}\")\n",
    "print(\"---------------------------------------------------------\")\n",
    "unique_arr = np.unique(arr)\n",
    "print(f\"unique elements in the array: {unique_arr}\")"
   ]
  },
  {
   "cell_type": "code",
   "execution_count": 129,
   "id": "69de595d",
   "metadata": {},
   "outputs": [
    {
     "name": "stdout",
     "output_type": "stream",
     "text": [
      "array1: [1 2 3 4 5]\n",
      "array2: [4 5 6 7 8]\n",
      "---------------------------------------------------------\n",
      "union of array1 and array2: [1 2 3 4 5 6 7 8]\n",
      "---------------------------------------------------------\n",
      "intersection of array1 and array2: [4 5]\n",
      "---------------------------------------------------------\n",
      "difference of array1 and array2: [1 2 3]\n",
      "---------------------------------------------------------\n",
      "symmetric difference of array1 and array2: [1 2 3 6 7 8]\n"
     ]
    }
   ],
   "source": [
    "# set operations\n",
    "arr1 = np.array([1, 2, 3, 4, 5])\n",
    "arr2 = np.array([4, 5, 6, 7, 8])\n",
    "print(f\"array1: {arr1}\")\n",
    "print(f\"array2: {arr2}\")\n",
    "print(\"---------------------------------------------------------\")\n",
    "\n",
    "# union\n",
    "union_arr = np.union1d(arr1, arr2)\n",
    "print(f\"union of array1 and array2: {union_arr}\")\n",
    "print(\"---------------------------------------------------------\")\n",
    "# intersection\n",
    "intersection_arr = np.intersect1d(arr1, arr2)\n",
    "print(f\"intersection of array1 and array2: {intersection_arr}\")\n",
    "print(\"---------------------------------------------------------\")\n",
    "\n",
    "# difference\n",
    "diff_arr = np.setdiff1d(arr1, arr2)\n",
    "print(f\"difference of array1 and array2: {diff_arr}\")\n",
    "print(\"---------------------------------------------------------\")\n",
    "\n",
    "# symmetric difference\n",
    "sym_diff_arr = np.setxor1d(arr1, arr2)\n",
    "print(f\"symmetric difference of array1 and array2: {sym_diff_arr}\")"
   ]
  },
  {
   "cell_type": "markdown",
   "id": "3cd79b49",
   "metadata": {},
   "source": [
    "- Sytematic difference of two arrays is calculated using the `np.setdiff1d()` function."
   ]
  },
  {
   "cell_type": "markdown",
   "id": "5d9eb126",
   "metadata": {},
   "source": [
    "## **6. Linear Algebra**"
   ]
  },
  {
   "cell_type": "code",
   "execution_count": null,
   "id": "12ee16cf",
   "metadata": {},
   "outputs": [
    {
     "name": "stdout",
     "output_type": "stream",
     "text": [
      "array1: [1 2 3]\n",
      "array2: [4 5 6]\n",
      "---------------------------------------------------------\n",
      "dot product of array1 and array2: 32\n"
     ]
    }
   ],
   "source": [
    "# dot product of two arrays\n",
    "arr1 = np.array([1, 2, 3])\n",
    "arr2 = np.array([4, 5, 6])\n",
    "print(f\"array1: {arr1}\")\n",
    "print(f\"array2: {arr2}\")\n",
    "print(\"---------------------------------------------------------\")\n",
    "dot_arr = np.dot(arr1, arr2)\n",
    "print(f\"dot product of array1 and array2: {dot_arr}\")"
   ]
  },
  {
   "cell_type": "markdown",
   "id": "8765ab88",
   "metadata": {},
   "source": [
    "- The dot product of two arrays is calculated using the `np.dot()` function.\n",
    "- The dot product of two arrays is the sum of the products of the corresponding elements of the two arrays.\n",
    "Here is the formula for the dot product of two arrays:\n",
    "\n",
    "$$\n",
    "\\text{Dot Product} = \\sum_{i=1}^{n} a_i \\times b_i\n",
    "$$\n",
    "\n",
    "Here is an example in mathematical notation:\n",
    "\n",
    "$$\n",
    "\\begin{bmatrix} 1 & 2 & 3 \\end{bmatrix} \\cdot \\begin{bmatrix} 4 & 5 & 6 \\end{bmatrix} = 1 \\times 4 + 2 \\times 5 + 3 \\times 6 = 32\n",
    "$$\n",
    "\n",
    "Here we have two arrays, `[1, 2, 3]` and `[4, 5, 6]`, and the dot product is `32`. We first transform the arrays into vectors and then multiply the corresponding elements and sum the results."
   ]
  },
  {
   "cell_type": "code",
   "execution_count": null,
   "id": "43edf956",
   "metadata": {},
   "outputs": [
    {
     "name": "stdout",
     "output_type": "stream",
     "text": [
      "matrix:\n",
      "[[1 2 3]\n",
      " [4 5 6]]\n"
     ]
    }
   ],
   "source": [
    "# creating a matrix\n",
    "matrix = np.array([[1, 2, 3], [4, 5, 6]])\n",
    "print(f\"matrix:\\n{matrix}\")"
   ]
  },
  {
   "cell_type": "code",
   "execution_count": null,
   "id": "9ce42c78",
   "metadata": {},
   "outputs": [
    {
     "name": "stdout",
     "output_type": "stream",
     "text": [
      "matrix:\n",
      "[[1 2 3]\n",
      " [4 5 6]]\n"
     ]
    }
   ],
   "source": [
    "# matrix using arange\n",
    "matrix = np.arange(1, 7).reshape(2, 3)\n",
    "print(f\"matrix:\\n{matrix}\")"
   ]
  },
  {
   "cell_type": "code",
   "execution_count": null,
   "id": "6d0d1539",
   "metadata": {},
   "outputs": [
    {
     "name": "stdout",
     "output_type": "stream",
     "text": [
      "matrix1:\n",
      "[[1 2 3]\n",
      " [4 5 6]]\n",
      "matrix2:\n",
      "[[ 7  8]\n",
      " [ 9 10]\n",
      " [11 12]]\n",
      "---------------------------------------------------------\n",
      "matrix multiplication of matrix1 and matrix2:\n",
      "[[ 58  64]\n",
      " [139 154]]\n"
     ]
    }
   ],
   "source": [
    "# matrix multiplication\n",
    "matrix1 = np.array([[1, 2, 3], [4, 5, 6]])\n",
    "matrix2 = np.array([[7, 8], [9, 10], [11, 12]])\n",
    "print(f\"matrix1:\\n{matrix1}\")\n",
    "print(f\"matrix2:\\n{matrix2}\")\n",
    "print(\"---------------------------------------------------------\")\n",
    "matrix_mul = np.matmul(matrix1, matrix2)\n",
    "print(f\"matrix multiplication of matrix1 and matrix2:\\n{matrix_mul}\")"
   ]
  },
  {
   "cell_type": "markdown",
   "id": "b42972e5",
   "metadata": {},
   "source": [
    "#### Matrix Multiplication\n",
    "- matrix multiplication is calculated using the `np.matmul()` function.\n",
    "- Matrix multiplication is a binary operation that takes two matrices as inputs and produces another matrix as output. The number of columns in the first matrix must be equal to the number of rows in the second matrix for the multiplication to be defined.\n",
    "\n",
    "Here is the formula for matrix multiplication:\n",
    "\n",
    "$$\n",
    "C = A \\times B\n",
    "$$\n",
    "\n",
    "Where `A` is an `m x n` matrix, `B` is an `n x p` matrix, and `C` is an `m x p` matrix. The element `C[i, j]` is the dot product of the `i-th` row of `A` and the `j-th` column of `B`.\n",
    "\n",
    "Here is an example in mathematical notation:\n",
    "\n",
    "$$\n",
    "\\begin{bmatrix} 1 & 2 \\\\ 3 & 4 \\end{bmatrix} \\times \\begin{bmatrix} 5 & 6 \\\\ 7 & 8 \\end{bmatrix} = \\begin{bmatrix} 1 \\times 5 + 2 \\times 7 & 1 \\times 6 + 2 \\times 8 \\\\ 3 \\times 5 + 4 \\times 7 & 3 \\times 6 + 4 \\times 8 \\end{bmatrix} = \\begin{bmatrix} 19 & 22 \\\\ 43 & 50 \\end{bmatrix}\n",
    "$$\n",
    "\n",
    "Here we have two `2 x 2` matrices, and the result of the matrix multiplication is another `2 x 2` matrix.\n",
    "\n",
    "> Matrix multiplication also known as the dot product of two matrices."
   ]
  },
  {
   "cell_type": "code",
   "execution_count": null,
   "id": "10406bb4",
   "metadata": {},
   "outputs": [
    {
     "name": "stdout",
     "output_type": "stream",
     "text": [
      "matrix:\n",
      "[[1 2]\n",
      " [3 4]]\n",
      "---------------------------------------------------------\n",
      "inverse of the matrix:\n",
      "[[-2.   1. ]\n",
      " [ 1.5 -0.5]]\n"
     ]
    }
   ],
   "source": [
    "# inverse of a matrix\n",
    "matrix = np.array([[1, 2], [3, 4]])\n",
    "print(f\"matrix:\\n{matrix}\")\n",
    "print(\"---------------------------------------------------------\")\n",
    "inv_matrix = np.linalg.inv(matrix)\n",
    "print(f\"inverse of the matrix:\\n{inv_matrix}\")"
   ]
  },
  {
   "cell_type": "markdown",
   "id": "8977e90d",
   "metadata": {},
   "source": [
    "- The inverse of a matrix is calculated using the `np.linalg.inv()` function.\n",
    "- The inverse of a matrix is a matrix that, when multiplied by the original matrix, results in the identity matrix. The inverse of a matrix `A` is denoted as `A^(-1)`.\n",
    "- The inverse of a matrix `A` is defined as the matrix `A^(-1)` such that `A^(-1) * A = A * A^(-1) = I`, where `I` is the identity matrix.\n",
    "\n",
    "Here is the formula for the inverse of a matrix:\n",
    "\n",
    "$$\n",
    "A^{-1} = \\frac{1}{\\det(A)} \\cdot \\text{adj}(A)\n",
    "$$\n",
    "\n",
    "Where `det(A)` is the determinant of matrix `A` and `adj(A)` is the adjugate of matrix `A`.\n",
    "\n",
    "Here is an example in mathematical notation of Identy matrix:\n",
    "\n",
    "$$\n",
    "\\begin{bmatrix} 1 & 0 & 0 \\\\ 0 & 1 & 0 \\\\ 0 & 0 & 1 \\end{bmatrix}\n",
    "$$\n",
    "\n",
    "Here we have a `3 x 3` identity matrix, where the diagonal elements are `1` and all other elements are `0`.\n",
    "\n",
    "### Determinant of a Matrix\n",
    "\n",
    "Here is mathematical notation of Determinant matrix:\n",
    "\n",
    "$$\n",
    "\\begin{bmatrix} a & b \\\\ c & d \\end{bmatrix} = ad - bc\n",
    "$$\n",
    "\n",
    "Where `a`, `b`, `c`, and `d` are the elements of the matrix.\n",
    "\n",
    "\n",
    "Here we have a `2 x 2` matrix, and the determinant is calculated as `ad - bc`. For a `2 x 2` matrix, the determinant is the product of the diagonal elements minus the product of the off-diagonal elements. Example, for matrix `[[1, 2], [3, 4]]`, the determinant is `1 * 4 - 2 * 3 = 4 - 6 = -2` as shown here:\n",
    "\n",
    "$$\n",
    "\\begin{bmatrix} 1 & 2 \\\\ 3 & 4 \\end{bmatrix} = 1 \\times 4 - 2 \\times 3 = 4 - 6 = -2\n",
    "$$\n",
    "\n",
    "### Adjugate of a Matrix\n",
    "\n",
    "Here is the Adjucate matrix example:\n",
    "\n",
    "$$\n",
    "\\text{adj}(A) = \\begin{bmatrix} d & -b \\\\ -c & a \\end{bmatrix}\n",
    "$$\n",
    "\n",
    "where `a`, `b`, `c`, and `d` are the elements of the matrix.\n",
    "\n",
    "---\n",
    "### **Inverse of a Matrix**\n",
    "\n",
    "> Let's see how to calculate the inverse of a matrix in mathematical notation.\n",
    "> Here we have a `2 x 2` matrix `[[1, 2], [3, 4]]`, and the inverse is calculated as follows:\n",
    "\n",
    "$$\n",
    "\\begin{bmatrix} 1 & 2 \\\\ 3 & 4 \\end{bmatrix}^{-1} = \\frac{1}{1 \\times 4 - 2 \\times 3} \\times \\begin{bmatrix} 4 & -2 \\\\ -3 & 1 \\end{bmatrix} = \\frac{1}{-2} \\times \\begin{bmatrix} 4 & -2 \\\\ -3 & 1 \\end{bmatrix} = \\begin{bmatrix} -2 & 1 \\\\ 1.5 & -0.5 \\end{bmatrix}\n",
    "$$"
   ]
  },
  {
   "cell_type": "code",
   "execution_count": null,
   "id": "5efff50f",
   "metadata": {},
   "outputs": [
    {
     "name": "stdout",
     "output_type": "stream",
     "text": [
      "matrix:\n",
      "[[1 2]\n",
      " [3 4]]\n",
      "---------------------------------------------------------\n",
      "determinant of the matrix: -2.0000000000000004\n"
     ]
    }
   ],
   "source": [
    "# determinant of a matrix\n",
    "matrix = np.array([[1, 2], [3, 4]])\n",
    "print(f\"matrix:\\n{matrix}\")\n",
    "print(\"---------------------------------------------------------\")\n",
    "det_matrix = np.linalg.det(matrix)\n",
    "print(f\"determinant of the matrix: {det_matrix}\")"
   ]
  },
  {
   "cell_type": "code",
   "execution_count": null,
   "id": "200294d2",
   "metadata": {},
   "outputs": [
    {
     "name": "stdout",
     "output_type": "stream",
     "text": [
      "matrix:\n",
      "[[1 2]\n",
      " [3 4]]\n",
      "---------------------------------------------------------\n",
      "eigenvalues of the matrix: [-0.37228132  5.37228132]\n",
      "eigenvectors of the matrix: [[-0.82456484 -0.41597356]\n",
      " [ 0.56576746 -0.90937671]]\n"
     ]
    }
   ],
   "source": [
    "# eigenvalues and eigenvectors of a matrix\n",
    "matrix = np.array([[1, 2], [3, 4]])\n",
    "print(f\"matrix:\\n{matrix}\")\n",
    "print(\"---------------------------------------------------------\")\n",
    "eigenvalues, eigenvectors = np.linalg.eig(matrix)\n",
    "print(f\"eigenvalues of the matrix: {eigenvalues}\")\n",
    "print(f\"eigenvectors of the matrix: {eigenvectors}\")"
   ]
  },
  {
   "cell_type": "markdown",
   "id": "57c3542b",
   "metadata": {},
   "source": [
    "- Eigenvalues and eigenvectors of a matrix are calculated using the `np.linalg.eig()` function.\n",
    "- Eigenvalues and eigenvectors are properties of square matrices that describe how the matrix behaves when multiplied by a vector.\n",
    "- The eigenvectors of a matrix are the vectors that remain in the same direction after the matrix transformation, while the eigenvalues are the scaling factors by which the eigenvectors are stretched or compressed.\n",
    "- The eigenvectors and eigenvalues of a matrix are used in various applications, such as principal component analysis (PCA) and solving differential equations."
   ]
  },
  {
   "cell_type": "markdown",
   "id": "24af7c6e",
   "metadata": {},
   "source": [
    "## **7. Utility Functions**"
   ]
  },
  {
   "cell_type": "code",
   "execution_count": null,
   "id": "0dea628c",
   "metadata": {},
   "outputs": [
    {
     "name": "stdout",
     "output_type": "stream",
     "text": [
      "array: [3 2 1 4 5]\n",
      "---------------------------------------------------------\n",
      "sorted array: [1 2 3 4 5]\n"
     ]
    }
   ],
   "source": [
    "# sort an array\n",
    "arr = np.array([3, 2, 1, 4, 5])\n",
    "print(f\"array: {arr}\")\n",
    "print(\"---------------------------------------------------------\")\n",
    "sorted_arr = np.sort(arr)\n",
    "print(f\"sorted array: {sorted_arr}\")"
   ]
  },
  {
   "cell_type": "code",
   "execution_count": null,
   "id": "7adf548a",
   "metadata": {},
   "outputs": [
    {
     "name": "stdout",
     "output_type": "stream",
     "text": [
      "matrix:\n",
      "[[3 2 1]\n",
      " [6 5 4]]\n",
      "---------------------------------------------------------\n",
      "sorted matrix:\n",
      "[[1 2 3]\n",
      " [4 5 6]]\n"
     ]
    }
   ],
   "source": [
    "# sort a 2D array\n",
    "matrix = np.array([[3, 2, 1], [6, 5, 4]])\n",
    "print(f\"matrix:\\n{matrix}\")\n",
    "print(\"---------------------------------------------------------\")\n",
    "sorted_matrix = np.sort(matrix)\n",
    "print(f\"sorted matrix:\\n{sorted_matrix}\")"
   ]
  },
  {
   "cell_type": "code",
   "execution_count": null,
   "id": "424b5974",
   "metadata": {},
   "outputs": [
    {
     "name": "stdout",
     "output_type": "stream",
     "text": [
      "matrix:\n",
      "[[6 5 4]\n",
      " [3 2 1]\n",
      " [9 8 7]]\n",
      "---------------------------------------------------------\n",
      "sorted matrix by column:\n",
      "[[3 2 1]\n",
      " [6 5 4]\n",
      " [9 8 7]]\n"
     ]
    }
   ],
   "source": [
    "# sort a 2D array by column\n",
    "matrix = np.array([[6, 5, 4], [3, 2, 1], [9, 8, 7]])\n",
    "print(f\"matrix:\\n{matrix}\")\n",
    "print(\"---------------------------------------------------------\")\n",
    "sorted_matrix = np.sort(matrix, axis=0) # sort by column\n",
    "print(f\"sorted matrix by column:\\n{sorted_matrix}\")"
   ]
  },
  {
   "cell_type": "code",
   "execution_count": null,
   "id": "3d273618",
   "metadata": {},
   "outputs": [
    {
     "name": "stdout",
     "output_type": "stream",
     "text": [
      "matrix:\n",
      "[[6 5 4]\n",
      " [3 2 1]\n",
      " [9 8 7]]\n",
      "---------------------------------------------------------\n",
      "sorted matrix by row:\n",
      "[[4 5 6]\n",
      " [1 2 3]\n",
      " [7 8 9]]\n"
     ]
    }
   ],
   "source": [
    "# sort a 2D array by row\n",
    "matrix = np.array([[6, 5, 4], [3, 2, 1], [9, 8, 7]])\n",
    "print(f\"matrix:\\n{matrix}\")\n",
    "print(\"---------------------------------------------------------\")\n",
    "sorted_matrix = np.sort(matrix, axis=1) # sort by row\n",
    "print(f\"sorted matrix by row:\\n{sorted_matrix}\")"
   ]
  },
  {
   "cell_type": "code",
   "execution_count": null,
   "id": "f3268615",
   "metadata": {},
   "outputs": [],
   "source": [
    "# save an array to a file\n",
    "arr = np.array([1, 2, 3, 4, 5])\n",
    "print(f\"array: {arr}\")\n",
    "print(\"---------------------------------------------------------\")\n",
    "np.save(\"array.npy\", arr) # save the array to a file"
   ]
  },
  {
   "cell_type": "code",
   "execution_count": null,
   "id": "71c94b85",
   "metadata": {},
   "outputs": [
    {
     "name": "stdout",
     "output_type": "stream",
     "text": [
      "array: [1 2 3 4 5]\n",
      "---------------------------------------------------------\n",
      "clipped array: [2 2 3 4 4]\n"
     ]
    }
   ],
   "source": [
    "# limit values within a range\n",
    "arr = np.array([1, 2, 3, 4, 5])\n",
    "print(f\"array: {arr}\")\n",
    "print(\"---------------------------------------------------------\")\n",
    "clip_arr = np.clip(arr, 2, 4) # limit values between 2 and 4\n",
    "print(f\"clipped array: {clip_arr}\")"
   ]
  },
  {
   "cell_type": "markdown",
   "id": "a4539b7e",
   "metadata": {},
   "source": [
    "<h2 style=\"font-family: 'poppins'; font-weight: bold; color: Green;\">👨‍💻Author: Dr. Muhammad Aamamr Tufail</h2>\n",
    "\n",
    "[![GitHub](https://img.shields.io/badge/GitHub-Profile-blue?style=for-the-badge&logo=github)](https://github.com/AammarTufail) \n",
    "[![Kaggle](https://img.shields.io/badge/Kaggle-Profile-blue?style=for-the-badge&logo=kaggle)](https://www.kaggle.com/muhammadaammartufail) \n",
    "[![LinkedIn](https://img.shields.io/badge/LinkedIn-Profile-blue?style=for-the-badge&logo=linkedin)](https://www.linkedin.com/in/dr-muhammad-aammar-tufail-02471213b/)  \n",
    "\n",
    "[![YouTube](https://img.shields.io/badge/YouTube-Profile-red?style=for-the-badge&logo=youtube)](https://www.youtube.com/@codanics) \n",
    "[![Facebook](https://img.shields.io/badge/Facebook-Profile-blue?style=for-the-badge&logo=facebook)](https://www.facebook.com/aammar.tufail) \n",
    "[![TikTok](https://img.shields.io/badge/TikTok-Profile-black?style=for-the-badge&logo=tiktok)](https://www.tiktok.com/@draammar)  \n",
    "\n",
    "[![Twitter/X](https://img.shields.io/badge/Twitter-Profile-blue?style=for-the-badge&logo=twitter)](https://twitter.com/aammar_tufail) \n",
    "[![Instagram](https://img.shields.io/badge/Instagram-Profile-blue?style=for-the-badge&logo=instagram)](https://www.instagram.com/aammartufail/) \n",
    "[![Email](https://img.shields.io/badge/Email-Contact%20Me-red?style=for-the-badge&logo=email)](mailto:aammar@codanics.com)\n",
    "\n",
    "## Complete Crash Course on Mathematics for Data Science\n",
    "\n",
    "Here you can find the complete crash course on Mathematics for Data Science. This course is designed for beginners who want to learn the basics of mathematics for data science. This course is designed in such a way that you can learn the basics of mathematics in a very short time. This course is designed in Urdu language.\n",
    "\n",
    "Here is youtube video link for this course: [Mathematics for Data Science Complete Crash course for beginners in urdu](https://youtu.be/yDzJ4tgaN7A?si=7tnHPL7yK3ehWzRB)"
   ]
  }
 ],
 "metadata": {
  "kernelspec": {
   "display_name": "data_analysis",
   "language": "python",
   "name": "python3"
  },
  "language_info": {
   "codemirror_mode": {
    "name": "ipython",
    "version": 3
   },
   "file_extension": ".py",
   "mimetype": "text/x-python",
   "name": "python",
   "nbconvert_exporter": "python",
   "pygments_lexer": "ipython3",
   "version": "3.10.0"
  }
 },
 "nbformat": 4,
 "nbformat_minor": 5
}
