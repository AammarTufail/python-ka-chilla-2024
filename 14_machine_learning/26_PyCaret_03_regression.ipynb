{
 "cells": [
  {
   "cell_type": "markdown",
   "metadata": {},
   "source": [
    "# **Regression with pyCaret Notebook**\n",
    "\n",
    "## Introduction\n",
    "\n",
    "- This notebook demonstrates how to use the `pycaret` library to perform regression analysis on a dataset. The dataset used in this notebook is the `Tips` dataset from the `seaborn` library.\n",
    "\n",
    "<h2 style=\"font-family: 'poppins'; font-weight: bold; color: Green;\">👨‍💻Author: Dr. Muhammad Aammar Tufail</h2>\n",
    "\n",
    "[![GitHub](https://img.shields.io/badge/GitHub-Profile-blue?style=for-the-badge&logo=github)](https://github.com/AammarTufail) \n",
    "[![Kaggle](https://img.shields.io/badge/Kaggle-Profile-blue?style=for-the-badge&logo=kaggle)](https://www.kaggle.com/muhammadaammartufail) \n",
    "[![LinkedIn](https://img.shields.io/badge/LinkedIn-Profile-blue?style=for-the-badge&logo=linkedin)](https://www.linkedin.com/in/dr-muhammad-aammar-tufail-02471213b/)  \n",
    "\n",
    "[![YouTube](https://img.shields.io/badge/YouTube-Profile-red?style=for-the-badge&logo=youtube)](https://www.youtube.com/@codanics) \n",
    "[![Facebook](https://img.shields.io/badge/Facebook-Profile-blue?style=for-the-badge&logo=facebook)](https://www.facebook.com/aammar.tufail) \n",
    "[![TikTok](https://img.shields.io/badge/TikTok-Profile-black?style=for-the-badge&logo=tiktok)](https://www.tiktok.com/@draammar)  \n",
    "\n",
    "[![Twitter/X](https://img.shields.io/badge/Twitter-Profile-blue?style=for-the-badge&logo=twitter)](https://twitter.com/aammar_tufail) \n",
    "[![Instagram](https://img.shields.io/badge/Instagram-Profile-blue?style=for-the-badge&logo=instagram)](https://www.instagram.com/aammartufail/) \n",
    "[![Email](https://img.shields.io/badge/Email-Contact%20Me-red?style=for-the-badge&logo=email)](mailto:aammar@codanics.com)\n",
    "\n",
    "\n",
    "\n",
    "## Installation Instructions\n",
    "### To use PyCaret in a conda environment, follow these steps:\n",
    "\n",
    "```bash\n",
    "# Step 1: Create a new conda environment\n",
    "conda create --name pycaret_env python=3.9 -y\n",
    "\n",
    "# Step 2: Activate the environment\n",
    "conda activate pycaret_env\n",
    "\n",
    "# Step 3: Install pycaret and other required libraries\n",
    "pip install pycaret pandas numpy matplotlib seaborn ipykernel mlflow shap\n",
    "```"
   ]
  },
  {
   "cell_type": "code",
   "execution_count": 51,
   "metadata": {},
   "outputs": [
    {
     "data": {
      "text/plain": [
       "'3.3.2'"
      ]
     },
     "execution_count": 51,
     "metadata": {},
     "output_type": "execute_result"
    }
   ],
   "source": [
    "# check installed version (must be >3.0)\n",
    "import pycaret\n",
    "pycaret.__version__"
   ]
  },
  {
   "cell_type": "markdown",
   "metadata": {},
   "source": [
    "## Let's start by importing the necessary libraries"
   ]
  },
  {
   "cell_type": "code",
   "execution_count": 52,
   "metadata": {},
   "outputs": [],
   "source": [
    "# Import required libraries\n",
    "import pandas as pd\n",
    "import numpy as np\n",
    "from pycaret.regression import *\n",
    "import matplotlib.pyplot as plt\n",
    "import seaborn as sns"
   ]
  },
  {
   "cell_type": "code",
   "execution_count": 53,
   "metadata": {},
   "outputs": [],
   "source": [
    "# Load a sample dataset\n",
    "# For demonstration, we'll use the 'tips' dataset from seaborn\n",
    "data = sns.load_dataset('tips')"
   ]
  },
  {
   "cell_type": "code",
   "execution_count": 54,
   "metadata": {},
   "outputs": [
    {
     "data": {
      "text/html": [
       "<div>\n",
       "<style scoped>\n",
       "    .dataframe tbody tr th:only-of-type {\n",
       "        vertical-align: middle;\n",
       "    }\n",
       "\n",
       "    .dataframe tbody tr th {\n",
       "        vertical-align: top;\n",
       "    }\n",
       "\n",
       "    .dataframe thead th {\n",
       "        text-align: right;\n",
       "    }\n",
       "</style>\n",
       "<table border=\"1\" class=\"dataframe\">\n",
       "  <thead>\n",
       "    <tr style=\"text-align: right;\">\n",
       "      <th></th>\n",
       "      <th>total_bill</th>\n",
       "      <th>tip</th>\n",
       "      <th>sex</th>\n",
       "      <th>smoker</th>\n",
       "      <th>day</th>\n",
       "      <th>time</th>\n",
       "      <th>size</th>\n",
       "    </tr>\n",
       "  </thead>\n",
       "  <tbody>\n",
       "    <tr>\n",
       "      <th>0</th>\n",
       "      <td>16.99</td>\n",
       "      <td>1.01</td>\n",
       "      <td>Female</td>\n",
       "      <td>No</td>\n",
       "      <td>Sun</td>\n",
       "      <td>Dinner</td>\n",
       "      <td>2</td>\n",
       "    </tr>\n",
       "    <tr>\n",
       "      <th>1</th>\n",
       "      <td>10.34</td>\n",
       "      <td>1.66</td>\n",
       "      <td>Male</td>\n",
       "      <td>No</td>\n",
       "      <td>Sun</td>\n",
       "      <td>Dinner</td>\n",
       "      <td>3</td>\n",
       "    </tr>\n",
       "    <tr>\n",
       "      <th>2</th>\n",
       "      <td>21.01</td>\n",
       "      <td>3.50</td>\n",
       "      <td>Male</td>\n",
       "      <td>No</td>\n",
       "      <td>Sun</td>\n",
       "      <td>Dinner</td>\n",
       "      <td>3</td>\n",
       "    </tr>\n",
       "    <tr>\n",
       "      <th>3</th>\n",
       "      <td>23.68</td>\n",
       "      <td>3.31</td>\n",
       "      <td>Male</td>\n",
       "      <td>No</td>\n",
       "      <td>Sun</td>\n",
       "      <td>Dinner</td>\n",
       "      <td>2</td>\n",
       "    </tr>\n",
       "    <tr>\n",
       "      <th>4</th>\n",
       "      <td>24.59</td>\n",
       "      <td>3.61</td>\n",
       "      <td>Female</td>\n",
       "      <td>No</td>\n",
       "      <td>Sun</td>\n",
       "      <td>Dinner</td>\n",
       "      <td>4</td>\n",
       "    </tr>\n",
       "  </tbody>\n",
       "</table>\n",
       "</div>"
      ],
      "text/plain": [
       "   total_bill   tip     sex smoker  day    time  size\n",
       "0       16.99  1.01  Female     No  Sun  Dinner     2\n",
       "1       10.34  1.66    Male     No  Sun  Dinner     3\n",
       "2       21.01  3.50    Male     No  Sun  Dinner     3\n",
       "3       23.68  3.31    Male     No  Sun  Dinner     2\n",
       "4       24.59  3.61  Female     No  Sun  Dinner     4"
      ]
     },
     "execution_count": 54,
     "metadata": {},
     "output_type": "execute_result"
    }
   ],
   "source": [
    "data.head()"
   ]
  },
  {
   "cell_type": "code",
   "execution_count": 55,
   "metadata": {},
   "outputs": [],
   "source": [
    "# Preprocessing: Encoding categorical variables\n",
    "data['sex'] = data['sex'].astype('category').cat.codes\n",
    "data['smoker'] = data['smoker'].astype('category').cat.codes\n",
    "data['day'] = data['day'].astype('category').cat.codes\n",
    "data['time'] = data['time'].astype('category').cat.codes"
   ]
  },
  {
   "cell_type": "code",
   "execution_count": 57,
   "metadata": {},
   "outputs": [
    {
     "data": {
      "text/html": [
       "<div>\n",
       "<style scoped>\n",
       "    .dataframe tbody tr th:only-of-type {\n",
       "        vertical-align: middle;\n",
       "    }\n",
       "\n",
       "    .dataframe tbody tr th {\n",
       "        vertical-align: top;\n",
       "    }\n",
       "\n",
       "    .dataframe thead th {\n",
       "        text-align: right;\n",
       "    }\n",
       "</style>\n",
       "<table border=\"1\" class=\"dataframe\">\n",
       "  <thead>\n",
       "    <tr style=\"text-align: right;\">\n",
       "      <th></th>\n",
       "      <th>total_bill</th>\n",
       "      <th>tip</th>\n",
       "      <th>sex</th>\n",
       "      <th>smoker</th>\n",
       "      <th>day</th>\n",
       "      <th>time</th>\n",
       "      <th>size</th>\n",
       "    </tr>\n",
       "  </thead>\n",
       "  <tbody>\n",
       "    <tr>\n",
       "      <th>0</th>\n",
       "      <td>16.99</td>\n",
       "      <td>1.01</td>\n",
       "      <td>1</td>\n",
       "      <td>1</td>\n",
       "      <td>3</td>\n",
       "      <td>1</td>\n",
       "      <td>2</td>\n",
       "    </tr>\n",
       "    <tr>\n",
       "      <th>1</th>\n",
       "      <td>10.34</td>\n",
       "      <td>1.66</td>\n",
       "      <td>0</td>\n",
       "      <td>1</td>\n",
       "      <td>3</td>\n",
       "      <td>1</td>\n",
       "      <td>3</td>\n",
       "    </tr>\n",
       "    <tr>\n",
       "      <th>2</th>\n",
       "      <td>21.01</td>\n",
       "      <td>3.50</td>\n",
       "      <td>0</td>\n",
       "      <td>1</td>\n",
       "      <td>3</td>\n",
       "      <td>1</td>\n",
       "      <td>3</td>\n",
       "    </tr>\n",
       "    <tr>\n",
       "      <th>3</th>\n",
       "      <td>23.68</td>\n",
       "      <td>3.31</td>\n",
       "      <td>0</td>\n",
       "      <td>1</td>\n",
       "      <td>3</td>\n",
       "      <td>1</td>\n",
       "      <td>2</td>\n",
       "    </tr>\n",
       "    <tr>\n",
       "      <th>4</th>\n",
       "      <td>24.59</td>\n",
       "      <td>3.61</td>\n",
       "      <td>1</td>\n",
       "      <td>1</td>\n",
       "      <td>3</td>\n",
       "      <td>1</td>\n",
       "      <td>4</td>\n",
       "    </tr>\n",
       "  </tbody>\n",
       "</table>\n",
       "</div>"
      ],
      "text/plain": [
       "   total_bill   tip  sex  smoker  day  time  size\n",
       "0       16.99  1.01    1       1    3     1     2\n",
       "1       10.34  1.66    0       1    3     1     3\n",
       "2       21.01  3.50    0       1    3     1     3\n",
       "3       23.68  3.31    0       1    3     1     2\n",
       "4       24.59  3.61    1       1    3     1     4"
      ]
     },
     "execution_count": 57,
     "metadata": {},
     "output_type": "execute_result"
    }
   ],
   "source": [
    "data.head()"
   ]
  },
  {
   "cell_type": "code",
   "execution_count": 58,
   "metadata": {},
   "outputs": [],
   "source": [
    "# Split the data into training and test sets\n",
    "from sklearn.model_selection import train_test_split\n",
    "train, test = train_test_split(data, test_size=0.2, random_state=42)"
   ]
  },
  {
   "cell_type": "code",
   "execution_count": 59,
   "metadata": {},
   "outputs": [],
   "source": [
    "# Initialize the PyCaret regression setup without experiment logging\n",
    "regression_setup = setup(\n",
    "    data=train,\n",
    "    target='tip',\n",
    "    session_id=123,\n",
    "    normalize=True,\n",
    "    polynomial_features=True,\n",
    "    remove_multicollinearity=True,\n",
    "    log_experiment=False,  # Disable experiment logging\n",
    "    experiment_name='tips_regression',\n",
    "    verbose=False  # Suppress logs\n",
    ")"
   ]
  },
  {
   "cell_type": "code",
   "execution_count": 61,
   "metadata": {},
   "outputs": [
    {
     "data": {
      "text/html": [
       "<div>\n",
       "<style scoped>\n",
       "    .dataframe tbody tr th:only-of-type {\n",
       "        vertical-align: middle;\n",
       "    }\n",
       "\n",
       "    .dataframe tbody tr th {\n",
       "        vertical-align: top;\n",
       "    }\n",
       "\n",
       "    .dataframe thead th {\n",
       "        text-align: right;\n",
       "    }\n",
       "</style>\n",
       "<table border=\"1\" class=\"dataframe\">\n",
       "  <thead>\n",
       "    <tr style=\"text-align: right;\">\n",
       "      <th></th>\n",
       "      <th>Name</th>\n",
       "      <th>Reference</th>\n",
       "      <th>Turbo</th>\n",
       "    </tr>\n",
       "    <tr>\n",
       "      <th>ID</th>\n",
       "      <th></th>\n",
       "      <th></th>\n",
       "      <th></th>\n",
       "    </tr>\n",
       "  </thead>\n",
       "  <tbody>\n",
       "    <tr>\n",
       "      <th>lr</th>\n",
       "      <td>Linear Regression</td>\n",
       "      <td>sklearn.linear_model._base.LinearRegression</td>\n",
       "      <td>True</td>\n",
       "    </tr>\n",
       "    <tr>\n",
       "      <th>lasso</th>\n",
       "      <td>Lasso Regression</td>\n",
       "      <td>sklearn.linear_model._coordinate_descent.Lasso</td>\n",
       "      <td>True</td>\n",
       "    </tr>\n",
       "    <tr>\n",
       "      <th>ridge</th>\n",
       "      <td>Ridge Regression</td>\n",
       "      <td>sklearn.linear_model._ridge.Ridge</td>\n",
       "      <td>True</td>\n",
       "    </tr>\n",
       "    <tr>\n",
       "      <th>en</th>\n",
       "      <td>Elastic Net</td>\n",
       "      <td>sklearn.linear_model._coordinate_descent.Elast...</td>\n",
       "      <td>True</td>\n",
       "    </tr>\n",
       "    <tr>\n",
       "      <th>lar</th>\n",
       "      <td>Least Angle Regression</td>\n",
       "      <td>sklearn.linear_model._least_angle.Lars</td>\n",
       "      <td>True</td>\n",
       "    </tr>\n",
       "    <tr>\n",
       "      <th>llar</th>\n",
       "      <td>Lasso Least Angle Regression</td>\n",
       "      <td>sklearn.linear_model._least_angle.LassoLars</td>\n",
       "      <td>True</td>\n",
       "    </tr>\n",
       "    <tr>\n",
       "      <th>omp</th>\n",
       "      <td>Orthogonal Matching Pursuit</td>\n",
       "      <td>sklearn.linear_model._omp.OrthogonalMatchingPu...</td>\n",
       "      <td>True</td>\n",
       "    </tr>\n",
       "    <tr>\n",
       "      <th>br</th>\n",
       "      <td>Bayesian Ridge</td>\n",
       "      <td>sklearn.linear_model._bayes.BayesianRidge</td>\n",
       "      <td>True</td>\n",
       "    </tr>\n",
       "    <tr>\n",
       "      <th>ard</th>\n",
       "      <td>Automatic Relevance Determination</td>\n",
       "      <td>sklearn.linear_model._bayes.ARDRegression</td>\n",
       "      <td>False</td>\n",
       "    </tr>\n",
       "    <tr>\n",
       "      <th>par</th>\n",
       "      <td>Passive Aggressive Regressor</td>\n",
       "      <td>sklearn.linear_model._passive_aggressive.Passi...</td>\n",
       "      <td>True</td>\n",
       "    </tr>\n",
       "    <tr>\n",
       "      <th>ransac</th>\n",
       "      <td>Random Sample Consensus</td>\n",
       "      <td>sklearn.linear_model._ransac.RANSACRegressor</td>\n",
       "      <td>False</td>\n",
       "    </tr>\n",
       "    <tr>\n",
       "      <th>tr</th>\n",
       "      <td>TheilSen Regressor</td>\n",
       "      <td>sklearn.linear_model._theil_sen.TheilSenRegressor</td>\n",
       "      <td>False</td>\n",
       "    </tr>\n",
       "    <tr>\n",
       "      <th>huber</th>\n",
       "      <td>Huber Regressor</td>\n",
       "      <td>sklearn.linear_model._huber.HuberRegressor</td>\n",
       "      <td>True</td>\n",
       "    </tr>\n",
       "    <tr>\n",
       "      <th>kr</th>\n",
       "      <td>Kernel Ridge</td>\n",
       "      <td>sklearn.kernel_ridge.KernelRidge</td>\n",
       "      <td>False</td>\n",
       "    </tr>\n",
       "    <tr>\n",
       "      <th>svm</th>\n",
       "      <td>Support Vector Regression</td>\n",
       "      <td>sklearn.svm._classes.SVR</td>\n",
       "      <td>False</td>\n",
       "    </tr>\n",
       "    <tr>\n",
       "      <th>knn</th>\n",
       "      <td>K Neighbors Regressor</td>\n",
       "      <td>sklearn.neighbors._regression.KNeighborsRegressor</td>\n",
       "      <td>True</td>\n",
       "    </tr>\n",
       "    <tr>\n",
       "      <th>dt</th>\n",
       "      <td>Decision Tree Regressor</td>\n",
       "      <td>sklearn.tree._classes.DecisionTreeRegressor</td>\n",
       "      <td>True</td>\n",
       "    </tr>\n",
       "    <tr>\n",
       "      <th>rf</th>\n",
       "      <td>Random Forest Regressor</td>\n",
       "      <td>sklearn.ensemble._forest.RandomForestRegressor</td>\n",
       "      <td>True</td>\n",
       "    </tr>\n",
       "    <tr>\n",
       "      <th>et</th>\n",
       "      <td>Extra Trees Regressor</td>\n",
       "      <td>sklearn.ensemble._forest.ExtraTreesRegressor</td>\n",
       "      <td>True</td>\n",
       "    </tr>\n",
       "    <tr>\n",
       "      <th>ada</th>\n",
       "      <td>AdaBoost Regressor</td>\n",
       "      <td>sklearn.ensemble._weight_boosting.AdaBoostRegr...</td>\n",
       "      <td>True</td>\n",
       "    </tr>\n",
       "    <tr>\n",
       "      <th>gbr</th>\n",
       "      <td>Gradient Boosting Regressor</td>\n",
       "      <td>sklearn.ensemble._gb.GradientBoostingRegressor</td>\n",
       "      <td>True</td>\n",
       "    </tr>\n",
       "    <tr>\n",
       "      <th>mlp</th>\n",
       "      <td>MLP Regressor</td>\n",
       "      <td>sklearn.neural_network._multilayer_perceptron....</td>\n",
       "      <td>False</td>\n",
       "    </tr>\n",
       "    <tr>\n",
       "      <th>lightgbm</th>\n",
       "      <td>Light Gradient Boosting Machine</td>\n",
       "      <td>lightgbm.sklearn.LGBMRegressor</td>\n",
       "      <td>True</td>\n",
       "    </tr>\n",
       "    <tr>\n",
       "      <th>dummy</th>\n",
       "      <td>Dummy Regressor</td>\n",
       "      <td>sklearn.dummy.DummyRegressor</td>\n",
       "      <td>True</td>\n",
       "    </tr>\n",
       "  </tbody>\n",
       "</table>\n",
       "</div>"
      ],
      "text/plain": [
       "                                       Name  \\\n",
       "ID                                            \n",
       "lr                        Linear Regression   \n",
       "lasso                      Lasso Regression   \n",
       "ridge                      Ridge Regression   \n",
       "en                              Elastic Net   \n",
       "lar                  Least Angle Regression   \n",
       "llar           Lasso Least Angle Regression   \n",
       "omp             Orthogonal Matching Pursuit   \n",
       "br                           Bayesian Ridge   \n",
       "ard       Automatic Relevance Determination   \n",
       "par            Passive Aggressive Regressor   \n",
       "ransac              Random Sample Consensus   \n",
       "tr                       TheilSen Regressor   \n",
       "huber                       Huber Regressor   \n",
       "kr                             Kernel Ridge   \n",
       "svm               Support Vector Regression   \n",
       "knn                   K Neighbors Regressor   \n",
       "dt                  Decision Tree Regressor   \n",
       "rf                  Random Forest Regressor   \n",
       "et                    Extra Trees Regressor   \n",
       "ada                      AdaBoost Regressor   \n",
       "gbr             Gradient Boosting Regressor   \n",
       "mlp                           MLP Regressor   \n",
       "lightgbm    Light Gradient Boosting Machine   \n",
       "dummy                       Dummy Regressor   \n",
       "\n",
       "                                                  Reference  Turbo  \n",
       "ID                                                                  \n",
       "lr              sklearn.linear_model._base.LinearRegression   True  \n",
       "lasso        sklearn.linear_model._coordinate_descent.Lasso   True  \n",
       "ridge                     sklearn.linear_model._ridge.Ridge   True  \n",
       "en        sklearn.linear_model._coordinate_descent.Elast...   True  \n",
       "lar                  sklearn.linear_model._least_angle.Lars   True  \n",
       "llar            sklearn.linear_model._least_angle.LassoLars   True  \n",
       "omp       sklearn.linear_model._omp.OrthogonalMatchingPu...   True  \n",
       "br                sklearn.linear_model._bayes.BayesianRidge   True  \n",
       "ard               sklearn.linear_model._bayes.ARDRegression  False  \n",
       "par       sklearn.linear_model._passive_aggressive.Passi...   True  \n",
       "ransac         sklearn.linear_model._ransac.RANSACRegressor  False  \n",
       "tr        sklearn.linear_model._theil_sen.TheilSenRegressor  False  \n",
       "huber            sklearn.linear_model._huber.HuberRegressor   True  \n",
       "kr                         sklearn.kernel_ridge.KernelRidge  False  \n",
       "svm                                sklearn.svm._classes.SVR  False  \n",
       "knn       sklearn.neighbors._regression.KNeighborsRegressor   True  \n",
       "dt              sklearn.tree._classes.DecisionTreeRegressor   True  \n",
       "rf           sklearn.ensemble._forest.RandomForestRegressor   True  \n",
       "et             sklearn.ensemble._forest.ExtraTreesRegressor   True  \n",
       "ada       sklearn.ensemble._weight_boosting.AdaBoostRegr...   True  \n",
       "gbr          sklearn.ensemble._gb.GradientBoostingRegressor   True  \n",
       "mlp       sklearn.neural_network._multilayer_perceptron....  False  \n",
       "lightgbm                     lightgbm.sklearn.LGBMRegressor   True  \n",
       "dummy                          sklearn.dummy.DummyRegressor   True  "
      ]
     },
     "execution_count": 61,
     "metadata": {},
     "output_type": "execute_result"
    }
   ],
   "source": [
    "models()"
   ]
  },
  {
   "cell_type": "code",
   "execution_count": 63,
   "metadata": {},
   "outputs": [
    {
     "data": {
      "text/html": [
       "<div>\n",
       "<style scoped>\n",
       "    .dataframe tbody tr th:only-of-type {\n",
       "        vertical-align: middle;\n",
       "    }\n",
       "\n",
       "    .dataframe tbody tr th {\n",
       "        vertical-align: top;\n",
       "    }\n",
       "\n",
       "    .dataframe thead th {\n",
       "        text-align: right;\n",
       "    }\n",
       "</style>\n",
       "<table border=\"1\" class=\"dataframe\">\n",
       "  <thead>\n",
       "    <tr style=\"text-align: right;\">\n",
       "      <th></th>\n",
       "      <th></th>\n",
       "      <th></th>\n",
       "    </tr>\n",
       "    <tr>\n",
       "      <th></th>\n",
       "      <th></th>\n",
       "      <th></th>\n",
       "    </tr>\n",
       "  </thead>\n",
       "  <tbody>\n",
       "    <tr>\n",
       "      <th>Initiated</th>\n",
       "      <td>. . . . . . . . . . . . . . . . . .</td>\n",
       "      <td>13:18:55</td>\n",
       "    </tr>\n",
       "    <tr>\n",
       "      <th>Status</th>\n",
       "      <td>. . . . . . . . . . . . . . . . . .</td>\n",
       "      <td>Loading Dependencies</td>\n",
       "    </tr>\n",
       "    <tr>\n",
       "      <th>Estimator</th>\n",
       "      <td>. . . . . . . . . . . . . . . . . .</td>\n",
       "      <td>Compiling Library</td>\n",
       "    </tr>\n",
       "  </tbody>\n",
       "</table>\n",
       "</div>"
      ],
      "text/plain": [
       "                                                                    \n",
       "                                                                    \n",
       "Initiated  . . . . . . . . . . . . . . . . . .              13:18:55\n",
       "Status     . . . . . . . . . . . . . . . . . .  Loading Dependencies\n",
       "Estimator  . . . . . . . . . . . . . . . . . .     Compiling Library"
      ]
     },
     "metadata": {},
     "output_type": "display_data"
    },
    {
     "data": {
      "text/html": [
       "<style type=\"text/css\">\n",
       "#T_d878e th {\n",
       "  text-align: left;\n",
       "}\n",
       "#T_d878e_row0_col0, #T_d878e_row0_col2, #T_d878e_row0_col3, #T_d878e_row0_col6, #T_d878e_row1_col0, #T_d878e_row1_col1, #T_d878e_row1_col4, #T_d878e_row1_col5, #T_d878e_row1_col6, #T_d878e_row2_col0, #T_d878e_row2_col1, #T_d878e_row2_col2, #T_d878e_row2_col3, #T_d878e_row2_col4, #T_d878e_row2_col5, #T_d878e_row2_col6, #T_d878e_row3_col0, #T_d878e_row3_col1, #T_d878e_row3_col2, #T_d878e_row3_col3, #T_d878e_row3_col4, #T_d878e_row3_col5, #T_d878e_row3_col6, #T_d878e_row4_col0, #T_d878e_row4_col1, #T_d878e_row4_col2, #T_d878e_row4_col3, #T_d878e_row4_col4, #T_d878e_row4_col5, #T_d878e_row5_col0, #T_d878e_row5_col1, #T_d878e_row5_col2, #T_d878e_row5_col3, #T_d878e_row5_col4, #T_d878e_row5_col5, #T_d878e_row5_col6, #T_d878e_row6_col0, #T_d878e_row6_col1, #T_d878e_row6_col2, #T_d878e_row6_col3, #T_d878e_row6_col4, #T_d878e_row6_col5, #T_d878e_row6_col6, #T_d878e_row7_col0, #T_d878e_row7_col1, #T_d878e_row7_col2, #T_d878e_row7_col3, #T_d878e_row7_col4, #T_d878e_row7_col5, #T_d878e_row7_col6, #T_d878e_row8_col0, #T_d878e_row8_col1, #T_d878e_row8_col2, #T_d878e_row8_col3, #T_d878e_row8_col4, #T_d878e_row8_col5, #T_d878e_row8_col6, #T_d878e_row9_col0, #T_d878e_row9_col1, #T_d878e_row9_col2, #T_d878e_row9_col3, #T_d878e_row9_col4, #T_d878e_row9_col5, #T_d878e_row9_col6, #T_d878e_row10_col0, #T_d878e_row10_col1, #T_d878e_row10_col2, #T_d878e_row10_col3, #T_d878e_row10_col4, #T_d878e_row10_col5, #T_d878e_row10_col6, #T_d878e_row11_col0, #T_d878e_row11_col1, #T_d878e_row11_col2, #T_d878e_row11_col3, #T_d878e_row11_col4, #T_d878e_row11_col5, #T_d878e_row11_col6, #T_d878e_row12_col0, #T_d878e_row12_col1, #T_d878e_row12_col2, #T_d878e_row12_col3, #T_d878e_row12_col4, #T_d878e_row12_col5, #T_d878e_row12_col6, #T_d878e_row13_col0, #T_d878e_row13_col1, #T_d878e_row13_col2, #T_d878e_row13_col3, #T_d878e_row13_col4, #T_d878e_row13_col5, #T_d878e_row13_col6, #T_d878e_row14_col0, #T_d878e_row14_col1, #T_d878e_row14_col2, #T_d878e_row14_col3, #T_d878e_row14_col4, #T_d878e_row14_col5, #T_d878e_row14_col6, #T_d878e_row15_col0, #T_d878e_row15_col1, #T_d878e_row15_col2, #T_d878e_row15_col3, #T_d878e_row15_col4, #T_d878e_row15_col5, #T_d878e_row15_col6, #T_d878e_row16_col0, #T_d878e_row16_col1, #T_d878e_row16_col2, #T_d878e_row16_col3, #T_d878e_row16_col4, #T_d878e_row16_col5, #T_d878e_row16_col6, #T_d878e_row17_col0, #T_d878e_row17_col1, #T_d878e_row17_col2, #T_d878e_row17_col3, #T_d878e_row17_col4, #T_d878e_row17_col5, #T_d878e_row17_col6 {\n",
       "  text-align: left;\n",
       "}\n",
       "#T_d878e_row0_col1, #T_d878e_row0_col4, #T_d878e_row0_col5, #T_d878e_row1_col2, #T_d878e_row1_col3, #T_d878e_row4_col6 {\n",
       "  text-align: left;\n",
       "  background-color: yellow;\n",
       "}\n",
       "#T_d878e_row0_col7, #T_d878e_row1_col7, #T_d878e_row2_col7, #T_d878e_row4_col7, #T_d878e_row5_col7, #T_d878e_row6_col7, #T_d878e_row7_col7, #T_d878e_row8_col7, #T_d878e_row9_col7, #T_d878e_row10_col7, #T_d878e_row12_col7, #T_d878e_row13_col7, #T_d878e_row15_col7, #T_d878e_row16_col7, #T_d878e_row17_col7 {\n",
       "  text-align: left;\n",
       "  background-color: lightgrey;\n",
       "}\n",
       "#T_d878e_row3_col7, #T_d878e_row11_col7, #T_d878e_row14_col7 {\n",
       "  text-align: left;\n",
       "  background-color: yellow;\n",
       "  background-color: lightgrey;\n",
       "}\n",
       "</style>\n",
       "<table id=\"T_d878e\">\n",
       "  <thead>\n",
       "    <tr>\n",
       "      <th class=\"blank level0\" >&nbsp;</th>\n",
       "      <th id=\"T_d878e_level0_col0\" class=\"col_heading level0 col0\" >Model</th>\n",
       "      <th id=\"T_d878e_level0_col1\" class=\"col_heading level0 col1\" >MAE</th>\n",
       "      <th id=\"T_d878e_level0_col2\" class=\"col_heading level0 col2\" >MSE</th>\n",
       "      <th id=\"T_d878e_level0_col3\" class=\"col_heading level0 col3\" >RMSE</th>\n",
       "      <th id=\"T_d878e_level0_col4\" class=\"col_heading level0 col4\" >R2</th>\n",
       "      <th id=\"T_d878e_level0_col5\" class=\"col_heading level0 col5\" >RMSLE</th>\n",
       "      <th id=\"T_d878e_level0_col6\" class=\"col_heading level0 col6\" >MAPE</th>\n",
       "      <th id=\"T_d878e_level0_col7\" class=\"col_heading level0 col7\" >TT (Sec)</th>\n",
       "    </tr>\n",
       "  </thead>\n",
       "  <tbody>\n",
       "    <tr>\n",
       "      <th id=\"T_d878e_level0_row0\" class=\"row_heading level0 row0\" >br</th>\n",
       "      <td id=\"T_d878e_row0_col0\" class=\"data row0 col0\" >Bayesian Ridge</td>\n",
       "      <td id=\"T_d878e_row0_col1\" class=\"data row0 col1\" >0.7737</td>\n",
       "      <td id=\"T_d878e_row0_col2\" class=\"data row0 col2\" >1.0485</td>\n",
       "      <td id=\"T_d878e_row0_col3\" class=\"data row0 col3\" >1.0003</td>\n",
       "      <td id=\"T_d878e_row0_col4\" class=\"data row0 col4\" >0.4007</td>\n",
       "      <td id=\"T_d878e_row0_col5\" class=\"data row0 col5\" >0.2402</td>\n",
       "      <td id=\"T_d878e_row0_col6\" class=\"data row0 col6\" >0.2948</td>\n",
       "      <td id=\"T_d878e_row0_col7\" class=\"data row0 col7\" >0.0190</td>\n",
       "    </tr>\n",
       "    <tr>\n",
       "      <th id=\"T_d878e_level0_row1\" class=\"row_heading level0 row1\" >ridge</th>\n",
       "      <td id=\"T_d878e_row1_col0\" class=\"data row1 col0\" >Ridge Regression</td>\n",
       "      <td id=\"T_d878e_row1_col1\" class=\"data row1 col1\" >0.7765</td>\n",
       "      <td id=\"T_d878e_row1_col2\" class=\"data row1 col2\" >1.0340</td>\n",
       "      <td id=\"T_d878e_row1_col3\" class=\"data row1 col3\" >0.9920</td>\n",
       "      <td id=\"T_d878e_row1_col4\" class=\"data row1 col4\" >0.3991</td>\n",
       "      <td id=\"T_d878e_row1_col5\" class=\"data row1 col5\" >0.2429</td>\n",
       "      <td id=\"T_d878e_row1_col6\" class=\"data row1 col6\" >0.2957</td>\n",
       "      <td id=\"T_d878e_row1_col7\" class=\"data row1 col7\" >0.0200</td>\n",
       "    </tr>\n",
       "    <tr>\n",
       "      <th id=\"T_d878e_level0_row2\" class=\"row_heading level0 row2\" >lr</th>\n",
       "      <td id=\"T_d878e_row2_col0\" class=\"data row2 col0\" >Linear Regression</td>\n",
       "      <td id=\"T_d878e_row2_col1\" class=\"data row2 col1\" >0.7846</td>\n",
       "      <td id=\"T_d878e_row2_col2\" class=\"data row2 col2\" >1.0503</td>\n",
       "      <td id=\"T_d878e_row2_col3\" class=\"data row2 col3\" >0.9997</td>\n",
       "      <td id=\"T_d878e_row2_col4\" class=\"data row2 col4\" >0.3874</td>\n",
       "      <td id=\"T_d878e_row2_col5\" class=\"data row2 col5\" >0.2467</td>\n",
       "      <td id=\"T_d878e_row2_col6\" class=\"data row2 col6\" >0.2998</td>\n",
       "      <td id=\"T_d878e_row2_col7\" class=\"data row2 col7\" >0.0280</td>\n",
       "    </tr>\n",
       "    <tr>\n",
       "      <th id=\"T_d878e_level0_row3\" class=\"row_heading level0 row3\" >omp</th>\n",
       "      <td id=\"T_d878e_row3_col0\" class=\"data row3 col0\" >Orthogonal Matching Pursuit</td>\n",
       "      <td id=\"T_d878e_row3_col1\" class=\"data row3 col1\" >0.8021</td>\n",
       "      <td id=\"T_d878e_row3_col2\" class=\"data row3 col2\" >1.1253</td>\n",
       "      <td id=\"T_d878e_row3_col3\" class=\"data row3 col3\" >1.0340</td>\n",
       "      <td id=\"T_d878e_row3_col4\" class=\"data row3 col4\" >0.3784</td>\n",
       "      <td id=\"T_d878e_row3_col5\" class=\"data row3 col5\" >0.2461</td>\n",
       "      <td id=\"T_d878e_row3_col6\" class=\"data row3 col6\" >0.3077</td>\n",
       "      <td id=\"T_d878e_row3_col7\" class=\"data row3 col7\" >0.0180</td>\n",
       "    </tr>\n",
       "    <tr>\n",
       "      <th id=\"T_d878e_level0_row4\" class=\"row_heading level0 row4\" >huber</th>\n",
       "      <td id=\"T_d878e_row4_col0\" class=\"data row4 col0\" >Huber Regressor</td>\n",
       "      <td id=\"T_d878e_row4_col1\" class=\"data row4 col1\" >0.7799</td>\n",
       "      <td id=\"T_d878e_row4_col2\" class=\"data row4 col2\" >1.0790</td>\n",
       "      <td id=\"T_d878e_row4_col3\" class=\"data row4 col3\" >1.0048</td>\n",
       "      <td id=\"T_d878e_row4_col4\" class=\"data row4 col4\" >0.3777</td>\n",
       "      <td id=\"T_d878e_row4_col5\" class=\"data row4 col5\" >0.2442</td>\n",
       "      <td id=\"T_d878e_row4_col6\" class=\"data row4 col6\" >0.2883</td>\n",
       "      <td id=\"T_d878e_row4_col7\" class=\"data row4 col7\" >0.0320</td>\n",
       "    </tr>\n",
       "    <tr>\n",
       "      <th id=\"T_d878e_level0_row5\" class=\"row_heading level0 row5\" >lightgbm</th>\n",
       "      <td id=\"T_d878e_row5_col0\" class=\"data row5 col0\" >Light Gradient Boosting Machine</td>\n",
       "      <td id=\"T_d878e_row5_col1\" class=\"data row5 col1\" >0.7921</td>\n",
       "      <td id=\"T_d878e_row5_col2\" class=\"data row5 col2\" >1.1320</td>\n",
       "      <td id=\"T_d878e_row5_col3\" class=\"data row5 col3\" >1.0301</td>\n",
       "      <td id=\"T_d878e_row5_col4\" class=\"data row5 col4\" >0.3627</td>\n",
       "      <td id=\"T_d878e_row5_col5\" class=\"data row5 col5\" >0.2453</td>\n",
       "      <td id=\"T_d878e_row5_col6\" class=\"data row5 col6\" >0.2998</td>\n",
       "      <td id=\"T_d878e_row5_col7\" class=\"data row5 col7\" >0.0560</td>\n",
       "    </tr>\n",
       "    <tr>\n",
       "      <th id=\"T_d878e_level0_row6\" class=\"row_heading level0 row6\" >knn</th>\n",
       "      <td id=\"T_d878e_row6_col0\" class=\"data row6 col0\" >K Neighbors Regressor</td>\n",
       "      <td id=\"T_d878e_row6_col1\" class=\"data row6 col1\" >0.8152</td>\n",
       "      <td id=\"T_d878e_row6_col2\" class=\"data row6 col2\" >1.1485</td>\n",
       "      <td id=\"T_d878e_row6_col3\" class=\"data row6 col3\" >1.0585</td>\n",
       "      <td id=\"T_d878e_row6_col4\" class=\"data row6 col4\" >0.3340</td>\n",
       "      <td id=\"T_d878e_row6_col5\" class=\"data row6 col5\" >0.2599</td>\n",
       "      <td id=\"T_d878e_row6_col6\" class=\"data row6 col6\" >0.3118</td>\n",
       "      <td id=\"T_d878e_row6_col7\" class=\"data row6 col7\" >0.0240</td>\n",
       "    </tr>\n",
       "    <tr>\n",
       "      <th id=\"T_d878e_level0_row7\" class=\"row_heading level0 row7\" >rf</th>\n",
       "      <td id=\"T_d878e_row7_col0\" class=\"data row7 col0\" >Random Forest Regressor</td>\n",
       "      <td id=\"T_d878e_row7_col1\" class=\"data row7 col1\" >0.8248</td>\n",
       "      <td id=\"T_d878e_row7_col2\" class=\"data row7 col2\" >1.2082</td>\n",
       "      <td id=\"T_d878e_row7_col3\" class=\"data row7 col3\" >1.0746</td>\n",
       "      <td id=\"T_d878e_row7_col4\" class=\"data row7 col4\" >0.3204</td>\n",
       "      <td id=\"T_d878e_row7_col5\" class=\"data row7 col5\" >0.2599</td>\n",
       "      <td id=\"T_d878e_row7_col6\" class=\"data row7 col6\" >0.3181</td>\n",
       "      <td id=\"T_d878e_row7_col7\" class=\"data row7 col7\" >0.0840</td>\n",
       "    </tr>\n",
       "    <tr>\n",
       "      <th id=\"T_d878e_level0_row8\" class=\"row_heading level0 row8\" >ada</th>\n",
       "      <td id=\"T_d878e_row8_col0\" class=\"data row8 col0\" >AdaBoost Regressor</td>\n",
       "      <td id=\"T_d878e_row8_col1\" class=\"data row8 col1\" >0.8338</td>\n",
       "      <td id=\"T_d878e_row8_col2\" class=\"data row8 col2\" >1.1792</td>\n",
       "      <td id=\"T_d878e_row8_col3\" class=\"data row8 col3\" >1.0723</td>\n",
       "      <td id=\"T_d878e_row8_col4\" class=\"data row8 col4\" >0.3069</td>\n",
       "      <td id=\"T_d878e_row8_col5\" class=\"data row8 col5\" >0.2569</td>\n",
       "      <td id=\"T_d878e_row8_col6\" class=\"data row8 col6\" >0.3289</td>\n",
       "      <td id=\"T_d878e_row8_col7\" class=\"data row8 col7\" >0.0430</td>\n",
       "    </tr>\n",
       "    <tr>\n",
       "      <th id=\"T_d878e_level0_row9\" class=\"row_heading level0 row9\" >et</th>\n",
       "      <td id=\"T_d878e_row9_col0\" class=\"data row9 col0\" >Extra Trees Regressor</td>\n",
       "      <td id=\"T_d878e_row9_col1\" class=\"data row9 col1\" >0.8544</td>\n",
       "      <td id=\"T_d878e_row9_col2\" class=\"data row9 col2\" >1.2615</td>\n",
       "      <td id=\"T_d878e_row9_col3\" class=\"data row9 col3\" >1.0979</td>\n",
       "      <td id=\"T_d878e_row9_col4\" class=\"data row9 col4\" >0.2969</td>\n",
       "      <td id=\"T_d878e_row9_col5\" class=\"data row9 col5\" >0.2660</td>\n",
       "      <td id=\"T_d878e_row9_col6\" class=\"data row9 col6\" >0.3298</td>\n",
       "      <td id=\"T_d878e_row9_col7\" class=\"data row9 col7\" >0.0680</td>\n",
       "    </tr>\n",
       "    <tr>\n",
       "      <th id=\"T_d878e_level0_row10\" class=\"row_heading level0 row10\" >gbr</th>\n",
       "      <td id=\"T_d878e_row10_col0\" class=\"data row10 col0\" >Gradient Boosting Regressor</td>\n",
       "      <td id=\"T_d878e_row10_col1\" class=\"data row10 col1\" >0.8722</td>\n",
       "      <td id=\"T_d878e_row10_col2\" class=\"data row10 col2\" >1.4106</td>\n",
       "      <td id=\"T_d878e_row10_col3\" class=\"data row10 col3\" >1.1493</td>\n",
       "      <td id=\"T_d878e_row10_col4\" class=\"data row10 col4\" >0.2209</td>\n",
       "      <td id=\"T_d878e_row10_col5\" class=\"data row10 col5\" >0.2785</td>\n",
       "      <td id=\"T_d878e_row10_col6\" class=\"data row10 col6\" >0.3409</td>\n",
       "      <td id=\"T_d878e_row10_col7\" class=\"data row10 col7\" >0.0390</td>\n",
       "    </tr>\n",
       "    <tr>\n",
       "      <th id=\"T_d878e_level0_row11\" class=\"row_heading level0 row11\" >en</th>\n",
       "      <td id=\"T_d878e_row11_col0\" class=\"data row11 col0\" >Elastic Net</td>\n",
       "      <td id=\"T_d878e_row11_col1\" class=\"data row11 col1\" >0.9366</td>\n",
       "      <td id=\"T_d878e_row11_col2\" class=\"data row11 col2\" >1.4724</td>\n",
       "      <td id=\"T_d878e_row11_col3\" class=\"data row11 col3\" >1.1979</td>\n",
       "      <td id=\"T_d878e_row11_col4\" class=\"data row11 col4\" >0.2041</td>\n",
       "      <td id=\"T_d878e_row11_col5\" class=\"data row11 col5\" >0.2849</td>\n",
       "      <td id=\"T_d878e_row11_col6\" class=\"data row11 col6\" >0.3736</td>\n",
       "      <td id=\"T_d878e_row11_col7\" class=\"data row11 col7\" >0.0180</td>\n",
       "    </tr>\n",
       "    <tr>\n",
       "      <th id=\"T_d878e_level0_row12\" class=\"row_heading level0 row12\" >lasso</th>\n",
       "      <td id=\"T_d878e_row12_col0\" class=\"data row12 col0\" >Lasso Regression</td>\n",
       "      <td id=\"T_d878e_row12_col1\" class=\"data row12 col1\" >1.0737</td>\n",
       "      <td id=\"T_d878e_row12_col2\" class=\"data row12 col2\" >1.9956</td>\n",
       "      <td id=\"T_d878e_row12_col3\" class=\"data row12 col3\" >1.3942</td>\n",
       "      <td id=\"T_d878e_row12_col4\" class=\"data row12 col4\" >-0.0736</td>\n",
       "      <td id=\"T_d878e_row12_col5\" class=\"data row12 col5\" >0.3304</td>\n",
       "      <td id=\"T_d878e_row12_col6\" class=\"data row12 col6\" >0.4304</td>\n",
       "      <td id=\"T_d878e_row12_col7\" class=\"data row12 col7\" >0.0190</td>\n",
       "    </tr>\n",
       "    <tr>\n",
       "      <th id=\"T_d878e_level0_row13\" class=\"row_heading level0 row13\" >llar</th>\n",
       "      <td id=\"T_d878e_row13_col0\" class=\"data row13 col0\" >Lasso Least Angle Regression</td>\n",
       "      <td id=\"T_d878e_row13_col1\" class=\"data row13 col1\" >1.0737</td>\n",
       "      <td id=\"T_d878e_row13_col2\" class=\"data row13 col2\" >1.9956</td>\n",
       "      <td id=\"T_d878e_row13_col3\" class=\"data row13 col3\" >1.3942</td>\n",
       "      <td id=\"T_d878e_row13_col4\" class=\"data row13 col4\" >-0.0736</td>\n",
       "      <td id=\"T_d878e_row13_col5\" class=\"data row13 col5\" >0.3304</td>\n",
       "      <td id=\"T_d878e_row13_col6\" class=\"data row13 col6\" >0.4304</td>\n",
       "      <td id=\"T_d878e_row13_col7\" class=\"data row13 col7\" >0.0190</td>\n",
       "    </tr>\n",
       "    <tr>\n",
       "      <th id=\"T_d878e_level0_row14\" class=\"row_heading level0 row14\" >dummy</th>\n",
       "      <td id=\"T_d878e_row14_col0\" class=\"data row14 col0\" >Dummy Regressor</td>\n",
       "      <td id=\"T_d878e_row14_col1\" class=\"data row14 col1\" >1.0737</td>\n",
       "      <td id=\"T_d878e_row14_col2\" class=\"data row14 col2\" >1.9956</td>\n",
       "      <td id=\"T_d878e_row14_col3\" class=\"data row14 col3\" >1.3942</td>\n",
       "      <td id=\"T_d878e_row14_col4\" class=\"data row14 col4\" >-0.0736</td>\n",
       "      <td id=\"T_d878e_row14_col5\" class=\"data row14 col5\" >0.3304</td>\n",
       "      <td id=\"T_d878e_row14_col6\" class=\"data row14 col6\" >0.4304</td>\n",
       "      <td id=\"T_d878e_row14_col7\" class=\"data row14 col7\" >0.0180</td>\n",
       "    </tr>\n",
       "    <tr>\n",
       "      <th id=\"T_d878e_level0_row15\" class=\"row_heading level0 row15\" >dt</th>\n",
       "      <td id=\"T_d878e_row15_col0\" class=\"data row15 col0\" >Decision Tree Regressor</td>\n",
       "      <td id=\"T_d878e_row15_col1\" class=\"data row15 col1\" >1.0079</td>\n",
       "      <td id=\"T_d878e_row15_col2\" class=\"data row15 col2\" >1.8825</td>\n",
       "      <td id=\"T_d878e_row15_col3\" class=\"data row15 col3\" >1.3400</td>\n",
       "      <td id=\"T_d878e_row15_col4\" class=\"data row15 col4\" >-0.0952</td>\n",
       "      <td id=\"T_d878e_row15_col5\" class=\"data row15 col5\" >0.3207</td>\n",
       "      <td id=\"T_d878e_row15_col6\" class=\"data row15 col6\" >0.3738</td>\n",
       "      <td id=\"T_d878e_row15_col7\" class=\"data row15 col7\" >0.0190</td>\n",
       "    </tr>\n",
       "    <tr>\n",
       "      <th id=\"T_d878e_level0_row16\" class=\"row_heading level0 row16\" >par</th>\n",
       "      <td id=\"T_d878e_row16_col0\" class=\"data row16 col0\" >Passive Aggressive Regressor</td>\n",
       "      <td id=\"T_d878e_row16_col1\" class=\"data row16 col1\" >1.1211</td>\n",
       "      <td id=\"T_d878e_row16_col2\" class=\"data row16 col2\" >2.1032</td>\n",
       "      <td id=\"T_d878e_row16_col3\" class=\"data row16 col3\" >1.4154</td>\n",
       "      <td id=\"T_d878e_row16_col4\" class=\"data row16 col4\" >-0.2174</td>\n",
       "      <td id=\"T_d878e_row16_col5\" class=\"data row16 col5\" >0.3665</td>\n",
       "      <td id=\"T_d878e_row16_col6\" class=\"data row16 col6\" >0.4188</td>\n",
       "      <td id=\"T_d878e_row16_col7\" class=\"data row16 col7\" >0.0190</td>\n",
       "    </tr>\n",
       "    <tr>\n",
       "      <th id=\"T_d878e_level0_row17\" class=\"row_heading level0 row17\" >lar</th>\n",
       "      <td id=\"T_d878e_row17_col0\" class=\"data row17 col0\" >Least Angle Regression</td>\n",
       "      <td id=\"T_d878e_row17_col1\" class=\"data row17 col1\" >1.1015</td>\n",
       "      <td id=\"T_d878e_row17_col2\" class=\"data row17 col2\" >3.9802</td>\n",
       "      <td id=\"T_d878e_row17_col3\" class=\"data row17 col3\" >1.5318</td>\n",
       "      <td id=\"T_d878e_row17_col4\" class=\"data row17 col4\" >-1.3479</td>\n",
       "      <td id=\"T_d878e_row17_col5\" class=\"data row17 col5\" >0.3120</td>\n",
       "      <td id=\"T_d878e_row17_col6\" class=\"data row17 col6\" >0.3843</td>\n",
       "      <td id=\"T_d878e_row17_col7\" class=\"data row17 col7\" >0.0200</td>\n",
       "    </tr>\n",
       "  </tbody>\n",
       "</table>\n"
      ],
      "text/plain": [
       "<pandas.io.formats.style.Styler at 0x2025cf12f70>"
      ]
     },
     "metadata": {},
     "output_type": "display_data"
    },
    {
     "data": {
      "text/html": [],
      "text/plain": [
       "<IPython.core.display.HTML object>"
      ]
     },
     "metadata": {},
     "output_type": "display_data"
    }
   ],
   "source": [
    "# Compare models to find the best one\n",
    "best_model = compare_models()"
   ]
  },
  {
   "cell_type": "markdown",
   "metadata": {},
   "source": [
    "## Comparison will test 18 Regression models"
   ]
  },
  {
   "cell_type": "code",
   "execution_count": 64,
   "metadata": {},
   "outputs": [
    {
     "name": "stdout",
     "output_type": "stream",
     "text": [
      "BayesianRidge()\n"
     ]
    }
   ],
   "source": [
    "# Print the best model\n",
    "print(best_model)"
   ]
  },
  {
   "cell_type": "code",
   "execution_count": 68,
   "metadata": {},
   "outputs": [
    {
     "data": {
      "text/html": [],
      "text/plain": [
       "<IPython.core.display.HTML object>"
      ]
     },
     "metadata": {},
     "output_type": "display_data"
    },
    {
     "data": {
      "text/html": [
       "<style type=\"text/css\">\n",
       "#T_90534_row10_col0, #T_90534_row10_col1, #T_90534_row10_col2, #T_90534_row10_col3, #T_90534_row10_col4, #T_90534_row10_col5 {\n",
       "  background: yellow;\n",
       "}\n",
       "</style>\n",
       "<table id=\"T_90534\">\n",
       "  <thead>\n",
       "    <tr>\n",
       "      <th class=\"blank level0\" >&nbsp;</th>\n",
       "      <th id=\"T_90534_level0_col0\" class=\"col_heading level0 col0\" >MAE</th>\n",
       "      <th id=\"T_90534_level0_col1\" class=\"col_heading level0 col1\" >MSE</th>\n",
       "      <th id=\"T_90534_level0_col2\" class=\"col_heading level0 col2\" >RMSE</th>\n",
       "      <th id=\"T_90534_level0_col3\" class=\"col_heading level0 col3\" >R2</th>\n",
       "      <th id=\"T_90534_level0_col4\" class=\"col_heading level0 col4\" >RMSLE</th>\n",
       "      <th id=\"T_90534_level0_col5\" class=\"col_heading level0 col5\" >MAPE</th>\n",
       "    </tr>\n",
       "    <tr>\n",
       "      <th class=\"index_name level0\" >Fold</th>\n",
       "      <th class=\"blank col0\" >&nbsp;</th>\n",
       "      <th class=\"blank col1\" >&nbsp;</th>\n",
       "      <th class=\"blank col2\" >&nbsp;</th>\n",
       "      <th class=\"blank col3\" >&nbsp;</th>\n",
       "      <th class=\"blank col4\" >&nbsp;</th>\n",
       "      <th class=\"blank col5\" >&nbsp;</th>\n",
       "    </tr>\n",
       "  </thead>\n",
       "  <tbody>\n",
       "    <tr>\n",
       "      <th id=\"T_90534_level0_row0\" class=\"row_heading level0 row0\" >0</th>\n",
       "      <td id=\"T_90534_row0_col0\" class=\"data row0 col0\" >0.8682</td>\n",
       "      <td id=\"T_90534_row0_col1\" class=\"data row0 col1\" >1.1779</td>\n",
       "      <td id=\"T_90534_row0_col2\" class=\"data row0 col2\" >1.0853</td>\n",
       "      <td id=\"T_90534_row0_col3\" class=\"data row0 col3\" >0.1580</td>\n",
       "      <td id=\"T_90534_row0_col4\" class=\"data row0 col4\" >0.2753</td>\n",
       "      <td id=\"T_90534_row0_col5\" class=\"data row0 col5\" >0.3593</td>\n",
       "    </tr>\n",
       "    <tr>\n",
       "      <th id=\"T_90534_level0_row1\" class=\"row_heading level0 row1\" >1</th>\n",
       "      <td id=\"T_90534_row1_col0\" class=\"data row1 col0\" >1.0865</td>\n",
       "      <td id=\"T_90534_row1_col1\" class=\"data row1 col1\" >1.9881</td>\n",
       "      <td id=\"T_90534_row1_col2\" class=\"data row1 col2\" >1.4100</td>\n",
       "      <td id=\"T_90534_row1_col3\" class=\"data row1 col3\" >0.1977</td>\n",
       "      <td id=\"T_90534_row1_col4\" class=\"data row1 col4\" >0.2911</td>\n",
       "      <td id=\"T_90534_row1_col5\" class=\"data row1 col5\" >0.2889</td>\n",
       "    </tr>\n",
       "    <tr>\n",
       "      <th id=\"T_90534_level0_row2\" class=\"row_heading level0 row2\" >2</th>\n",
       "      <td id=\"T_90534_row2_col0\" class=\"data row2 col0\" >0.8878</td>\n",
       "      <td id=\"T_90534_row2_col1\" class=\"data row2 col1\" >1.0873</td>\n",
       "      <td id=\"T_90534_row2_col2\" class=\"data row2 col2\" >1.0428</td>\n",
       "      <td id=\"T_90534_row2_col3\" class=\"data row2 col3\" >0.2033</td>\n",
       "      <td id=\"T_90534_row2_col4\" class=\"data row2 col4\" >0.3102</td>\n",
       "      <td id=\"T_90534_row2_col5\" class=\"data row2 col5\" >0.4623</td>\n",
       "    </tr>\n",
       "    <tr>\n",
       "      <th id=\"T_90534_level0_row3\" class=\"row_heading level0 row3\" >3</th>\n",
       "      <td id=\"T_90534_row3_col0\" class=\"data row3 col0\" >0.8857</td>\n",
       "      <td id=\"T_90534_row3_col1\" class=\"data row3 col1\" >1.3700</td>\n",
       "      <td id=\"T_90534_row3_col2\" class=\"data row3 col2\" >1.1705</td>\n",
       "      <td id=\"T_90534_row3_col3\" class=\"data row3 col3\" >0.0863</td>\n",
       "      <td id=\"T_90534_row3_col4\" class=\"data row3 col4\" >0.2691</td>\n",
       "      <td id=\"T_90534_row3_col5\" class=\"data row3 col5\" >0.3100</td>\n",
       "    </tr>\n",
       "    <tr>\n",
       "      <th id=\"T_90534_level0_row4\" class=\"row_heading level0 row4\" >4</th>\n",
       "      <td id=\"T_90534_row4_col0\" class=\"data row4 col0\" >0.8113</td>\n",
       "      <td id=\"T_90534_row4_col1\" class=\"data row4 col1\" >1.0636</td>\n",
       "      <td id=\"T_90534_row4_col2\" class=\"data row4 col2\" >1.0313</td>\n",
       "      <td id=\"T_90534_row4_col3\" class=\"data row4 col3\" >0.2415</td>\n",
       "      <td id=\"T_90534_row4_col4\" class=\"data row4 col4\" >0.2792</td>\n",
       "      <td id=\"T_90534_row4_col5\" class=\"data row4 col5\" >0.3753</td>\n",
       "    </tr>\n",
       "    <tr>\n",
       "      <th id=\"T_90534_level0_row5\" class=\"row_heading level0 row5\" >5</th>\n",
       "      <td id=\"T_90534_row5_col0\" class=\"data row5 col0\" >0.6730</td>\n",
       "      <td id=\"T_90534_row5_col1\" class=\"data row5 col1\" >0.8827</td>\n",
       "      <td id=\"T_90534_row5_col2\" class=\"data row5 col2\" >0.9395</td>\n",
       "      <td id=\"T_90534_row5_col3\" class=\"data row5 col3\" >0.5933</td>\n",
       "      <td id=\"T_90534_row5_col4\" class=\"data row5 col4\" >0.2017</td>\n",
       "      <td id=\"T_90534_row5_col5\" class=\"data row5 col5\" >0.2391</td>\n",
       "    </tr>\n",
       "    <tr>\n",
       "      <th id=\"T_90534_level0_row6\" class=\"row_heading level0 row6\" >6</th>\n",
       "      <td id=\"T_90534_row6_col0\" class=\"data row6 col0\" >0.7520</td>\n",
       "      <td id=\"T_90534_row6_col1\" class=\"data row6 col1\" >0.9959</td>\n",
       "      <td id=\"T_90534_row6_col2\" class=\"data row6 col2\" >0.9980</td>\n",
       "      <td id=\"T_90534_row6_col3\" class=\"data row6 col3\" >0.4096</td>\n",
       "      <td id=\"T_90534_row6_col4\" class=\"data row6 col4\" >0.2215</td>\n",
       "      <td id=\"T_90534_row6_col5\" class=\"data row6 col5\" >0.2365</td>\n",
       "    </tr>\n",
       "    <tr>\n",
       "      <th id=\"T_90534_level0_row7\" class=\"row_heading level0 row7\" >7</th>\n",
       "      <td id=\"T_90534_row7_col0\" class=\"data row7 col0\" >0.5685</td>\n",
       "      <td id=\"T_90534_row7_col1\" class=\"data row7 col1\" >0.5572</td>\n",
       "      <td id=\"T_90534_row7_col2\" class=\"data row7 col2\" >0.7465</td>\n",
       "      <td id=\"T_90534_row7_col3\" class=\"data row7 col3\" >0.6049</td>\n",
       "      <td id=\"T_90534_row7_col4\" class=\"data row7 col4\" >0.2159</td>\n",
       "      <td id=\"T_90534_row7_col5\" class=\"data row7 col5\" >0.2792</td>\n",
       "    </tr>\n",
       "    <tr>\n",
       "      <th id=\"T_90534_level0_row8\" class=\"row_heading level0 row8\" >8</th>\n",
       "      <td id=\"T_90534_row8_col0\" class=\"data row8 col0\" >0.7221</td>\n",
       "      <td id=\"T_90534_row8_col1\" class=\"data row8 col1\" >0.9432</td>\n",
       "      <td id=\"T_90534_row8_col2\" class=\"data row8 col2\" >0.9712</td>\n",
       "      <td id=\"T_90534_row8_col3\" class=\"data row8 col3\" >0.7196</td>\n",
       "      <td id=\"T_90534_row8_col4\" class=\"data row8 col4\" >0.1850</td>\n",
       "      <td id=\"T_90534_row8_col5\" class=\"data row8 col5\" >0.1890</td>\n",
       "    </tr>\n",
       "    <tr>\n",
       "      <th id=\"T_90534_level0_row9\" class=\"row_heading level0 row9\" >9</th>\n",
       "      <td id=\"T_90534_row9_col0\" class=\"data row9 col0\" >0.4624</td>\n",
       "      <td id=\"T_90534_row9_col1\" class=\"data row9 col1\" >0.2891</td>\n",
       "      <td id=\"T_90534_row9_col2\" class=\"data row9 col2\" >0.5377</td>\n",
       "      <td id=\"T_90534_row9_col3\" class=\"data row9 col3\" >0.8338</td>\n",
       "      <td id=\"T_90534_row9_col4\" class=\"data row9 col4\" >0.1473</td>\n",
       "      <td id=\"T_90534_row9_col5\" class=\"data row9 col5\" >0.1950</td>\n",
       "    </tr>\n",
       "    <tr>\n",
       "      <th id=\"T_90534_level0_row10\" class=\"row_heading level0 row10\" >Mean</th>\n",
       "      <td id=\"T_90534_row10_col0\" class=\"data row10 col0\" >0.7718</td>\n",
       "      <td id=\"T_90534_row10_col1\" class=\"data row10 col1\" >1.0355</td>\n",
       "      <td id=\"T_90534_row10_col2\" class=\"data row10 col2\" >0.9933</td>\n",
       "      <td id=\"T_90534_row10_col3\" class=\"data row10 col3\" >0.4048</td>\n",
       "      <td id=\"T_90534_row10_col4\" class=\"data row10 col4\" >0.2396</td>\n",
       "      <td id=\"T_90534_row10_col5\" class=\"data row10 col5\" >0.2935</td>\n",
       "    </tr>\n",
       "    <tr>\n",
       "      <th id=\"T_90534_level0_row11\" class=\"row_heading level0 row11\" >Std</th>\n",
       "      <td id=\"T_90534_row11_col0\" class=\"data row11 col0\" >0.1691</td>\n",
       "      <td id=\"T_90534_row11_col1\" class=\"data row11 col1\" >0.4315</td>\n",
       "      <td id=\"T_90534_row11_col2\" class=\"data row11 col2\" >0.2212</td>\n",
       "      <td id=\"T_90534_row11_col3\" class=\"data row11 col3\" >0.2513</td>\n",
       "      <td id=\"T_90534_row11_col4\" class=\"data row11 col4\" >0.0502</td>\n",
       "      <td id=\"T_90534_row11_col5\" class=\"data row11 col5\" >0.0818</td>\n",
       "    </tr>\n",
       "  </tbody>\n",
       "</table>\n"
      ],
      "text/plain": [
       "<pandas.io.formats.style.Styler at 0x2025cf195e0>"
      ]
     },
     "metadata": {},
     "output_type": "display_data"
    },
    {
     "data": {
      "text/html": [],
      "text/plain": [
       "<IPython.core.display.HTML object>"
      ]
     },
     "metadata": {},
     "output_type": "display_data"
    },
    {
     "name": "stdout",
     "output_type": "stream",
     "text": [
      "Fitting 10 folds for each of 10 candidates, totalling 100 fits\n"
     ]
    }
   ],
   "source": [
    "# Tune the best model for better performance\n",
    "tuned_model = tune_model(best_model, \n",
    "                         optimize='MAE',  # Optimize for Mean Absolute Error\n",
    "                         )"
   ]
  },
  {
   "cell_type": "code",
   "execution_count": 69,
   "metadata": {},
   "outputs": [
    {
     "data": {
      "text/html": [],
      "text/plain": [
       "<IPython.core.display.HTML object>"
      ]
     },
     "metadata": {},
     "output_type": "display_data"
    },
    {
     "data": {
      "image/png": "[encoded data removed]",
      "text/plain": [
       "<Figure size 800x550 with 2 Axes>"
      ]
     },
     "metadata": {},
     "output_type": "display_data"
    },
    {
     "data": {
      "text/html": [],
      "text/plain": [
       "<IPython.core.display.HTML object>"
      ]
     },
     "metadata": {},
     "output_type": "display_data"
    },
    {
     "data": {
      "image/png": "[encoded data removed]",
      "text/plain": [
       "<Figure size 800x550 with 1 Axes>"
      ]
     },
     "metadata": {},
     "output_type": "display_data"
    },
    {
     "data": {
      "text/html": [],
      "text/plain": [
       "<IPython.core.display.HTML object>"
      ]
     },
     "metadata": {},
     "output_type": "display_data"
    },
    {
     "data": {
      "image/png": "[encoded data removed]",
      "text/plain": [
       "<Figure size 800x500 with 1 Axes>"
      ]
     },
     "metadata": {},
     "output_type": "display_data"
    },
    {
     "data": {
      "text/html": [],
      "text/plain": [
       "<IPython.core.display.HTML object>"
      ]
     },
     "metadata": {},
     "output_type": "display_data"
    },
    {
     "data": {
      "image/png": "[encoded data removed]",
      "text/plain": [
       "<Figure size 800x550 with 1 Axes>"
      ]
     },
     "metadata": {},
     "output_type": "display_data"
    }
   ],
   "source": [
    "# Evaluate the tuned model\n",
    "plot_model(tuned_model, plot='residuals')\n",
    "plot_model(tuned_model, plot='error')\n",
    "plot_model(tuned_model, plot='feature')\n",
    "plot_model(tuned_model, plot='cooks')"
   ]
  },
  {
   "cell_type": "markdown",
   "metadata": {},
   "source": [
    "## Cooks Distance:\n",
    "\n",
    "- Cook's distance is a measure that combines the influence of leverage and residual size. It is used to identify influential data points in a regression analysis. The Cook's distance is a measure of the influence of each individual observation on the regression coefficients. It is used to identify influential data points in a regression analysis. The Cook's distance is a measure of the influence of each individual observation on the regression coefficients."
   ]
  },
  {
   "cell_type": "code",
   "execution_count": 71,
   "metadata": {},
   "outputs": [
    {
     "data": {
      "application/vnd.jupyter.widget-view+json": {
       "model_id": "ef898b0f907547a38a49f60851560118",
       "version_major": 2,
       "version_minor": 0
      },
      "text/plain": [
       "interactive(children=(ToggleButtons(description='Plot Type:', icons=('',), options=(('Pipeline Plot', 'pipelin…"
      ]
     },
     "metadata": {},
     "output_type": "display_data"
    }
   ],
   "source": [
    "# evaluate model for better understanding using pycaret\n",
    "evaluate_model(tuned_model)"
   ]
  },
  {
   "cell_type": "code",
   "execution_count": 72,
   "metadata": {},
   "outputs": [],
   "source": [
    "# Finalize the model for deployment\n",
    "final_model = finalize_model(tuned_model)"
   ]
  },
  {
   "cell_type": "code",
   "execution_count": 73,
   "metadata": {},
   "outputs": [
    {
     "data": {
      "text/html": [
       "<style type=\"text/css\">\n",
       "</style>\n",
       "<table id=\"T_de8e7\">\n",
       "  <thead>\n",
       "    <tr>\n",
       "      <th class=\"blank level0\" >&nbsp;</th>\n",
       "      <th id=\"T_de8e7_level0_col0\" class=\"col_heading level0 col0\" >Model</th>\n",
       "      <th id=\"T_de8e7_level0_col1\" class=\"col_heading level0 col1\" >MAE</th>\n",
       "      <th id=\"T_de8e7_level0_col2\" class=\"col_heading level0 col2\" >MSE</th>\n",
       "      <th id=\"T_de8e7_level0_col3\" class=\"col_heading level0 col3\" >RMSE</th>\n",
       "      <th id=\"T_de8e7_level0_col4\" class=\"col_heading level0 col4\" >R2</th>\n",
       "      <th id=\"T_de8e7_level0_col5\" class=\"col_heading level0 col5\" >RMSLE</th>\n",
       "      <th id=\"T_de8e7_level0_col6\" class=\"col_heading level0 col6\" >MAPE</th>\n",
       "    </tr>\n",
       "  </thead>\n",
       "  <tbody>\n",
       "    <tr>\n",
       "      <th id=\"T_de8e7_level0_row0\" class=\"row_heading level0 row0\" >0</th>\n",
       "      <td id=\"T_de8e7_row0_col0\" class=\"data row0 col0\" >Bayesian Ridge</td>\n",
       "      <td id=\"T_de8e7_row0_col1\" class=\"data row0 col1\" >0.7400</td>\n",
       "      <td id=\"T_de8e7_row0_col2\" class=\"data row0 col2\" >0.8974</td>\n",
       "      <td id=\"T_de8e7_row0_col3\" class=\"data row0 col3\" >0.9473</td>\n",
       "      <td id=\"T_de8e7_row0_col4\" class=\"data row0 col4\" >0.2821</td>\n",
       "      <td id=\"T_de8e7_row0_col5\" class=\"data row0 col5\" >0.2243</td>\n",
       "      <td id=\"T_de8e7_row0_col6\" class=\"data row0 col6\" >0.3031</td>\n",
       "    </tr>\n",
       "  </tbody>\n",
       "</table>\n"
      ],
      "text/plain": [
       "<pandas.io.formats.style.Styler at 0x2025cf1e160>"
      ]
     },
     "metadata": {},
     "output_type": "display_data"
    }
   ],
   "source": [
    "# Predict on the test dataset\n",
    "predictions = predict_model(final_model, data=test)"
   ]
  },
  {
   "cell_type": "code",
   "execution_count": 74,
   "metadata": {},
   "outputs": [],
   "source": [
    "# Evaluate performance\n",
    "from sklearn.metrics import mean_squared_error, r2_score"
   ]
  },
  {
   "cell_type": "code",
   "execution_count": 75,
   "metadata": {},
   "outputs": [
    {
     "name": "stdout",
     "output_type": "stream",
     "text": [
      "Index(['total_bill', 'sex', 'smoker', 'day', 'time', 'size', 'tip',\n",
      "       'prediction_label'],\n",
      "      dtype='object')\n"
     ]
    }
   ],
   "source": [
    "# Extract true and predicted values\n",
    "true_values = test['tip']\n",
    "# Verify the actual column name in predictions\n",
    "print(predictions.columns)\n",
    "\n",
    "# Replace 'Label' with the correct column name based on the output above\n",
    "predicted_values = predictions['prediction_label']  # Update 'Label' if the column name is different"
   ]
  },
  {
   "cell_type": "code",
   "execution_count": 77,
   "metadata": {},
   "outputs": [
    {
     "name": "stdout",
     "output_type": "stream",
     "text": [
      "Mean Squared Error: 0.8973688976627903\n",
      "R-squared: 0.28208842462149264\n"
     ]
    }
   ],
   "source": [
    "# Calculate metrics\n",
    "mse = mean_squared_error(true_values, predicted_values)\n",
    "r2 = r2_score(true_values, predicted_values)\n",
    "\n",
    "print(f\"Mean Squared Error: {mse}\")\n",
    "print(f\"R-squared: {r2}\")"
   ]
  },
  {
   "cell_type": "code",
   "execution_count": 78,
   "metadata": {},
   "outputs": [
    {
     "name": "stdout",
     "output_type": "stream",
     "text": [
      "Transformation Pipeline and Model Successfully Saved\n"
     ]
    },
    {
     "data": {
      "text/plain": [
       "(Pipeline(memory=Memory(location=None),\n",
       "          steps=[('numerical_imputer',\n",
       "                  TransformerWrapper(include=['total_bill', 'sex', 'smoker',\n",
       "                                              'day', 'time', 'size'],\n",
       "                                     transformer=SimpleImputer())),\n",
       "                 ('categorical_imputer',\n",
       "                  TransformerWrapper(include=[],\n",
       "                                     transformer=SimpleImputer(strategy='most_frequent'))),\n",
       "                 ('polynomial_features',\n",
       "                  TransformerWrapper(transformer=PolynomialFeatures(include_bias=False))),\n",
       "                 ('remove_multicollinearity',\n",
       "                  TransformerWrapper(exclude=[],\n",
       "                                     transformer=RemoveMulticollinearity(threshold=0.9))),\n",
       "                 ('normalize', TransformerWrapper(transformer=StandardScaler())),\n",
       "                 ('actual_estimator',\n",
       "                  BayesianRidge(alpha_1=0.01, alpha_2=1e-07, lambda_1=0.05,\n",
       "                                lambda_2=0.2))]),\n",
       " './saved_models/pycaret_best_tips_regression_model.pkl')"
      ]
     },
     "execution_count": 78,
     "metadata": {},
     "output_type": "execute_result"
    }
   ],
   "source": [
    "# Save the model for later use\n",
    "save_model(final_model, './saved_models/pycaret_best_tips_regression_model')"
   ]
  },
  {
   "cell_type": "code",
   "execution_count": 79,
   "metadata": {},
   "outputs": [
    {
     "name": "stdout",
     "output_type": "stream",
     "text": [
      "Transformation Pipeline and Model Successfully Loaded\n"
     ]
    }
   ],
   "source": [
    "# Load the saved model (optional)\n",
    "loaded_model = load_model('./saved_models/pycaret_best_tips_regression_model')"
   ]
  },
  {
   "cell_type": "code",
   "execution_count": 80,
   "metadata": {},
   "outputs": [
    {
     "data": {
      "text/html": [
       "<style type=\"text/css\">\n",
       "</style>\n",
       "<table id=\"T_3179e\">\n",
       "  <thead>\n",
       "    <tr>\n",
       "      <th class=\"blank level0\" >&nbsp;</th>\n",
       "      <th id=\"T_3179e_level0_col0\" class=\"col_heading level0 col0\" >Model</th>\n",
       "      <th id=\"T_3179e_level0_col1\" class=\"col_heading level0 col1\" >MAE</th>\n",
       "      <th id=\"T_3179e_level0_col2\" class=\"col_heading level0 col2\" >MSE</th>\n",
       "      <th id=\"T_3179e_level0_col3\" class=\"col_heading level0 col3\" >RMSE</th>\n",
       "      <th id=\"T_3179e_level0_col4\" class=\"col_heading level0 col4\" >R2</th>\n",
       "      <th id=\"T_3179e_level0_col5\" class=\"col_heading level0 col5\" >RMSLE</th>\n",
       "      <th id=\"T_3179e_level0_col6\" class=\"col_heading level0 col6\" >MAPE</th>\n",
       "    </tr>\n",
       "  </thead>\n",
       "  <tbody>\n",
       "    <tr>\n",
       "      <th id=\"T_3179e_level0_row0\" class=\"row_heading level0 row0\" >0</th>\n",
       "      <td id=\"T_3179e_row0_col0\" class=\"data row0 col0\" >Bayesian Ridge</td>\n",
       "      <td id=\"T_3179e_row0_col1\" class=\"data row0 col1\" >0.7400</td>\n",
       "      <td id=\"T_3179e_row0_col2\" class=\"data row0 col2\" >0.8974</td>\n",
       "      <td id=\"T_3179e_row0_col3\" class=\"data row0 col3\" >0.9473</td>\n",
       "      <td id=\"T_3179e_row0_col4\" class=\"data row0 col4\" >0.2821</td>\n",
       "      <td id=\"T_3179e_row0_col5\" class=\"data row0 col5\" >0.2243</td>\n",
       "      <td id=\"T_3179e_row0_col6\" class=\"data row0 col6\" >0.3031</td>\n",
       "    </tr>\n",
       "  </tbody>\n",
       "</table>\n"
      ],
      "text/plain": [
       "<pandas.io.formats.style.Styler at 0x2025e8fefa0>"
      ]
     },
     "metadata": {},
     "output_type": "display_data"
    }
   ],
   "source": [
    "# Make predictions with the loaded model (optional)\n",
    "new_predictions = predict_model(loaded_model, data=test)"
   ]
  },
  {
   "cell_type": "code",
   "execution_count": 81,
   "metadata": {},
   "outputs": [
    {
     "data": {
      "image/png": "[encoded data removed]",
      "text/plain": [
       "<Figure size 800x600 with 1 Axes>"
      ]
     },
     "metadata": {},
     "output_type": "display_data"
    }
   ],
   "source": [
    "# Additional Analysis\n",
    "# Plot actual vs predicted values\n",
    "plt.figure(figsize=(8, 6))\n",
    "plt.scatter(true_values, predicted_values, alpha=0.7)\n",
    "plt.plot([true_values.min(), true_values.max()], [true_values.min(), true_values.max()], '--r')\n",
    "plt.xlabel('Actual Values')\n",
    "plt.ylabel('Predicted Values')\n",
    "plt.title('Actual vs Predicted Tips')\n",
    "plt.show()"
   ]
  },
  {
   "cell_type": "markdown",
   "metadata": {},
   "source": [
    "## If you have tree based models then you can use SHAP values to explain the model\n",
    "\n",
    "- SHAP values are used to explain the output of machine learning models.\n",
    "- SHAP values are defined as the average marginal contributions of a feature value, across all possible coalitions."
   ]
  },
  {
   "cell_type": "code",
   "execution_count": null,
   "metadata": {},
   "outputs": [],
   "source": [
    "# interpret_model() function\n",
    "# interpret_model(final_model, plot='summary') # SHAP summary plot"
   ]
  },
  {
   "cell_type": "markdown",
   "metadata": {},
   "source": [
    "<h2 style=\"font-family: 'poppins'; font-weight: bold; color: Green;\">👨‍💻Author: Dr. Muhammad Aammar Tufail</h2>\n",
    "\n",
    "[![GitHub](https://img.shields.io/badge/GitHub-Profile-blue?style=for-the-badge&logo=github)](https://github.com/AammarTufail) \n",
    "[![Kaggle](https://img.shields.io/badge/Kaggle-Profile-blue?style=for-the-badge&logo=kaggle)](https://www.kaggle.com/muhammadaammartufail) \n",
    "[![LinkedIn](https://img.shields.io/badge/LinkedIn-Profile-blue?style=for-the-badge&logo=linkedin)](https://www.linkedin.com/in/dr-muhammad-aammar-tufail-02471213b/)  \n",
    "\n",
    "[![YouTube](https://img.shields.io/badge/YouTube-Profile-red?style=for-the-badge&logo=youtube)](https://www.youtube.com/@codanics) \n",
    "[![Facebook](https://img.shields.io/badge/Facebook-Profile-blue?style=for-the-badge&logo=facebook)](https://www.facebook.com/aammar.tufail) \n",
    "[![TikTok](https://img.shields.io/badge/TikTok-Profile-black?style=for-the-badge&logo=tiktok)](https://www.tiktok.com/@draammar)  \n",
    "\n",
    "[![Twitter/X](https://img.shields.io/badge/Twitter-Profile-blue?style=for-the-badge&logo=twitter)](https://twitter.com/aammar_tufail) \n",
    "[![Instagram](https://img.shields.io/badge/Instagram-Profile-blue?style=for-the-badge&logo=instagram)](https://www.instagram.com/aammartufail/) \n",
    "[![Email](https://img.shields.io/badge/Email-Contact%20Me-red?style=for-the-badge&logo=email)](mailto:aammar@codanics.com)"
   ]
  }
 ],
 "metadata": {
  "kernelspec": {
   "display_name": "pycaret_env",
   "language": "python",
   "name": "python3"
  },
  "language_info": {
   "codemirror_mode": {
    "name": "ipython",
    "version": 3
   },
   "file_extension": ".py",
   "mimetype": "text/x-python",
   "name": "python",
   "nbconvert_exporter": "python",
   "pygments_lexer": "ipython3",
   "version": "3.9.21"
  }
 },
 "nbformat": 4,
 "nbformat_minor": 2
}
