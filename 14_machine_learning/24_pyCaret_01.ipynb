{
 "cells": [
  {
   "cell_type": "markdown",
   "metadata": {},
   "source": [
    "# Automatic Machine Learning with **pyCaret**\n",
    "\n",
    "## Installation Instructions\n",
    "### To use PyCaret in a conda environment, follow these steps:\n",
    "\n",
    "```bash\n",
    "# Step 1: Create a new conda environment\n",
    "conda create --name pycaret_env python=3.9 -y\n",
    "\n",
    "# Step 2: Activate the environment\n",
    "conda activate pycaret_env\n",
    "\n",
    "# Step 3: Install pycaret and other required libraries\n",
    "pip install pycaret pandas numpy matplotlib seaborn ipykernel mlflow shap\n",
    "```"
   ]
  }
 ],
 "metadata": {
  "kernelspec": {
   "display_name": "pycaret",
   "language": "python",
   "name": "pycaret"
  },
  "language_info": {
   "codemirror_mode": {
    "name": "ipython",
    "version": 3
   },
   "file_extension": ".py",
   "mimetype": "text/x-python",
   "name": "python",
   "nbconvert_exporter": "python",
   "pygments_lexer": "ipython3",
   "version": "3.7.3"
  }
 },
 "nbformat": 4,
 "nbformat_minor": 2
}
