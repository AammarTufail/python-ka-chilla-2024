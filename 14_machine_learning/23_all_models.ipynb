{
 "cells": [
  {
   "cell_type": "markdown",
   "metadata": {},
   "source": [
    "# Important Models\n",
    "\n",
    "| **Category**                          | **Algorithms**                                                                                                                                    |\n",
    "|---------------------------------------|---------------------------------------------------------------------------------------------------------------------------------------------------|\n",
    "| **Supervised Learning**               | Linear Regression, Multiple Linear Regression, Polynomial Regression, Ridge Regression, Lasso Regression, Elastic Net, Logistic Regression, Decision Trees, Random Forest, Gradient Boosting, XGBoost, LightGBM, CatBoost, Naive Bayes, Support Vector Machines (SVM), k-Nearest Neighbors (k-NN), Linear Discriminant Analysis, Quadratic Discriminant Analysis |\n",
    "| **Unsupervised Learning**             | K-Means Clustering, Hierarchical Clustering, DBSCAN, Principal Component Analysis (PCA), Singular Value Decomposition (SVD), Gaussian Mixture Models, Self-Organizing Maps |\n",
    "| **Reinforcement Learning**            | Q-Learning, SARSA (State-Action-Reward-State-Action), Deep Q Network (DQN), Policy Gradients, Actor-Critic Methods, Monte Carlo Methods |\n",
    "| **Neural Networks and Deep Learning** | Perceptron, Multi-layer Perceptrons (MLP), Convolutional Neural Networks (CNNs), Recurrent Neural Networks (RNNs), Long Short-Term Memory Networks (LSTMs), Generative Adversarial Networks (GANs), Transformer Networks, Autoencoders |\n",
    "| **Ensemble Methods**                  | Bagging, Boosting, Stacking, Random Forest, Gradient Boosting Machines (GBM), AdaBoost, XGBoost, LightGBM, CatBoost |\n",
    "| **Dimensionality Reduction**          | Principal Component Analysis (PCA), Linear Discriminant Analysis (LDA), t-Distributed Stochastic Neighbor Embedding (t-SNE), Uniform Manifold Approximation and Projection (UMAP) |"
   ]
  }
 ],
 "metadata": {
  "language_info": {
   "name": "python"
  }
 },
 "nbformat": 4,
 "nbformat_minor": 2
}
