{
 "cells": [
  {
   "cell_type": "markdown",
   "metadata": {},
   "source": [
    "# Sweetviz for EDA"
   ]
  },
  {
   "cell_type": "markdown",
   "metadata": {},
   "source": [
    "## Installation:\n",
    "\n",
    "```bash\n",
    "conda create -n sweetviz -y python==3.10\n",
    "conda activate sweetviz\n",
    "pip install sweetviz pandas openpyxl ipykernel\n",
    "pip uninstall numpy -y\n",
    "conda install numpy==1.23.4 -y\n",
    "```"
   ]
  },
  {
   "cell_type": "markdown",
   "metadata": {},
   "source": [
    "# Use case"
   ]
  },
  {
   "cell_type": "code",
   "execution_count": 10,
   "metadata": {},
   "outputs": [
    {
     "name": "stderr",
     "output_type": "stream",
     "text": [
      "Done! Use 'show' commands to display/save.   |██████████| [100%]   00:01 -> (00:00 left)\n"
     ]
    },
    {
     "name": "stdout",
     "output_type": "stream",
     "text": [
      "Report ./sweetviz/titanic.html was generated! NOTEBOOK/COLAB USERS: the web browser MAY not pop up, regardless, the report IS saved in your notebook/colab files.\n"
     ]
    }
   ],
   "source": [
    "import pandas as pd\n",
    "import sweetviz as sv\n",
    "import tqdm as notebook_tqdm\n",
    "# import data\n",
    "df = pd.read_excel(\"./dataframes/titanic_df.xlsx\")\n",
    "my_report = sv.analyze(df)\n",
    "my_report.show_html(\"./sweetviz/titanic.html\") # Default arguments will generate to \"SWEETVIZ_REPORT.html\""
   ]
  }
 ],
 "metadata": {
  "kernelspec": {
   "display_name": "sweetviz",
   "language": "python",
   "name": "python3"
  },
  "language_info": {
   "codemirror_mode": {
    "name": "ipython",
    "version": 3
   },
   "file_extension": ".py",
   "mimetype": "text/x-python",
   "name": "python",
   "nbconvert_exporter": "python",
   "pygments_lexer": "ipython3",
   "version": "3.10.15"
  }
 },
 "nbformat": 4,
 "nbformat_minor": 2
}
