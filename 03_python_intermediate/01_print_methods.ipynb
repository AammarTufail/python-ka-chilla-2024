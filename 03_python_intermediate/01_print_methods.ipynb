{
 "cells": [
  {
   "cell_type": "markdown",
   "metadata": {},
   "source": [
    "# Print function methods"
   ]
  },
  {
   "cell_type": "markdown",
   "metadata": {},
   "source": [
    "<h2 style=\"font-family: 'poppins'; font-weight: bold; color: Yellow;\">👨‍💻Author: Dr. Muhammad Aamamr Tufail</h2>\n",
    "\n",
    "[![GitHub](https://img.shields.io/badge/GitHub-Profile-blue?style=for-the-badge&logo=github)](https://github.com/AammarTufail) \n",
    "[![Kaggle](https://img.shields.io/badge/Kaggle-Profile-blue?style=for-the-badge&logo=kaggle)](https://www.kaggle.com/muhammadaammartufail) \n",
    "[![LinkedIn](https://img.shields.io/badge/LinkedIn-Profile-blue?style=for-the-badge&logo=linkedin)](https://www.linkedin.com/in/dr-muhammad-aammar-tufail-02471213b/)  \n",
    "\n",
    "[![YouTube](https://img.shields.io/badge/YouTube-Profile-red?style=for-the-badge&logo=youtube)](https://www.youtube.com/@codanics) \n",
    "[![Facebook](https://img.shields.io/badge/Facebook-Profile-blue?style=for-the-badge&logo=facebook)](https://www.facebook.com/aammar.tufail) \n",
    "[![TikTok](https://img.shields.io/badge/TikTok-Profile-black?style=for-the-badge&logo=tiktok)](https://www.tiktok.com/@draammar)  \n",
    "\n",
    "[![Twitter/X](https://img.shields.io/badge/Twitter-Profile-blue?style=for-the-badge&logo=twitter)](https://twitter.com/aammar_tufail) \n",
    "[![Instagram](https://img.shields.io/badge/Instagram-Profile-blue?style=for-the-badge&logo=instagram)](https://www.instagram.com/aammartufail/) \n",
    "[![Email](https://img.shields.io/badge/Email-Contact%20Me-red?style=for-the-badge&logo=email)](mailto:aammar@codanics.com)\n"
   ]
  },
  {
   "cell_type": "code",
   "execution_count": 12,
   "metadata": {},
   "outputs": [
    {
     "name": "stdout",
     "output_type": "stream",
     "text": [
      "My name is Aammar\n",
      "Hello, Codanics\n",
      "Hello Codanics\n",
      "Hello,Codanics\n",
      "Hello:Codanics\n"
     ]
    }
   ],
   "source": [
    "print(\"My name is Aammar\")\n",
    "print(\"Hello, Codanics\")\n",
    "print(\"Hello\", \"Codanics\")\n",
    "print(\"Hello\", \"Codanics\", sep=\",\")\n",
    "print(\"Hello\", \"Codanics\", sep=\":\", end=\"\\n\")"
   ]
  },
  {
   "cell_type": "code",
   "execution_count": 17,
   "metadata": {},
   "outputs": [
    {
     "name": "stdout",
     "output_type": "stream",
     "text": [
      "My name is Aammar and I am 20 years old. How are you?\n"
     ]
    }
   ],
   "source": [
    "# f-strings\n",
    "name = \"Aammar\"\n",
    "age = 20\n",
    "final = \"How are you?\"\n",
    "print(f\"My name is {name} and I am {age} years old. {final}\")"
   ]
  },
  {
   "cell_type": "code",
   "execution_count": 18,
   "metadata": {},
   "outputs": [
    {
     "name": "stdout",
     "output_type": "stream",
     "text": [
      "My name is Aammar and I am 20 years old.\n",
      "How are you?\n"
     ]
    }
   ],
   "source": [
    "# f-strings with line break\n",
    "name = \"Aammar\"\n",
    "age = 20\n",
    "final = \"How are you?\"\n",
    "print(f\"My name is {name} and I am {age} years old.\\n{final}\")"
   ]
  },
  {
   "cell_type": "code",
   "execution_count": 27,
   "metadata": {},
   "outputs": [
    {
     "name": "stdout",
     "output_type": "stream",
     "text": [
      "Hello, Codanics!\n"
     ]
    }
   ],
   "source": [
    "# str.format()\n",
    "print(\"Hello, {}!\".format(\"Codanics\"))"
   ]
  },
  {
   "cell_type": "code",
   "execution_count": 31,
   "metadata": {},
   "outputs": [
    {
     "name": "stdout",
     "output_type": "stream",
     "text": [
      "My name is Aammar and I am 20 years old.\n"
     ]
    }
   ],
   "source": [
    "# % formatting\n",
    "name = \"Aammar\"\n",
    "age = 20\n",
    "print(\"My name is %s and I am %d years old.\" % (name, age)) \n",
    "#%s for string, %d for integer"
   ]
  },
  {
   "cell_type": "code",
   "execution_count": 35,
   "metadata": {},
   "outputs": [
    {
     "name": "stdout",
     "output_type": "stream",
     "text": [
      "Hello, Codanics"
     ]
    },
    {
     "data": {
      "text/plain": [
       "15"
      ]
     },
     "execution_count": 35,
     "metadata": {},
     "output_type": "execute_result"
    }
   ],
   "source": [
    "# sys.stdout.write()\n",
    "import sys\n",
    "sys.stdout.write(\"Hello, Codanics\")"
   ]
  },
  {
   "cell_type": "code",
   "execution_count": 37,
   "metadata": {},
   "outputs": [
    {
     "name": "stdout",
     "output_type": "stream",
     "text": [
      "Hello!"
     ]
    }
   ],
   "source": [
    "# use end=\"\" in print\n",
    "print(\"Hello\", end=\"!\")"
   ]
  },
  {
   "cell_type": "code",
   "execution_count": 43,
   "metadata": {},
   "outputs": [
    {
     "name": "stdout",
     "output_type": "stream",
     "text": [
      "Hello, Codanics!,\n",
      "How are you?\n",
      "      I am fine.\n"
     ]
    }
   ],
   "source": [
    "# multi-line print\n",
    "print(\"\"\"Hello, Codanics!,\n",
    "How are you?\n",
    "      I am fine.\"\"\")"
   ]
  },
  {
   "cell_type": "code",
   "execution_count": 44,
   "metadata": {},
   "outputs": [
    {
     "name": "stdout",
     "output_type": "stream",
     "text": [
      "My name is Aammar and I am 20 years old.\n",
      "How are you?\n"
     ]
    }
   ],
   "source": [
    "# f-string with multi-line\n",
    "name = \"Aammar\"\n",
    "age = 20\n",
    "final = \"How are you?\"\n",
    "print(f\"\"\"My name is {name} and I am {age} years old.\n",
    "{final}\"\"\")"
   ]
  },
  {
   "cell_type": "code",
   "execution_count": 46,
   "metadata": {},
   "outputs": [],
   "source": [
    "# Print to a file in forward path \n",
    "with open(\"./outputs/print_to_file.txt\", \"w\") as file:\n",
    "    print(\"Hello, Codanics!\", file=file)"
   ]
  },
  {
   "cell_type": "code",
   "execution_count": 47,
   "metadata": {},
   "outputs": [],
   "source": [
    "# Print to a file in previous directory\n",
    "with open(\"../print_to_file.txt\", \"w\") as file:\n",
    "    print(\"Hello, Codanics!\", file=file)"
   ]
  },
  {
   "cell_type": "code",
   "execution_count": 50,
   "metadata": {},
   "outputs": [
    {
     "name": "stdout",
     "output_type": "stream",
     "text": [
      "My name is Aammar and I am 20 years old.\n"
     ]
    }
   ],
   "source": [
    "# use of + operator to concatenate strings\n",
    "name = \"Aammar\"\n",
    "age = 20\n",
    "print(\"My name is \" + name + \" and I am \" + str(age) + \" years old.\")"
   ]
  }
 ],
 "metadata": {
  "kernelspec": {
   "display_name": "python_basics",
   "language": "python",
   "name": "python3"
  },
  "language_info": {
   "codemirror_mode": {
    "name": "ipython",
    "version": 3
   },
   "file_extension": ".py",
   "mimetype": "text/x-python",
   "name": "python",
   "nbconvert_exporter": "python",
   "pygments_lexer": "ipython3",
   "version": "3.10.14"
  }
 },
 "nbformat": 4,
 "nbformat_minor": 2
}
