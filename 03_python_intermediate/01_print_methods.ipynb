{
 "cells": [
  {
   "cell_type": "markdown",
   "metadata": {},
   "source": [
    "# Print function methods"
   ]
  },
  {
   "cell_type": "code",
   "execution_count": 12,
   "metadata": {},
   "outputs": [
    {
     "name": "stdout",
     "output_type": "stream",
     "text": [
      "My name is Aammar\n",
      "Hello, Codanics\n",
      "Hello Codanics\n",
      "Hello,Codanics\n",
      "Hello:Codanics\n"
     ]
    }
   ],
   "source": [
    "print(\"My name is Aammar\")\n",
    "print(\"Hello, Codanics\")\n",
    "print(\"Hello\", \"Codanics\")\n",
    "print(\"Hello\", \"Codanics\", sep=\",\")\n",
    "print(\"Hello\", \"Codanics\", sep=\":\", end=\"\\n\")"
   ]
  },
  {
   "cell_type": "code",
   "execution_count": 17,
   "metadata": {},
   "outputs": [
    {
     "name": "stdout",
     "output_type": "stream",
     "text": [
      "My name is Aammar and I am 20 years old. How are you?\n"
     ]
    }
   ],
   "source": [
    "# f-strings\n",
    "name = \"Aammar\"\n",
    "age = 20\n",
    "final = \"How are you?\"\n",
    "print(f\"My name is {name} and I am {age} years old. {final}\")"
   ]
  },
  {
   "cell_type": "code",
   "execution_count": 18,
   "metadata": {},
   "outputs": [
    {
     "name": "stdout",
     "output_type": "stream",
     "text": [
      "My name is Aammar and I am 20 years old.\n",
      "How are you?\n"
     ]
    }
   ],
   "source": [
    "# f-strings with line break\n",
    "name = \"Aammar\"\n",
    "age = 20\n",
    "final = \"How are you?\"\n",
    "print(f\"My name is {name} and I am {age} years old.\\n{final}\")"
   ]
  },
  {
   "cell_type": "code",
   "execution_count": 27,
   "metadata": {},
   "outputs": [
    {
     "name": "stdout",
     "output_type": "stream",
     "text": [
      "Hello, Codanics!\n"
     ]
    }
   ],
   "source": [
    "# str.format()\n",
    "print(\"Hello, {}!\".format(\"Codanics\"))"
   ]
  },
  {
   "cell_type": "code",
   "execution_count": 31,
   "metadata": {},
   "outputs": [
    {
     "name": "stdout",
     "output_type": "stream",
     "text": [
      "My name is Aammar and I am 20 years old.\n"
     ]
    }
   ],
   "source": [
    "# % formatting\n",
    "name = \"Aammar\"\n",
    "age = 20\n",
    "print(\"My name is %s and I am %d years old.\" % (name, age)) \n",
    "#%s for string, %d for integer"
   ]
  },
  {
   "cell_type": "code",
   "execution_count": 35,
   "metadata": {},
   "outputs": [
    {
     "name": "stdout",
     "output_type": "stream",
     "text": [
      "Hello, Codanics"
     ]
    },
    {
     "data": {
      "text/plain": [
       "15"
      ]
     },
     "execution_count": 35,
     "metadata": {},
     "output_type": "execute_result"
    }
   ],
   "source": [
    "# sys.stdout.write()\n",
    "import sys\n",
    "sys.stdout.write(\"Hello, Codanics\")"
   ]
  },
  {
   "cell_type": "code",
   "execution_count": 37,
   "metadata": {},
   "outputs": [
    {
     "name": "stdout",
     "output_type": "stream",
     "text": [
      "Hello!"
     ]
    }
   ],
   "source": [
    "# use end=\"\" in print\n",
    "print(\"Hello\", end=\"!\")"
   ]
  },
  {
   "cell_type": "code",
   "execution_count": 43,
   "metadata": {},
   "outputs": [
    {
     "name": "stdout",
     "output_type": "stream",
     "text": [
      "Hello, Codanics!,\n",
      "How are you?\n",
      "      I am fine.\n"
     ]
    }
   ],
   "source": [
    "# multi-line print\n",
    "print(\"\"\"Hello, Codanics!,\n",
    "How are you?\n",
    "      I am fine.\"\"\")"
   ]
  },
  {
   "cell_type": "code",
   "execution_count": 44,
   "metadata": {},
   "outputs": [
    {
     "name": "stdout",
     "output_type": "stream",
     "text": [
      "My name is Aammar and I am 20 years old.\n",
      "How are you?\n"
     ]
    }
   ],
   "source": [
    "# f-string with multi-line\n",
    "name = \"Aammar\"\n",
    "age = 20\n",
    "final = \"How are you?\"\n",
    "print(f\"\"\"My name is {name} and I am {age} years old.\n",
    "{final}\"\"\")"
   ]
  },
  {
   "cell_type": "code",
   "execution_count": 46,
   "metadata": {},
   "outputs": [],
   "source": [
    "# Print to a file in forward path \n",
    "with open(\"./outputs/print_to_file.txt\", \"w\") as file:\n",
    "    print(\"Hello, Codanics!\", file=file)"
   ]
  },
  {
   "cell_type": "code",
   "execution_count": 47,
   "metadata": {},
   "outputs": [],
   "source": [
    "# Print to a file in previous directory\n",
    "with open(\"../print_to_file.txt\", \"w\") as file:\n",
    "    print(\"Hello, Codanics!\", file=file)"
   ]
  },
  {
   "cell_type": "code",
   "execution_count": 50,
   "metadata": {},
   "outputs": [
    {
     "name": "stdout",
     "output_type": "stream",
     "text": [
      "My name is Aammar and I am 20 years old.\n"
     ]
    }
   ],
   "source": [
    "# use of + operator to concatenate strings\n",
    "name = \"Aammar\"\n",
    "age = 20\n",
    "print(\"My name is \" + name + \" and I am \" + str(age) + \" years old.\")"
   ]
  }
 ],
 "metadata": {
  "kernelspec": {
   "display_name": "python_basics",
   "language": "python",
   "name": "python3"
  },
  "language_info": {
   "codemirror_mode": {
    "name": "ipython",
    "version": 3
   },
   "file_extension": ".py",
   "mimetype": "text/x-python",
   "name": "python",
   "nbconvert_exporter": "python",
   "pygments_lexer": "ipython3",
   "version": "3.10.14"
  }
 },
 "nbformat": 4,
 "nbformat_minor": 2
}
