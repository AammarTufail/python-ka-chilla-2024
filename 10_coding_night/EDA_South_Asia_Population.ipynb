{
 "cells": [
  {
   "cell_type": "markdown",
   "metadata": {},
   "source": [
    "# Exploratory Data Analysis (EDA): South Asia Population & Migration Dataset (1960-2023)\n",
    "This notebook performs basic exploratory data analysis (EDA) on the South Asia Population & Migration Dataset, which includes data from Afghanistan, Bangladesh, India, Pakistan, and Sri Lanka."
   ]
  },
  {
   "cell_type": "code",
   "execution_count": null,
   "metadata": {},
   "outputs": [],
   "source": [
    "# Import necessary libraries\n",
    "import pandas as pd\n",
    "import numpy as np\n",
    "import matplotlib.pyplot as plt\n",
    "import seaborn as sns\n",
    "\n",
    "# Load the dataset\n",
    "file_path = '/kaggle/input/population-and-net-migration-dataset-world-bank/pop_and_net_migration.csv'\n",
    "data = pd.read_csv(file_path)\n",
    "\n",
    "# Display the first few rows\n",
    "data.head()"
   ]
  },
  {
   "cell_type": "markdown",
   "metadata": {},
   "source": [
    "## Dataset Overview"
   ]
  },
  {
   "cell_type": "code",
   "execution_count": null,
   "metadata": {},
   "outputs": [],
   "source": [
    "# Check dataset shape\n",
    "print(f\"Dataset contains {data.shape[0]} rows and {data.shape[1]} columns.\")\n",
    "\n",
    "# Check column data types and missing values\n",
    "data.info()\n",
    "\n",
    "# Check for missing values\n",
    "print(\"Missing values:\")\n",
    "print(data.isnull().sum())\n",
    "\n",
    "# Summary statistics\n",
    "data.describe()"
   ]
  },
  {
   "cell_type": "markdown",
   "metadata": {},
   "source": [
    "## Population Growth Over Time for Afghanistan"
   ]
  },
  {
   "cell_type": "code",
   "execution_count": null,
   "metadata": {},
   "outputs": [],
   "source": [
    "# Filter data for Afghanistan\n",
    "afghanistan_data = data[data['Country'] == 'Afghanistan']\n",
    "\n",
    "# Plot population over time\n",
    "plt.figure(figsize=(10, 6))\n",
    "sns.lineplot(x='Year', y='total_population', data=afghanistan_data, marker='o')\n",
    "plt.title('Population Growth in Afghanistan (1960-2023)')\n",
    "plt.xlabel('Year')\n",
    "plt.ylabel('Total Population')\n",
    "plt.grid()\n",
    "plt.show()"
   ]
  },
  {
   "cell_type": "markdown",
   "metadata": {},
   "source": [
    "## Population Comparison Across Countries in 2023"
   ]
  },
  {
   "cell_type": "code",
   "execution_count": null,
   "metadata": {},
   "outputs": [],
   "source": [
    "# Filter data for 2023\n",
    "data_2023 = data[data['Year'] == 2023]\n",
    "\n",
    "# Bar plot for population comparison\n",
    "plt.figure(figsize=(10, 6))\n",
    "sns.barplot(x='Country', y='total_population', data=data_2023)\n",
    "plt.title('Population Comparison Across Countries (2023)')\n",
    "plt.ylabel('Total Population')\n",
    "plt.xlabel('Country')\n",
    "plt.xticks(rotation=45)\n",
    "plt.show()"
   ]
  },
  {
   "cell_type": "markdown",
   "metadata": {},
   "source": [
    "## Net Migration Trends Over Time"
   ]
  },
  {
   "cell_type": "code",
   "execution_count": null,
   "metadata": {},
   "outputs": [],
   "source": [
    "# Line plot for net migration trends for all countries\n",
    "plt.figure(figsize=(12, 6))\n",
    "sns.lineplot(x='Year', y='net_migration', hue='Country', data=data, marker='o')\n",
    "plt.title('Net Migration Trends (1960-2023)')\n",
    "plt.xlabel('Year')\n",
    "plt.ylabel('Net Migration')\n",
    "plt.legend(title='Country')\n",
    "plt.grid()\n",
    "plt.show()"
   ]
  },
  {
   "cell_type": "markdown",
   "metadata": {},
   "source": [
    "## Population Growth Rates"
   ]
  },
  {
   "cell_type": "code",
   "execution_count": null,
   "metadata": {},
   "outputs": [],
   "source": [
    "# Calculate year-on-year population growth percentage\n",
    "data['population_growth'] = data.groupby('Country')['total_population'].pct_change() * 100\n",
    "\n",
    "# Display growth rates\n",
    "data[['Country', 'Year', 'population_growth']].head()"
   ]
  },
  {
   "cell_type": "markdown",
   "metadata": {},
   "source": [
    "## Correlation Between Total Population and Net Migration"
   ]
  },
  {
   "cell_type": "code",
   "execution_count": null,
   "metadata": {},
   "outputs": [],
   "source": [
    "# Heatmap for correlation\n",
    "plt.figure(figsize=(8, 6))\n",
    "sns.heatmap(data[['total_population', 'net_migration']].corr(), annot=True, cmap='coolwarm')\n",
    "plt.title('Correlation Between Total Population and Net Migration')\n",
    "plt.show()"
   ]
  },
  {
   "cell_type": "markdown",
   "metadata": {},
   "source": [
    "## Save Processed Data"
   ]
  },
  {
   "cell_type": "code",
   "execution_count": null,
   "metadata": {},
   "outputs": [],
   "source": [
    "# Save the processed dataset\n",
    "processed_file_path = '/kaggle/working/processed_data.csv'\n",
    "data.to_csv(processed_file_path, index=False)\n",
    "print(f\"Processed data saved at {processed_file_path}\")"
   ]
  }
 ],
 "metadata": {
  "kernelspec": {
   "display_name": "Python 3",
   "language": "python",
   "name": "python3"
  },
  "language_info": {
   "codemirror_mode": {
    "name": "ipython",
    "version": 3
   },
   "file_extension": ".py",
   "mimetype": "text/x-python",
   "name": "python",
   "nbconvert_exporter": "python",
   "pygments_lexer": "ipython3",
   "version": "3.8.10"
  }
 },
 "nbformat": 4,
 "nbformat_minor": 4
}
