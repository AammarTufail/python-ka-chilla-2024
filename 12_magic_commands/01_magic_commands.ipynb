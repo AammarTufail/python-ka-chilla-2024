{
 "cells": [
  {
   "cell_type": "markdown",
   "metadata": {},
   "source": [
    "# Magic Commands in python and jupyter notebook"
   ]
  },
  {
   "cell_type": "code",
   "execution_count": 27,
   "metadata": {},
   "outputs": [
    {
     "name": "stdout",
     "output_type": "stream",
     "text": [
      "CPU times: total: 0 ns\n",
      "Wall time: 0 ns\n"
     ]
    }
   ],
   "source": [
    "%%time\n",
    "import pandas as pd\n",
    "import numpy as np\n",
    "import matplotlib.pyplot as plt\n",
    "import seaborn as sns"
   ]
  },
  {
   "cell_type": "code",
   "execution_count": 28,
   "metadata": {},
   "outputs": [
    {
     "data": {
      "text/plain": [
       "'c:\\\\Users\\\\aammar\\\\OneDrive\\\\python_ka_chilla\\\\12_magic_commands'"
      ]
     },
     "execution_count": 28,
     "metadata": {},
     "output_type": "execute_result"
    }
   ],
   "source": [
    "%pwd # check current directory"
   ]
  },
  {
   "cell_type": "code",
   "execution_count": 29,
   "metadata": {},
   "outputs": [
    {
     "name": "stdout",
     "output_type": "stream",
     "text": [
      "c:\\Users\\aammar\\OneDrive\\python_ka_chilla\\12_magic_commands\n"
     ]
    },
    {
     "name": "stderr",
     "output_type": "stream",
     "text": [
      "c:\\Users\\aammar\\miniconda3\\envs\\data_analysis\\lib\\site-packages\\IPython\\core\\magics\\osm.py:417: UserWarning: This is now an optional IPython functionality, setting dhist requires you to install the `pickleshare` library.\n",
      "  self.shell.db['dhist'] = compress_dhist(dhist)[-100:]\n"
     ]
    }
   ],
   "source": [
    "%cd c:\\\\Users\\\\aammar\\\\OneDrive\\\\python_ka_chilla\\\\12_magic_commands"
   ]
  },
  {
   "cell_type": "code",
   "execution_count": 30,
   "metadata": {},
   "outputs": [
    {
     "name": "stdout",
     "output_type": "stream",
     "text": [
      " Volume in drive C has no label.\n",
      " Volume Serial Number is 0A04-8ECE\n",
      "\n",
      " Directory of c:\\Users\\aammar\\OneDrive\\python_ka_chilla\\12_magic_commands\n",
      "\n",
      "19-Nov-24  06:16 PM    <DIR>          .\n",
      "19-Nov-24  06:16 PM    <DIR>          ..\n",
      "19-Nov-24  06:26 PM            37,313 01_magic_commands.ipynb\n",
      "               1 File(s)         37,313 bytes\n",
      "               2 Dir(s)  171,587,584,000 bytes free\n"
     ]
    }
   ],
   "source": [
    "%ls"
   ]
  },
  {
   "cell_type": "code",
   "execution_count": 31,
   "metadata": {},
   "outputs": [
    {
     "name": "stdout",
     "output_type": "stream",
     "text": [
      "No variables match your requested type.\n"
     ]
    }
   ],
   "source": [
    "%who # list all variables"
   ]
  },
  {
   "cell_type": "code",
   "execution_count": 32,
   "metadata": {},
   "outputs": [
    {
     "data": {
      "text/html": [
       "<div>\n",
       "<style scoped>\n",
       "    .dataframe tbody tr th:only-of-type {\n",
       "        vertical-align: middle;\n",
       "    }\n",
       "\n",
       "    .dataframe tbody tr th {\n",
       "        vertical-align: top;\n",
       "    }\n",
       "\n",
       "    .dataframe thead th {\n",
       "        text-align: right;\n",
       "    }\n",
       "</style>\n",
       "<table border=\"1\" class=\"dataframe\">\n",
       "  <thead>\n",
       "    <tr style=\"text-align: right;\">\n",
       "      <th></th>\n",
       "      <th>0</th>\n",
       "      <th>1</th>\n",
       "      <th>2</th>\n",
       "      <th>3</th>\n",
       "      <th>4</th>\n",
       "    </tr>\n",
       "  </thead>\n",
       "  <tbody>\n",
       "    <tr>\n",
       "      <th>0</th>\n",
       "      <td>-1.332544</td>\n",
       "      <td>-0.162070</td>\n",
       "      <td>0.113779</td>\n",
       "      <td>1.438883</td>\n",
       "      <td>0.391073</td>\n",
       "    </tr>\n",
       "    <tr>\n",
       "      <th>1</th>\n",
       "      <td>0.414460</td>\n",
       "      <td>1.007630</td>\n",
       "      <td>0.417456</td>\n",
       "      <td>-0.631018</td>\n",
       "      <td>0.339881</td>\n",
       "    </tr>\n",
       "    <tr>\n",
       "      <th>2</th>\n",
       "      <td>-1.582320</td>\n",
       "      <td>1.727284</td>\n",
       "      <td>0.187377</td>\n",
       "      <td>0.032544</td>\n",
       "      <td>-0.116429</td>\n",
       "    </tr>\n",
       "    <tr>\n",
       "      <th>3</th>\n",
       "      <td>-0.551999</td>\n",
       "      <td>-0.916781</td>\n",
       "      <td>-0.435194</td>\n",
       "      <td>0.097976</td>\n",
       "      <td>-0.957988</td>\n",
       "    </tr>\n",
       "    <tr>\n",
       "      <th>4</th>\n",
       "      <td>0.533028</td>\n",
       "      <td>0.286983</td>\n",
       "      <td>1.288103</td>\n",
       "      <td>0.378712</td>\n",
       "      <td>1.187074</td>\n",
       "    </tr>\n",
       "  </tbody>\n",
       "</table>\n",
       "</div>"
      ],
      "text/plain": [
       "          0         1         2         3         4\n",
       "0 -1.332544 -0.162070  0.113779  1.438883  0.391073\n",
       "1  0.414460  1.007630  0.417456 -0.631018  0.339881\n",
       "2 -1.582320  1.727284  0.187377  0.032544 -0.116429\n",
       "3 -0.551999 -0.916781 -0.435194  0.097976 -0.957988\n",
       "4  0.533028  0.286983  1.288103  0.378712  1.187074"
      ]
     },
     "execution_count": 32,
     "metadata": {},
     "output_type": "execute_result"
    }
   ],
   "source": [
    "x = pd.DataFrame(np.random.randn(100, 5))\n",
    "x.head()"
   ]
  },
  {
   "cell_type": "code",
   "execution_count": 33,
   "metadata": {},
   "outputs": [
    {
     "name": "stdout",
     "output_type": "stream",
     "text": [
      "Variable   Type         Data/Info\n",
      "---------------------------------\n",
      "np         module       <module 'numpy' from 'c:\\<...>ges\\\\numpy\\\\__init__.py'>\n",
      "pd         module       <module 'pandas' from 'c:<...>es\\\\pandas\\\\__init__.py'>\n",
      "plt        module       <module 'matplotlib.pyplo<...>\\\\matplotlib\\\\pyplot.py'>\n",
      "sns        module       <module 'seaborn' from 'c<...>s\\\\seaborn\\\\__init__.py'>\n",
      "x          DataFrame               0         1   <...>n\\n[100 rows x 5 columns]\n"
     ]
    }
   ],
   "source": [
    "%whos"
   ]
  },
  {
   "cell_type": "code",
   "execution_count": 34,
   "metadata": {},
   "outputs": [
    {
     "name": "stdout",
     "output_type": "stream",
     "text": [
      "CPU times: total: 0 ns\n",
      "Wall time: 12.7 ms\n"
     ]
    },
    {
     "data": {
      "text/html": [
       "<div>\n",
       "<style scoped>\n",
       "    .dataframe tbody tr th:only-of-type {\n",
       "        vertical-align: middle;\n",
       "    }\n",
       "\n",
       "    .dataframe tbody tr th {\n",
       "        vertical-align: top;\n",
       "    }\n",
       "\n",
       "    .dataframe thead th {\n",
       "        text-align: right;\n",
       "    }\n",
       "</style>\n",
       "<table border=\"1\" class=\"dataframe\">\n",
       "  <thead>\n",
       "    <tr style=\"text-align: right;\">\n",
       "      <th></th>\n",
       "      <th>0</th>\n",
       "      <th>1</th>\n",
       "      <th>2</th>\n",
       "      <th>3</th>\n",
       "      <th>4</th>\n",
       "    </tr>\n",
       "  </thead>\n",
       "  <tbody>\n",
       "    <tr>\n",
       "      <th>count</th>\n",
       "      <td>100.000000</td>\n",
       "      <td>100.000000</td>\n",
       "      <td>100.000000</td>\n",
       "      <td>100.000000</td>\n",
       "      <td>100.000000</td>\n",
       "    </tr>\n",
       "    <tr>\n",
       "      <th>mean</th>\n",
       "      <td>0.034911</td>\n",
       "      <td>0.190235</td>\n",
       "      <td>-0.100950</td>\n",
       "      <td>-0.004263</td>\n",
       "      <td>0.116401</td>\n",
       "    </tr>\n",
       "    <tr>\n",
       "      <th>std</th>\n",
       "      <td>1.034255</td>\n",
       "      <td>1.028070</td>\n",
       "      <td>1.007634</td>\n",
       "      <td>0.949572</td>\n",
       "      <td>0.971557</td>\n",
       "    </tr>\n",
       "    <tr>\n",
       "      <th>min</th>\n",
       "      <td>-2.302401</td>\n",
       "      <td>-2.333061</td>\n",
       "      <td>-1.948706</td>\n",
       "      <td>-2.523426</td>\n",
       "      <td>-2.512565</td>\n",
       "    </tr>\n",
       "    <tr>\n",
       "      <th>25%</th>\n",
       "      <td>-0.721751</td>\n",
       "      <td>-0.455107</td>\n",
       "      <td>-0.669201</td>\n",
       "      <td>-0.547776</td>\n",
       "      <td>-0.666754</td>\n",
       "    </tr>\n",
       "    <tr>\n",
       "      <th>50%</th>\n",
       "      <td>0.049513</td>\n",
       "      <td>0.076294</td>\n",
       "      <td>-0.221446</td>\n",
       "      <td>-0.062028</td>\n",
       "      <td>0.100696</td>\n",
       "    </tr>\n",
       "    <tr>\n",
       "      <th>75%</th>\n",
       "      <td>0.642087</td>\n",
       "      <td>0.875018</td>\n",
       "      <td>0.519012</td>\n",
       "      <td>0.653824</td>\n",
       "      <td>0.715688</td>\n",
       "    </tr>\n",
       "    <tr>\n",
       "      <th>max</th>\n",
       "      <td>3.232243</td>\n",
       "      <td>2.713665</td>\n",
       "      <td>3.203210</td>\n",
       "      <td>2.694403</td>\n",
       "      <td>2.589358</td>\n",
       "    </tr>\n",
       "  </tbody>\n",
       "</table>\n",
       "</div>"
      ],
      "text/plain": [
       "                0           1           2           3           4\n",
       "count  100.000000  100.000000  100.000000  100.000000  100.000000\n",
       "mean     0.034911    0.190235   -0.100950   -0.004263    0.116401\n",
       "std      1.034255    1.028070    1.007634    0.949572    0.971557\n",
       "min     -2.302401   -2.333061   -1.948706   -2.523426   -2.512565\n",
       "25%     -0.721751   -0.455107   -0.669201   -0.547776   -0.666754\n",
       "50%      0.049513    0.076294   -0.221446   -0.062028    0.100696\n",
       "75%      0.642087    0.875018    0.519012    0.653824    0.715688\n",
       "max      3.232243    2.713665    3.203210    2.694403    2.589358"
      ]
     },
     "execution_count": 34,
     "metadata": {},
     "output_type": "execute_result"
    }
   ],
   "source": [
    "%time x.describe()"
   ]
  },
  {
   "cell_type": "code",
   "execution_count": 35,
   "metadata": {},
   "outputs": [
    {
     "name": "stdout",
     "output_type": "stream",
     "text": [
      "18.1 μs ± 2.04 μs per loop (mean ± std. dev. of 7 runs, 100,000 loops each)\n"
     ]
    }
   ],
   "source": [
    "%timeit sum(range(1000))"
   ]
  },
  {
   "cell_type": "code",
   "execution_count": 36,
   "metadata": {},
   "outputs": [
    {
     "data": {
      "image/png": "[encoded data removed]",
      "text/plain": [
       "<Figure size 640x480 with 1 Axes>"
      ]
     },
     "metadata": {},
     "output_type": "display_data"
    }
   ],
   "source": [
    "%matplotlib inline \n",
    "import matplotlib.pyplot as plt\n",
    "plt.plot([1, 2, 3, 4], [10, 20, 25, 30])\n",
    "plt.show()"
   ]
  },
  {
   "cell_type": "code",
   "execution_count": 37,
   "metadata": {},
   "outputs": [],
   "source": [
    "%reset "
   ]
  },
  {
   "cell_type": "code",
   "execution_count": 38,
   "metadata": {},
   "outputs": [
    {
     "name": "stdout",
     "output_type": "stream",
     "text": [
      "Interactive namespace is empty.\n"
     ]
    }
   ],
   "source": [
    "%whos"
   ]
  },
  {
   "cell_type": "code",
   "execution_count": 39,
   "metadata": {},
   "outputs": [
    {
     "name": "stdout",
     "output_type": "stream",
     "text": [
      "import pandas as pd\n",
      "import numpy as np\n",
      "import matplotlib.pyplot as plt\n",
      "import seaborn as sns\n",
      "%%time\n",
      "import pandas as pd\n",
      "import numpy as np\n",
      "import matplotlib.pyplot as plt\n",
      "import seaborn as sns\n",
      "%pwd # check current directory\n",
      "%cd ../ # change directory\n",
      "%cd c:\\\\Users\\\\aammar\\\\OneDrive\\\\python_ka_chilla\n",
      "%ls\n",
      "%cd c:\\\\Users\\\\aammar\\\\OneDrive\\\\python_ka_chilla\\\\12_magic_commands\n",
      "%ls\n",
      "%who\n",
      "%whos # list all variables with details\n",
      "x = 10\n",
      "%whos # list all variables with details\n",
      "x = pd.DataFrame(np.random.randn(100, 5))\n",
      "x.head()\n",
      "%whos # list all variables with details\n",
      "%who\n",
      "%whos\n",
      "%time x.describe()\n",
      "%timeit sum(range(1000))\n",
      "%matplotlib inline # to show plots in jupyter notebook\n",
      "import matplotlib.pyplot as plt\n",
      "plt.plot([1, 2, 3, 4], [10, 20, 25, 30])\n",
      "plt.show()\n",
      "%matplotlib inline \n",
      "import matplotlib.pyplot as plt\n",
      "plt.plot([1, 2, 3, 4], [10, 20, 25, 30])\n",
      "plt.show()\n",
      "# %matplotlib inline \n",
      "import matplotlib.pyplot as plt\n",
      "plt.plot([1, 2, 3, 4], [10, 20, 25, 30])\n",
      "plt.show()\n",
      "%matplotlib inline \n",
      "import matplotlib.pyplot as plt\n",
      "plt.plot([1, 2, 3, 4], [10, 20, 25, 30])\n",
      "plt.show()\n",
      "%matplotlib inline \n",
      "import matplotlib.pyplot as plt\n",
      "plt.plot([1, 2, 3, 4], [10, 20, 25, 30])\n",
      "# %matplotlib inline \n",
      "import matplotlib.pyplot as plt\n",
      "plt.plot([1, 2, 3, 4], [10, 20, 25, 30])\n",
      "%matplotlib inline \n",
      "import matplotlib.pyplot as plt\n",
      "plt.plot([1, 2, 3, 4], [10, 20, 25, 30])\n",
      "plt.show()\n",
      "%reset # reset all variables\n",
      "%%time\n",
      "import pandas as pd\n",
      "import numpy as np\n",
      "import matplotlib.pyplot as plt\n",
      "import seaborn as sns\n",
      "%pwd # check current directory\n",
      "%cd c:\\\\Users\\\\aammar\\\\OneDrive\\\\python_ka_chilla\\\\12_magic_commands\n",
      "%ls\n",
      "%who # list all variables\n",
      "x = pd.DataFrame(np.random.randn(100, 5))\n",
      "x.head()\n",
      "%whos\n",
      "%time x.describe()\n",
      "%timeit sum(range(1000))\n",
      "%matplotlib inline \n",
      "import matplotlib.pyplot as plt\n",
      "plt.plot([1, 2, 3, 4], [10, 20, 25, 30])\n",
      "plt.show()\n",
      "%reset\n",
      "%whos\n",
      "%history\n"
     ]
    }
   ],
   "source": [
    "%history"
   ]
  },
  {
   "cell_type": "code",
   "execution_count": 40,
   "metadata": {},
   "outputs": [
    {
     "data": {
      "text/plain": [
       "'c:\\\\Users\\\\aammar\\\\OneDrive\\\\python_ka_chilla\\\\12_magic_commands'"
      ]
     },
     "execution_count": 40,
     "metadata": {},
     "output_type": "execute_result"
    }
   ],
   "source": [
    "%pwd"
   ]
  },
  {
   "cell_type": "code",
   "execution_count": 42,
   "metadata": {},
   "outputs": [
    {
     "data": {
      "text/plain": [
       "<Figure size 640x480 with 0 Axes>"
      ]
     },
     "metadata": {},
     "output_type": "display_data"
    }
   ],
   "source": [
    "%run app.py"
   ]
  },
  {
   "cell_type": "code",
   "execution_count": 43,
   "metadata": {},
   "outputs": [],
   "source": [
    "%%capture my_output\n",
    "print('hello Codanians')"
   ]
  },
  {
   "cell_type": "code",
   "execution_count": 45,
   "metadata": {},
   "outputs": [
    {
     "data": {
      "text/html": [
       "<h1> Hello Codanians </h1>\n",
       "<p> This is a paragraph </p>\n",
       "<h2> This is a heading 2 </h2>\n"
      ],
      "text/plain": [
       "<IPython.core.display.HTML object>"
      ]
     },
     "metadata": {},
     "output_type": "display_data"
    }
   ],
   "source": [
    "%%html\n",
    "<h1> Hello Codanians </h1>\n",
    "<p> This is a paragraph </p>\n",
    "<h2> This is a heading 2 </h2>"
   ]
  },
  {
   "cell_type": "code",
   "execution_count": 47,
   "metadata": {},
   "outputs": [
    {
     "name": "stdout",
     "output_type": "stream",
     "text": [
      "Couldn't find program: 'bash'\n"
     ]
    }
   ],
   "source": [
    "%%bash\n",
    "echo \"Running a Bash command!\"\n",
    "ls"
   ]
  },
  {
   "cell_type": "code",
   "execution_count": 48,
   "metadata": {},
   "outputs": [
    {
     "name": "stdout",
     "output_type": "stream",
     "text": [
      "# conda environments:\n",
      "#\n",
      "base                     C:\\Users\\aammar\\miniconda3\n",
      "data_analysis         *  C:\\Users\\aammar\\miniconda3\\envs\\data_analysis\n",
      "dataprep                 C:\\Users\\aammar\\miniconda3\\envs\\dataprep\n",
      "dtale                    C:\\Users\\aammar\\miniconda3\\envs\\dtale\n",
      "lida                     C:\\Users\\aammar\\miniconda3\\envs\\lida\n",
      "pygwalker                C:\\Users\\aammar\\miniconda3\\envs\\pygwalker\n",
      "python_basics            C:\\Users\\aammar\\miniconda3\\envs\\python_basics\n",
      "skimpy                   C:\\Users\\aammar\\miniconda3\\envs\\skimpy\n",
      "sweetviz                 C:\\Users\\aammar\\miniconda3\\envs\\sweetviz\n",
      "ydataprofiling           C:\\Users\\aammar\\miniconda3\\envs\\ydataprofiling\n",
      "python_basics            c:\\Users\\aammar\\miniconda3\\envs\\python_basics\n",
      "\n",
      "\n",
      "Note: you may need to restart the kernel to use updated packages.\n"
     ]
    }
   ],
   "source": [
    "%conda env list"
   ]
  },
  {
   "cell_type": "markdown",
   "metadata": {},
   "source": [
    "Here you can find more commands and their explanations.\n",
    "Link: https://ipython.readthedocs.io/en/stable/interactive/magics.html"
   ]
  },
  {
   "cell_type": "markdown",
   "metadata": {},
   "source": [
    "<h2 style=\"font-family: 'poppins'; font-weight: bold; color: Yellow; background-color: black;\">👨‍💻Author: Dr. Muhammad Aammar Tufail</h2>\n",
    "\n",
    "<h2 style=\"font-family: 'poppins'; font-weight: bold; color: Yellow; background-color: #7d7a21;\">📚Date: 2021-09-30</h2>"
   ]
  }
 ],
 "metadata": {
  "kernelspec": {
   "display_name": "data_analysis",
   "language": "python",
   "name": "python3"
  },
  "language_info": {
   "codemirror_mode": {
    "name": "ipython",
    "version": 3
   },
   "file_extension": ".py",
   "mimetype": "text/x-python",
   "name": "python",
   "nbconvert_exporter": "python",
   "pygments_lexer": "ipython3",
   "version": "3.10.0"
  }
 },
 "nbformat": 4,
 "nbformat_minor": 2
}
